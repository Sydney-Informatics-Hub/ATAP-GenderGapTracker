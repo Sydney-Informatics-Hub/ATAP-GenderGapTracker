{
 "cells": [
  {
   "cell_type": "markdown",
   "id": "80a4ace9",
   "metadata": {},
   "source": [
    "# Quote Extractor\n",
    "The below code can be used to extract quotes from a text, such as newspaper, etc."
   ]
  },
  {
   "cell_type": "code",
   "execution_count": 1,
   "id": "189dd6ea",
   "metadata": {},
   "outputs": [
    {
     "name": "stdout",
     "output_type": "stream",
     "text": [
      "Loading spaCy language model...\n",
      "Finished loading\n"
     ]
    }
   ],
   "source": [
    "# import the quote_extractor package\n",
    "from quote_extractor import *\n",
    "\n",
    "# download spacy's en_core_web_lg\n",
    "print(\"Loading spaCy language model...\")\n",
    "nlp = spacy.load('en_core_web_lg')\n",
    "print(\"Finished loading\")"
   ]
  },
  {
   "cell_type": "code",
   "execution_count": 24,
   "id": "e0135f3c",
   "metadata": {},
   "outputs": [
    {
     "name": "stdout",
     "output_type": "stream",
     "text": [
      "0\n",
      "{'speaker': 'Facebook and Instagram, which Facebook owns', 'speaker_index': '(0,43)', 'quote': \"that Trump wouldn't be able to post for 24 hours following two violations of its policies\", 'quote_index': '(84,173)', 'verb': 'announcing', 'verb_index': '(73,83)', 'quote_token_count': 17, 'quote_type': 'SVC', 'is_floating_quote': False}\n",
      "--------------------------------------------------\n",
      "1\n",
      "{'speaker': 'experts', 'speaker_index': '(289,296)', 'quote': \"that these actions follow years of hemming and hawing regarding Trump and his supporters spreading dangerous misinformation and encouraging violence that contributed to Wednesday's events\", 'quote_index': '(303,490)', 'verb': 'noted', 'verb_index': '(297,302)', 'quote_token_count': 26, 'quote_type': 'SVC', 'is_floating_quote': False}\n",
      "--------------------------------------------------\n",
      "2\n",
      "{'speaker': 'Jennifer Grygiel, a Syracuse University communications professor and an expert on social media,', 'speaker_index': '(493,588)', 'quote': 'what happened in Washington, D.C.', 'quote_index': '(594,627)', 'verb': 'said', 'verb_index': '(589,593)', 'quote_token_count': 6, 'quote_type': 'SVC', 'is_floating_quote': False}\n",
      "--------------------------------------------------\n",
      "3\n",
      "{'speaker': 'Jennifer Grygiel, a Syracuse University communications professor and an expert on social media,', 'speaker_index': '(493,588)', 'quote': \", on Wednesday is a direct result of Trump's use of social media to spread propaganda and disinformation, and that the platforms should bear some responsibility for their previous inaction\", 'quote_index': '(627,815)', 'verb': 'said', 'verb_index': '(589,593)', 'quote_token_count': 32, 'quote_type': 'SVC', 'is_floating_quote': False}\n",
      "--------------------------------------------------\n",
      "4\n",
      "{'speaker': '\" Grygiel', 'speaker_index': '(1039,1048)', 'quote': 'This is what happens,', 'quote_index': '(1018,1039)', 'verb': 'said', 'verb_index': '(1049,1053)', 'quote_token_count': 5, 'quote_type': 'QCQSV', 'is_floating_quote': False}\n",
      "--------------------------------------------------\n",
      "5\n",
      "{'speaker': '\" Grygiel', 'speaker_index': '(1403,1412)', 'quote': \"They're creeping along towards firmer action,\", 'quote_index': '(1358,1403)', 'verb': 'said', 'verb_index': '(1413,1417)', 'quote_token_count': 8, 'quote_type': 'QCQSV', 'is_floating_quote': False}\n",
      "--------------------------------------------------\n",
      "6\n",
      "{'speaker': \"Guy Rosen, Facebook's vice-president of integrity\", 'speaker_index': '(2296,2345)', 'quote': 'that the video was removed because it \"contributes to rather than diminishes the risk of ongoing violence', 'quote_index': '(2373,2478)', 'verb': 'said', 'verb_index': '(2347,2351)', 'quote_token_count': 18, 'quote_type': 'SVC', 'is_floating_quote': False}\n",
      "--------------------------------------------------\n",
      "7\n",
      "{'speaker': 'Rosen', 'speaker_index': '(2610,2615)', 'quote': \"This is an emergency situation and we are taking appropriate emergency measures, including removing President Trump's video\", 'quote_index': '(2484,2607)', 'verb': 'said', 'verb_index': '(2616,2620)', 'quote_token_count': 19, 'quote_type': 'QCQSV', 'is_floating_quote': False}\n",
      "--------------------------------------------------\n",
      "8\n",
      "{'speaker': 'Trump', 'speaker_index': '(2786,2791)', 'quote': '\"I know your pain', 'quote_index': '(2817,2834)', 'verb': 'saying', 'verb_index': '(2809,2815)', 'quote_token_count': 5, 'quote_type': 'SVC', 'is_floating_quote': False}\n",
      "--------------------------------------------------\n",
      "9\n",
      "{'speaker': 'Trump', 'speaker_index': '(2957,2962)', 'quote': '\"We can\\'t play into the hands of these people', 'quote_index': '(2979,3024)', 'verb': 'say', 'verb_index': '(2974,2977)', 'quote_token_count': 11, 'quote_type': 'SVC', 'is_floating_quote': False}\n",
      "--------------------------------------------------\n",
      "10\n",
      "{'speaker': 'Jonathan Greenblatt, chief executive officer of the Anti-Defamation League,', 'speaker_index': '(3855,3930)', 'quote': 'The President has promoted sedition and incited violence', 'quote_index': '(3791,3847)', 'verb': 'said', 'verb_index': '(3850,3854)', 'quote_token_count': 8, 'quote_type': 'QCQVS', 'is_floating_quote': False}\n",
      "--------------------------------------------------\n",
      "11\n",
      "{'speaker': 'Trump', 'speaker_index': '(4153,4158)', 'quote': 'there would be an \"orderly transition on January 20th\"', 'quote_index': '(4164,4218)', 'verb': 'said', 'verb_index': '(4159,4163)', 'quote_token_count': 11, 'quote_type': 'SVC', 'is_floating_quote': False}\n",
      "--------------------------------------------------\n",
      "12\n",
      "{'speaker': 'the Premier', 'speaker_index': '(4659,4670)', 'quote': 'it \"doesn’t seem to pass the pub test\"', 'quote_index': '(4676,4714)', 'verb': 'said', 'verb_index': '(4671,4675)', 'quote_token_count': 11, 'quote_type': 'SVC', 'is_floating_quote': False}\n",
      "--------------------------------------------------\n",
      "13\n",
      "{'speaker': '\" Grygiel', 'speaker_index': '(1039,1048)', 'quote': '\"We didn\\'t just see a breach at the Capitol.Social media platforms have been breached by the president repeatedly.This is disinformation.This was a coup attempt in the United States.\".\\n ', 'quote_index': '(1055,1244)', 'verb': '', 'verb_index': '', 'quote_token_count': 40, 'quote_type': 'QCQ', 'is_floating_quote': True}\n",
      "--------------------------------------------------\n",
      "14\n",
      "{'speaker': '\" Grygiel', 'speaker_index': '(1403,1412)', 'quote': '\"Social media is complicit in this because he has repeatedly used social media to incite violence.It\\'s a culmination of years of propaganda and abuse of media by the president of the United States.\".\\n ', 'quote_index': '(1498,1700)', 'verb': '', 'verb_index': '', 'quote_token_count': 41, 'quote_type': 'QCQ', 'is_floating_quote': True}\n",
      "--------------------------------------------------\n",
      "15\n",
      "{'speaker': 'Jonathan Greenblatt, chief executive officer of the Anti-Defamation League,', 'speaker_index': '(3855,3930)', 'quote': '\"More than anything, what is happening right now at the Capitol is a direct result of the fear and disinformation that has been spewed consistently from the Oval Office.\".\\n ', 'quote_index': '(3947,4120)', 'verb': '', 'verb_index': '', 'quote_token_count': 35, 'quote_type': 'QCQ', 'is_floating_quote': True}\n",
      "--------------------------------------------------\n"
     ]
    }
   ],
   "source": [
    "# enter the file path of the file you wish to extract quotes from\n",
    "file_path = './input/'\n",
    "\n",
    "# specify whether to create a parse tree for the quotes and specify the file path if 'True'\n",
    "write_quote_trees_in_file = False\n",
    "tree_dir = './output/'\n",
    "\n",
    "for input_file in get_rawtext_files(file_path):\n",
    "    #doc_id = input_file.replace(\".txt\", \"\")\n",
    "    \n",
    "    try:\n",
    "        doc_lines = open(os.path.join(file_path, input_file), 'r').readlines()\n",
    "        doc_lines = [line.rstrip() for line in doc_lines if line!='\\n']\n",
    "        #print('doc_lines:',doc_lines)\n",
    "        doc_text = '\\n'.join(doc_lines)\n",
    "        #print('doc_text:',doc_text)\n",
    "        doc_text = utils.preprocess_text(doc_text)\n",
    "        #print('doc_text:',doc_text)\n",
    "        doc = nlp(doc_text)\n",
    "        #print('doc:',doc)\n",
    "        quotes = extract_quotes(doc_id=doc_id, doc=doc, write_tree=write_quote_trees_in_file, tree_dir=tree_dir)\n",
    "\n",
    "        for n, q in enumerate(quotes):\n",
    "            print(n)\n",
    "            print(q)\n",
    "            print('-' * 50)\n",
    "            \n",
    "    except:\n",
    "        app_logger.exception(\"message\")\n",
    "        traceback.print_exc()"
   ]
  },
  {
   "cell_type": "code",
   "execution_count": null,
   "id": "a04223f3",
   "metadata": {},
   "outputs": [],
   "source": [
    "# enter the file path of the file you wish to extract quotes from\n",
    "file_path = './test/'\n",
    "\n",
    "# specify whether to create a parse tree for the quotes and specify the file path if 'True'\n",
    "write_quote_trees_in_file = True\n",
    "tree_dir = file_path\n",
    "\n",
    "for input_file in get_rawtext_files(file_path):\n",
    "    doc_id = input_file.replace(\".txt\", \"\")\n",
    "    \n",
    "    try:\n",
    "        doc_lines = open(os.path.join(file_path, input_file), 'r').readlines()\n",
    "        print('doc_lines:',doc_lines)\n",
    "        doc_text = '\\n'.join(doc_lines)\n",
    "        doc_text = utils.preprocess_text(doc_text)\n",
    "        doc = nlp(doc_text)\n",
    "        quotes = extract_quotes(doc_id=doc_id, doc=doc, write_tree=write_quote_trees_in_file, tree_dir=tree_dir)\n",
    "\n",
    "        for n, q in enumerate(quotes):\n",
    "            print(n)\n",
    "            print(q)\n",
    "            print('-' * 50)\n",
    "            \n",
    "    except:\n",
    "        app_logger.exception(\"message\")\n",
    "        traceback.print_exc()"
   ]
  },
  {
   "cell_type": "code",
   "execution_count": 7,
   "id": "4da78fc7",
   "metadata": {},
   "outputs": [
    {
     "data": {
      "text/plain": [
       "'\"We didn\\'t just see a breach at the Capitol.Social media platforms have been breached by the president repeatedly.This is disinformation.This was a coup attempt in the United States.\".\\n .\\n .\\n .\\n Grygiel said the platform\\'s decision to remove the video — and Twitter\\'s suspension — are too little, too late.\\n .\\n .\\n .\\n \"'"
      ]
     },
     "execution_count": 7,
     "metadata": {},
     "output_type": "execute_result"
    }
   ],
   "source": [
    "quotes[13]['quote']"
   ]
  },
  {
   "cell_type": "code",
   "execution_count": 12,
   "id": "d730b5e8",
   "metadata": {},
   "outputs": [
    {
     "data": {
      "text/plain": [
       "'\"We didn\\'t just see a breach at the Capitol.Social media platforms have been breached by the president repeatedly.This is disinformation.This was a coup attempt in the United States.\".\\n .\\n .\\n .\\n Grygiel said the platform\\'s decision to remove the video — and Twitter\\'s suspension — are too little, too late.\\n .\\n .\\n .\\n \"'"
      ]
     },
     "execution_count": 12,
     "metadata": {},
     "output_type": "execute_result"
    }
   ],
   "source": [
    "import re\n",
    "\n",
    "test = quotes[13]['quote']\n",
    "test = re.sub(r'\\\\n', '', test) \n",
    "#test = re.sub(r'\\', '', test)  \n",
    "test"
   ]
  },
  {
   "cell_type": "code",
   "execution_count": null,
   "id": "6658bda8",
   "metadata": {},
   "outputs": [],
   "source": []
  }
 ],
 "metadata": {
  "kernelspec": {
   "display_name": "Python 3",
   "language": "python",
   "name": "python3"
  },
  "language_info": {
   "codemirror_mode": {
    "name": "ipython",
    "version": 3
   },
   "file_extension": ".py",
   "mimetype": "text/x-python",
   "name": "python",
   "nbconvert_exporter": "python",
   "pygments_lexer": "ipython3",
   "version": "3.6.13"
  }
 },
 "nbformat": 4,
 "nbformat_minor": 5
}
