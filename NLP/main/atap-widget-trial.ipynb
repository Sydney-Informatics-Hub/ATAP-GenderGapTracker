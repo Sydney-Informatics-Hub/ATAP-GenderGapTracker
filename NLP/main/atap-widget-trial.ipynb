{
 "cells": [
  {
   "cell_type": "code",
   "execution_count": 68,
   "id": "650e00a9",
   "metadata": {},
   "outputs": [],
   "source": [
    "from atap_widgets.concordance import (\n",
    "    ConcordanceTable,\n",
    "    ConcordanceWidget,\n",
    "    prepare_text_df,\n",
    ")"
   ]
  },
  {
   "cell_type": "code",
   "execution_count": 69,
   "id": "81a51794",
   "metadata": {},
   "outputs": [
    {
     "data": {
      "text/html": [
       "<div>\n",
       "<style scoped>\n",
       "    .dataframe tbody tr th:only-of-type {\n",
       "        vertical-align: middle;\n",
       "    }\n",
       "\n",
       "    .dataframe tbody tr th {\n",
       "        vertical-align: top;\n",
       "    }\n",
       "\n",
       "    .dataframe thead th {\n",
       "        text-align: right;\n",
       "    }\n",
       "</style>\n",
       "<table border=\"1\" class=\"dataframe\">\n",
       "  <thead>\n",
       "    <tr style=\"text-align: right;\">\n",
       "      <th></th>\n",
       "      <th>text_id</th>\n",
       "      <th>texts</th>\n",
       "    </tr>\n",
       "  </thead>\n",
       "  <tbody>\n",
       "    <tr>\n",
       "      <th>0</th>\n",
       "      <td>text1</td>\n",
       "      <td>Facebook and Instagram, which Facebook owns, f...</td>\n",
       "    </tr>\n",
       "    <tr>\n",
       "      <th>1</th>\n",
       "      <td>text2</td>\n",
       "      <td>(CBC News)\\nRepublican lawmakers and previous ...</td>\n",
       "    </tr>\n",
       "  </tbody>\n",
       "</table>\n",
       "</div>"
      ],
      "text/plain": [
       "  text_id                                              texts\n",
       "0   text1  Facebook and Instagram, which Facebook owns, f...\n",
       "1   text2  (CBC News)\\nRepublican lawmakers and previous ..."
      ]
     },
     "execution_count": 69,
     "metadata": {},
     "output_type": "execute_result"
    }
   ],
   "source": [
    "import pandas as pd\n",
    "\n",
    "# enter the file path and the file name of the excel spreadsheet containing the text\n",
    "file_path = './input/'\n",
    "file_name = 'text_files.xlsx'\n",
    "\n",
    "# read the pandas dataframe containing the list of texts\n",
    "text_df = pd.read_excel(file_path + file_name)\n",
    "text_df.head()"
   ]
  },
  {
   "cell_type": "code",
   "execution_count": 70,
   "id": "ae263749",
   "metadata": {},
   "outputs": [
    {
     "data": {
      "text/html": [
       "<div>\n",
       "<style scoped>\n",
       "    .dataframe tbody tr th:only-of-type {\n",
       "        vertical-align: middle;\n",
       "    }\n",
       "\n",
       "    .dataframe tbody tr th {\n",
       "        vertical-align: top;\n",
       "    }\n",
       "\n",
       "    .dataframe thead th {\n",
       "        text-align: right;\n",
       "    }\n",
       "</style>\n",
       "<table border=\"1\" class=\"dataframe\">\n",
       "  <thead>\n",
       "    <tr style=\"text-align: right;\">\n",
       "      <th></th>\n",
       "      <th>quote_id</th>\n",
       "      <th>quote</th>\n",
       "      <th>quote_index</th>\n",
       "      <th>quote_token_count</th>\n",
       "      <th>quote_type</th>\n",
       "      <th>is_floating_quote</th>\n",
       "      <th>speaker</th>\n",
       "      <th>speaker_index</th>\n",
       "      <th>verb</th>\n",
       "      <th>verb_index</th>\n",
       "    </tr>\n",
       "  </thead>\n",
       "  <tbody>\n",
       "    <tr>\n",
       "      <th>0</th>\n",
       "      <td>text1-1</td>\n",
       "      <td>\"We didn't just see a breach at the Capitol. S...</td>\n",
       "      <td>(1052,1238)</td>\n",
       "      <td>38</td>\n",
       "      <td>Heuristic</td>\n",
       "      <td>False</td>\n",
       "      <td>Grygiel</td>\n",
       "      <td>(1239,1246)</td>\n",
       "      <td>said</td>\n",
       "      <td>(1247,1251)</td>\n",
       "    </tr>\n",
       "    <tr>\n",
       "      <th>1</th>\n",
       "      <td>text1-2</td>\n",
       "      <td>that Trump wouldn't be able to post for 24 hou...</td>\n",
       "      <td>(84,173)</td>\n",
       "      <td>17</td>\n",
       "      <td>SVC</td>\n",
       "      <td>False</td>\n",
       "      <td>Facebook and Instagram, which Facebook owns</td>\n",
       "      <td>(0,43)</td>\n",
       "      <td>announcing</td>\n",
       "      <td>(73,83)</td>\n",
       "    </tr>\n",
       "    <tr>\n",
       "      <th>2</th>\n",
       "      <td>text1-3</td>\n",
       "      <td>that these actions follow years of hemming and...</td>\n",
       "      <td>(302,489)</td>\n",
       "      <td>26</td>\n",
       "      <td>SVC</td>\n",
       "      <td>False</td>\n",
       "      <td>experts</td>\n",
       "      <td>(288,295)</td>\n",
       "      <td>noted</td>\n",
       "      <td>(296,301)</td>\n",
       "    </tr>\n",
       "    <tr>\n",
       "      <th>3</th>\n",
       "      <td>text1-4</td>\n",
       "      <td>what happened in Washington, D.C.</td>\n",
       "      <td>(592,625)</td>\n",
       "      <td>6</td>\n",
       "      <td>SVC</td>\n",
       "      <td>False</td>\n",
       "      <td>Jennifer Grygiel, a Syracuse University commun...</td>\n",
       "      <td>(491,586)</td>\n",
       "      <td>said</td>\n",
       "      <td>(587,591)</td>\n",
       "    </tr>\n",
       "    <tr>\n",
       "      <th>4</th>\n",
       "      <td>text1-5</td>\n",
       "      <td>, on Wednesday is a direct result of Trump's u...</td>\n",
       "      <td>(625,813)</td>\n",
       "      <td>32</td>\n",
       "      <td>SVC</td>\n",
       "      <td>False</td>\n",
       "      <td>Jennifer Grygiel, a Syracuse University commun...</td>\n",
       "      <td>(491,586)</td>\n",
       "      <td>said</td>\n",
       "      <td>(587,591)</td>\n",
       "    </tr>\n",
       "  </tbody>\n",
       "</table>\n",
       "</div>"
      ],
      "text/plain": [
       "  quote_id                                              quote  quote_index  \\\n",
       "0  text1-1  \"We didn't just see a breach at the Capitol. S...  (1052,1238)   \n",
       "1  text1-2  that Trump wouldn't be able to post for 24 hou...     (84,173)   \n",
       "2  text1-3  that these actions follow years of hemming and...    (302,489)   \n",
       "3  text1-4                  what happened in Washington, D.C.    (592,625)   \n",
       "4  text1-5  , on Wednesday is a direct result of Trump's u...    (625,813)   \n",
       "\n",
       "   quote_token_count quote_type  is_floating_quote  \\\n",
       "0                 38  Heuristic              False   \n",
       "1                 17        SVC              False   \n",
       "2                 26        SVC              False   \n",
       "3                  6        SVC              False   \n",
       "4                 32        SVC              False   \n",
       "\n",
       "                                             speaker speaker_index  \\\n",
       "0                                            Grygiel   (1239,1246)   \n",
       "1        Facebook and Instagram, which Facebook owns        (0,43)   \n",
       "2                                            experts     (288,295)   \n",
       "3  Jennifer Grygiel, a Syracuse University commun...     (491,586)   \n",
       "4  Jennifer Grygiel, a Syracuse University commun...     (491,586)   \n",
       "\n",
       "         verb   verb_index  \n",
       "0        said  (1247,1251)  \n",
       "1  announcing      (73,83)  \n",
       "2       noted    (296,301)  \n",
       "3        said    (587,591)  \n",
       "4        said    (587,591)  "
      ]
     },
     "execution_count": 70,
     "metadata": {},
     "output_type": "execute_result"
    }
   ],
   "source": [
    "# enter the file path and the file name of the excel spreadsheet containing the text\n",
    "file_path = './output/'\n",
    "file_name = 'quotes.xlsx'\n",
    "\n",
    "# read the pandas dataframe containing the list of texts\n",
    "quote_df = pd.read_excel(file_path + file_name)\n",
    "quote_df.head()"
   ]
  },
  {
   "cell_type": "code",
   "execution_count": 71,
   "id": "a9b3be17",
   "metadata": {},
   "outputs": [
    {
     "name": "stdout",
     "output_type": "stream",
     "text": [
      "\"We didn't just see a breach at the Capitol. Social media platforms have been breached by the president repeatedly. This is disinformation. This was a coup attempt in the United States.\"\n"
     ]
    }
   ],
   "source": [
    "print(quote_df['quote'][0])"
   ]
  },
  {
   "cell_type": "code",
   "execution_count": 72,
   "id": "ef7a8c60",
   "metadata": {},
   "outputs": [
    {
     "data": {
      "text/html": [
       "\n",
       "\n",
       "<style>\n",
       "#atap_68ab2ad2-c243-4d9b-9671-6831c5322321 table {\n",
       "  background-color: #f9f9f9;\n",
       "}\n",
       "\n",
       "#atap_68ab2ad2-c243-4d9b-9671-6831c5322321 tbody tr:nth-child(odd) {\n",
       "  background-color: #f9f9f9;\n",
       "}\n",
       "\n",
       "#atap_68ab2ad2-c243-4d9b-9671-6831c5322321 tbody tr:nth-child(even) {\n",
       "  background-color: #dddddd;\n",
       "}\n",
       "\n",
       "#atap_68ab2ad2-c243-4d9b-9671-6831c5322321 .atap.search_highlight {\n",
       "    background-color: #99CC99;\n",
       "    padding-left: 0px;\n",
       "    padding-right: 0px;\n",
       "}\n",
       "\n",
       "#atap_68ab2ad2-c243-4d9b-9671-6831c5322321 .atap.context {\n",
       "    color: #444;\n",
       "    white-space: pre;\n",
       "}\n",
       "#atap_68ab2ad2-c243-4d9b-9671-6831c5322321 .atap.context.context_left {\n",
       "    text-align: right;\n",
       "    padding-right: 0px;\n",
       "}\n",
       "#atap_68ab2ad2-c243-4d9b-9671-6831c5322321 .atap.context.context_right {\n",
       "    text-align: left;\n",
       "    padding-left: 0px;\n",
       "}\n",
       "#atap_68ab2ad2-c243-4d9b-9671-6831c5322321.search_table th {\n",
       "    text-align: left;\n",
       "}\n",
       "\n",
       "#atap_68ab2ad2-c243-4d9b-9671-6831c5322321.search_table td {\n",
       "    border: none;\n",
       "}\n",
       "\n",
       "#atap_68ab2ad2-c243-4d9b-9671-6831c5322321 td.text_id {\n",
       "    border-right: 1px solid #bdbdbd;\n",
       "}\n",
       "\n",
       "#atap_68ab2ad2-c243-4d9b-9671-6831c5322321 .atap.regex_error {\n",
       "    background-color: #CC9999;\n",
       "}\n",
       "</style>\n",
       "\n",
       "<table id=\"atap_68ab2ad2-c243-4d9b-9671-6831c5322321\" class=\"atap search_table\">\n",
       "    <thead>\n",
       "        <tr>\n",
       "            <th>Document ID</th>\n",
       "            <th>Result</th>\n",
       "            <th/>\n",
       "            <th/>\n",
       "        </tr>\n",
       "    </thead>\n",
       "    <tbody>\n",
       "        \n",
       "<tr>\n",
       "    <td class=\"atap text_id\">text1</td>\n",
       "    <td class=\"atap context context_left\">.S. Capitol\n",
       "\"This is what happens,\" Grygiel said. </td>\n",
       "    <td class=\"atap search_highlight\">\"We didn't just see a breach at the Capitol. Social media platforms have been breached by the president repeatedly. This is disinformation. This was a coup attempt in the United States.\"</td>\n",
       "    <td class=\"atap context context_right\">\n",
       "\n",
       "Grygiel said the platform's decision to remove t</td>\n",
       "</tr>\n",
       "\n",
       "    </body>\n",
       "</table>\n",
       "1 results. A maximum of 10 are displayed.\n"
      ],
      "text/plain": [
       "<atap_widgets.concordance.ConcordanceTable at 0x7fcad1994280>"
      ]
     },
     "execution_count": 72,
     "metadata": {},
     "output_type": "execute_result"
    }
   ],
   "source": [
    "data = prepare_text_df(text_df, text_column=\"texts\", id_column=\"text_id\")\n",
    "\n",
    "table = ConcordanceTable(data, keyword=quote_df['quote'][0], results_per_page=10)\n",
    "table"
   ]
  },
  {
   "cell_type": "code",
   "execution_count": 73,
   "id": "81427caa",
   "metadata": {},
   "outputs": [
    {
     "data": {
      "application/vnd.jupyter.widget-view+json": {
       "model_id": "3b8e7263bb33403abeef2dbf33081c81",
       "version_major": 2,
       "version_minor": 0
      },
      "text/plain": [
       "VBox(children=(Text(value='', description='Keyword(s):'), HBox(children=(Checkbox(value=False, description='En…"
      ]
     },
     "metadata": {},
     "output_type": "display_data"
    }
   ],
   "source": [
    "widget = ConcordanceWidget(data, results_per_page=10)\n",
    "widget.show()"
   ]
  },
  {
   "cell_type": "code",
   "execution_count": 74,
   "id": "97e59390",
   "metadata": {},
   "outputs": [
    {
     "data": {
      "text/plain": [
       "'\"We didn\\'t just see a breach at the Capitol. Social media platforms have been breached by the president repeatedly. This is disinformation. This was a coup attempt in the United States.\"'"
      ]
     },
     "execution_count": 74,
     "metadata": {},
     "output_type": "execute_result"
    }
   ],
   "source": [
    "doc = quote_df['quote'][0]\n",
    "doc"
   ]
  },
  {
   "cell_type": "code",
   "execution_count": 75,
   "id": "4d904d9e",
   "metadata": {},
   "outputs": [
    {
     "data": {
      "text/plain": [
       "'Facebook and Instagram, which Facebook owns, followed up in the evening, announcing that Trump wouldn\\'t be able to post for 24 hours following two violations of its policies. The White House did not immediately offer a response to the actions.\\n\\nWhile some cheered the platforms\\' response, experts noted that these actions follow years of hemming and hawing regarding Trump and his supporters spreading dangerous misinformation and encouraging violence that contributed to Wednesday\\'s events.\\n\\nJennifer Grygiel, a Syracuse University communications professor and an expert on social media, said what happened in Washington, D.C., on Wednesday is a direct result of Trump\\'s use of social media to spread propaganda and disinformation, and that the platforms should bear some responsibility for their previous inaction.\\n\\nPolice secure U.S. Capitol after pro-Trump rioters cause bedlam at heart of U.S. government\\nSenate, House resoundingly reject 1st challenge to Biden win hours after angry mob storms U.S. Capitol\\n\"This is what happens,\" Grygiel said. \"We didn\\'t just see a breach at the Capitol. Social media platforms have been breached by the president repeatedly. This is disinformation. This was a coup attempt in the United States.\"\\n\\nGrygiel said the platform\\'s decision to remove the video — and Twitter\\'s suspension — are too little, too late.\\n\\n\"They\\'re creeping along towards firmer action,\" Grygiel said, calling Trump \"Exhibit A\" for the need for greater regulation of social media. \"Social media is complicit in this because he has repeatedly used social media to incite violence. It\\'s a culmination of years of propaganda and abuse of media by the president of the United States.\"\\n\\n\\nAn explosion caused by a police munition is seen while supporters of U.S. President Donald Trump gather in front of the U.S. Capitol in Washington on Jan. 6. Congress had been meeting to ratify president-elect Joe Biden\\'s 306-232 electoral college win over Trump. (Leah Millis/Reuters)\\nShow next image (2 of 25)\\nHide caption\\nToggle Fullscreen1 of 25\\nTrump posted the video more than two hours after protesters entered the Capitol, interrupting lawmakers meeting in a joint session to confirm the electoral college results and president-elect Joe Biden\\'s victory.\\n\\nToo little, too late?\\nGuy Rosen, Facebook\\'s vice-president of integrity, said on Twitter Wednesday that the video was removed because it \"contributes to rather than diminishes the risk of ongoing violence.\"\\n\\n\"This is an emergency situation and we are taking appropriate emergency measures, including removing President Trump\\'s video,\" Rosen said.\\n\\n\\nTwitter initially left the video up but blocked people from being able to retweet it or comment on it. Only later in the day did the platform delete it entirely.\\n\\nTrump opened his video saying, \"I know your pain. I know your hurt. But you have to go home now.\"\\n\\nAfter repeating false claims about voter fraud affecting the election, Trump went on to say: \"We can\\'t play into the hands of these people. We have to have peace. So go home. We love you. You\\'re very special.\"'"
      ]
     },
     "execution_count": 75,
     "metadata": {},
     "output_type": "execute_result"
    }
   ],
   "source": [
    "text_df['texts'][0]"
   ]
  },
  {
   "cell_type": "code",
   "execution_count": null,
   "id": "235ff368",
   "metadata": {},
   "outputs": [],
   "source": []
  },
  {
   "cell_type": "code",
   "execution_count": 76,
   "id": "9924b10f",
   "metadata": {},
   "outputs": [
    {
     "data": {
      "text/plain": [
       "[('Facebook and Instagram, which Facebook owns, followed up in the evening, announcing that Trump wouldn\\'t be able to post for 24 hours following two violations of its policies. The White House did not immediately offer a response to the actions.\\n\\nWhile some cheered the platforms\\' response, experts noted that these actions follow years of hemming and hawing regarding Trump and his supporters spreading dangerous misinformation and encouraging violence that contributed to Wednesday\\'s events.\\n\\nJennifer Grygiel, a Syracuse University communications professor and an expert on social media, said what happened in Washington, D.C., on Wednesday is a direct result of Trump\\'s use of social media to spread propaganda and disinformation, and that the platforms should bear some responsibility for their previous inaction.\\n\\nPolice secure U.S. Capitol after pro-Trump rioters cause bedlam at heart of U.S. government\\nSenate, House resoundingly reject 1st challenge to Biden win hours after angry mob storms U.S. Capitol\\n\"This is what happens,\" Grygiel said. ',\n",
       "  '\"We didn\\'t just see a breach at the Capitol. Social media platforms have been breached by the president repeatedly. This is disinformation. This was a coup attempt in the United States.\"',\n",
       "  '\\n\\nGrygiel said the platform\\'s decision to remove the video — and Twitter\\'s suspension — are too little, too late.\\n\\n\"They\\'re creeping along towards firmer action,\" Grygiel said, calling Trump \"Exhibit A\" for the need for greater regulation of social media. \"Social media is complicit in this because he has repeatedly used social media to incite violence. It\\'s a culmination of years of propaganda and abuse of media by the president of the United States.\"\\n\\n\\nAn explosion caused by a police munition is seen while supporters of U.S. President Donald Trump gather in front of the U.S. Capitol in Washington on Jan. 6. Congress had been meeting to ratify president-elect Joe Biden\\'s 306-232 electoral college win over Trump. (Leah Millis/Reuters)\\nShow next image (2 of 25)\\nHide caption\\nToggle Fullscreen1 of 25\\nTrump posted the video more than two hours after protesters entered the Capitol, interrupting lawmakers meeting in a joint session to confirm the electoral college results and president-elect Joe Biden\\'s victory.\\n\\nToo little, too late?\\nGuy Rosen, Facebook\\'s vice-president of integrity, said on Twitter Wednesday that the video was removed because it \"contributes to rather than diminishes the risk of ongoing violence.\"\\n\\n\"This is an emergency situation and we are taking appropriate emergency measures, including removing President Trump\\'s video,\" Rosen said.\\n\\n\\nTwitter initially left the video up but blocked people from being able to retweet it or comment on it. Only later in the day did the platform delete it entirely.\\n\\nTrump opened his video saying, \"I know your pain. I know your hurt. But you have to go home now.\"\\n\\nAfter repeating false claims about voter fraud affecting the election, Trump went on to say: \"We can\\'t play into the hands of these people. We have to have peace. So go home. We love you. You\\'re very special.\"')]"
      ]
     },
     "execution_count": 76,
     "metadata": {},
     "output_type": "execute_result"
    }
   ],
   "source": [
    "import textacy.extract\n",
    "found = list(textacy.extract.keyword_in_context(text_df['texts'][0], doc, window_width=len(text_df['texts'][0])))\n",
    "found"
   ]
  },
  {
   "cell_type": "code",
   "execution_count": 77,
   "id": "8e78307a",
   "metadata": {},
   "outputs": [
    {
     "data": {
      "text/plain": [
       "'Facebook and Instagram, which Facebook owns, followed up in the evening, announcing that Trump wouldn\\'t be able to post for 24 hours following two violations of its policies. The White House did not immediately offer a response to the actions.\\n\\nWhile some cheered the platforms\\' response, experts noted that these actions follow years of hemming and hawing regarding Trump and his supporters spreading dangerous misinformation and encouraging violence that contributed to Wednesday\\'s events.\\n\\nJennifer Grygiel, a Syracuse University communications professor and an expert on social media, said what happened in Washington, D.C., on Wednesday is a direct result of Trump\\'s use of social media to spread propaganda and disinformation, and that the platforms should bear some responsibility for their previous inaction.\\n\\nPolice secure U.S. Capitol after pro-Trump rioters cause bedlam at heart of U.S. government\\nSenate, House resoundingly reject 1st challenge to Biden win hours after angry mob storms U.S. Capitol\\n\"This is what happens,\" Grygiel said.  \"We didn\\'t just see a breach at the Capitol. Social media platforms have been breached by the president repeatedly. This is disinformation. This was a coup attempt in the United States.\" \\n\\nGrygiel said the platform\\'s decision to remove the video — and Twitter\\'s suspension — are too little, too late.\\n\\n\"They\\'re creeping along towards firmer action,\" Grygiel said, calling Trump \"Exhibit A\" for the need for greater regulation of social media. \"Social media is complicit in this because he has repeatedly used social media to incite violence. It\\'s a culmination of years of propaganda and abuse of media by the president of the United States.\"\\n\\n\\nAn explosion caused by a police munition is seen while supporters of U.S. President Donald Trump gather in front of the U.S. Capitol in Washington on Jan. 6. Congress had been meeting to ratify president-elect Joe Biden\\'s 306-232 electoral college win over Trump. (Leah Millis/Reuters)\\nShow next image (2 of 25)\\nHide caption\\nToggle Fullscreen1 of 25\\nTrump posted the video more than two hours after protesters entered the Capitol, interrupting lawmakers meeting in a joint session to confirm the electoral college results and president-elect Joe Biden\\'s victory.\\n\\nToo little, too late?\\nGuy Rosen, Facebook\\'s vice-president of integrity, said on Twitter Wednesday that the video was removed because it \"contributes to rather than diminishes the risk of ongoing violence.\"\\n\\n\"This is an emergency situation and we are taking appropriate emergency measures, including removing President Trump\\'s video,\" Rosen said.\\n\\n\\nTwitter initially left the video up but blocked people from being able to retweet it or comment on it. Only later in the day did the platform delete it entirely.\\n\\nTrump opened his video saying, \"I know your pain. I know your hurt. But you have to go home now.\"\\n\\nAfter repeating false claims about voter fraud affecting the election, Trump went on to say: \"We can\\'t play into the hands of these people. We have to have peace. So go home. We love you. You\\'re very special.\"'"
      ]
     },
     "execution_count": 77,
     "metadata": {},
     "output_type": "execute_result"
    }
   ],
   "source": [
    "\" \".join(found[0])"
   ]
  },
  {
   "cell_type": "code",
   "execution_count": null,
   "id": "ae4721c8",
   "metadata": {},
   "outputs": [],
   "source": []
  },
  {
   "cell_type": "code",
   "execution_count": 78,
   "id": "7684b758",
   "metadata": {},
   "outputs": [
    {
     "data": {
      "text/plain": [
       "[(\"remove the video — and Twitter's suspension — are \",\n",
       "  'too little',\n",
       "  ', too late.\\n\\n\"They\\'re creeping along towards firme'),\n",
       " (\"results and president-elect Joe Biden's victory.\\n\\n\",\n",
       "  'Too little',\n",
       "  \", too late?\\nGuy Rosen, Facebook's vice-president o\")]"
      ]
     },
     "execution_count": 78,
     "metadata": {},
     "output_type": "execute_result"
    }
   ],
   "source": [
    "found = list(textacy.extract.keyword_in_context(text_df['texts'][0], 'too little', window_width=50))\n",
    "found"
   ]
  },
  {
   "cell_type": "code",
   "execution_count": 79,
   "id": "089a9f7a",
   "metadata": {},
   "outputs": [
    {
     "data": {
      "text/plain": [
       "['Facebook and Instagram, which Facebook owns, followed up in the evening, announcing that Trump wouldn\\'t be able to post for 24 hours following two violations of its policies. The White House did not immediately offer a response to the actions.\\n\\nWhile some cheered the platforms\\' response, experts noted that these actions follow years of hemming and hawing regarding Trump and his supporters spreading dangerous misinformation and encouraging violence that contributed to Wednesday\\'s events.\\n\\nJennifer Grygiel, a Syracuse University communications professor and an expert on social media, said what happened in Washington, D.C., on Wednesday is a direct result of Trump\\'s use of social media to spread propaganda and disinformation, and that the platforms should bear some responsibility for their previous inaction.\\n\\nPolice secure U.S. Capitol after pro-Trump rioters cause bedlam at heart of U.S. government\\nSenate, House resoundingly reject 1st challenge to Biden win hours after angry mob storms U.S. Capitol\\n\"This is what happens,\" Grygiel said. \"We didn\\'t just see a breach at the Capitol. Social media platforms have been breached by the president repeatedly. This is disinformation. This was a coup attempt in the United States.\"\\n\\nGrygiel said the platform\\'s decision to remove the video — and Twitter\\'s suspension — are ',\n",
       " ', too late.\\n\\n\"They\\'re creeping along towards firmer action,\" Grygiel said, calling Trump \"Exhibit A\" for the need for greater regulation of social media. \"Social media is complicit in this because he has repeatedly used social media to incite violence. It\\'s a culmination of years of propaganda and abuse of media by the president of the United States.\"\\n\\n\\nAn explosion caused by a police munition is seen while supporters of U.S. President Donald Trump gather in front of the U.S. Capitol in Washington on Jan. 6. Congress had been meeting to ratify president-elect Joe Biden\\'s 306-232 electoral college win over Trump. (Leah Millis/Reuters)\\nShow next image (2 of 25)\\nHide caption\\nToggle Fullscreen1 of 25\\nTrump posted the video more than two hours after protesters entered the Capitol, interrupting lawmakers meeting in a joint session to confirm the electoral college results and president-elect Joe Biden\\'s victory.\\n\\nToo little, too late?\\nGuy Rosen, Facebook\\'s vice-president of integrity, said on Twitter Wednesday that the video was removed because it \"contributes to rather than diminishes the risk of ongoing violence.\"\\n\\n\"This is an emergency situation and we are taking appropriate emergency measures, including removing President Trump\\'s video,\" Rosen said.\\n\\n\\nTwitter initially left the video up but blocked people from being able to retweet it or comment on it. Only later in the day did the platform delete it entirely.\\n\\nTrump opened his video saying, \"I know your pain. I know your hurt. But you have to go home now.\"\\n\\nAfter repeating false claims about voter fraud affecting the election, Trump went on to say: \"We can\\'t play into the hands of these people. We have to have peace. So go home. We love you. You\\'re very special.\"']"
      ]
     },
     "execution_count": 79,
     "metadata": {},
     "output_type": "execute_result"
    }
   ],
   "source": [
    "text_df['texts'][0].split('too little')"
   ]
  },
  {
   "cell_type": "code",
   "execution_count": 80,
   "id": "1090349a",
   "metadata": {},
   "outputs": [
    {
     "name": "stdout",
     "output_type": "stream",
     "text": [
      "CHEESY\n"
     ]
    }
   ],
   "source": [
    "from colorama import init, Fore, Back, Style\n",
    "\n",
    "print(Style.BRIGHT + Back.YELLOW + Fore.RED + \"CHEESY\")"
   ]
  },
  {
   "cell_type": "code",
   "execution_count": 81,
   "id": "d83d6b9c",
   "metadata": {},
   "outputs": [
    {
     "name": "stdout",
     "output_type": "stream",
     "text": [
      "hello world\n"
     ]
    }
   ],
   "source": [
    "from colorama import Fore, Back, Style\n",
    "print(Fore.GREEN + Back.RED + Style.DIM + \"hello world\")"
   ]
  },
  {
   "cell_type": "code",
   "execution_count": 1,
   "id": "91835f81",
   "metadata": {},
   "outputs": [
    {
     "name": "stdout",
     "output_type": "stream",
     "text": [
      "\u001b[5m\u001b[7m\u001b[31mHello, World!\u001b[0m\n",
      "\u001b[41m\u001b[32mHello, World!\u001b[0m\n",
      "\u001b[46m\u001b[31mHello, World!\u001b[0m\n",
      "\u001b[46m\u001b[31mHello, Universe!\u001b[0m\n",
      "\u001b[35m0\u001b[0m \u001b[35m1\u001b[0m \u001b[35m2\u001b[0m \u001b[35m3\u001b[0m \u001b[35m4\u001b[0m \u001b[35m5\u001b[0m \u001b[35m6\u001b[0m \u001b[35m7\u001b[0m \u001b[35m8\u001b[0m \u001b[35m9\u001b[0m "
     ]
    },
    {
     "name": "stderr",
     "output_type": "stream",
     "text": [
      "\u001b[1m\u001b[31mAttention!\u001b[0m\n"
     ]
    }
   ],
   "source": [
    "import sys\n",
    "from termcolor import colored, cprint\n",
    "\n",
    "text = colored('Hello, World!', 'red', attrs=['reverse', 'blink'])\n",
    "print(text)\n",
    "cprint('Hello, World!', 'green', 'on_red')\n",
    "\n",
    "print_red_on_cyan = lambda x: cprint(x, 'red', 'on_cyan')\n",
    "print_red_on_cyan('Hello, World!')\n",
    "print_red_on_cyan('Hello, Universe!')\n",
    "\n",
    "for i in range(10):\n",
    "    cprint(i, 'magenta', end=' ')\n",
    "\n",
    "cprint(\"Attention!\", 'red', attrs=['bold'], file=sys.stderr)"
   ]
  },
  {
   "cell_type": "code",
   "execution_count": 3,
   "id": "5f029f4e",
   "metadata": {},
   "outputs": [
    {
     "name": "stdout",
     "output_type": "stream",
     "text": [
      "\u001b[31m\"red\"\u001b[0m\n"
     ]
    }
   ],
   "source": [
    "print(\"\\x1b[31m\\\"red\\\"\\x1b[0m\")"
   ]
  },
  {
   "cell_type": "code",
   "execution_count": 4,
   "id": "623c7e26",
   "metadata": {},
   "outputs": [
    {
     "name": "stdout",
     "output_type": "stream",
     "text": [
      "\u001b[31m\"red\"\u001b[0m\n"
     ]
    }
   ],
   "source": [
    "print(\"\\x1b[31m\\\"red\\\"\\x1b[0m\")"
   ]
  },
  {
   "cell_type": "code",
   "execution_count": 5,
   "id": "a76b9f6b",
   "metadata": {},
   "outputs": [
    {
     "name": "stderr",
     "output_type": "stream",
     "text": [
      "blue text on stderr\n"
     ]
    }
   ],
   "source": [
    "import sys\n",
    "from colorama import init, AnsiToWin32\n",
    "init(wrap=False)\n",
    "stream = AnsiToWin32(sys.stderr).stream\n",
    "\n",
    "# Python 3\n",
    "print('blue text on stderr', file=stream)"
   ]
  },
  {
   "cell_type": "code",
   "execution_count": 6,
   "id": "768c1257",
   "metadata": {},
   "outputs": [
    {
     "name": "stdout",
     "output_type": "stream",
     "text": [
      "\u001b[31mhello world\u001b[0m\n"
     ]
    }
   ],
   "source": [
    "from termcolor import colored\n",
    "\n",
    "print(colored('hello world','red'))"
   ]
  },
  {
   "cell_type": "code",
   "execution_count": 7,
   "id": "22b159be",
   "metadata": {},
   "outputs": [
    {
     "name": "stdout",
     "output_type": "stream",
     "text": [
      "\u001b[6;30;42mSuccess!\u001b[0m\n"
     ]
    }
   ],
   "source": [
    "print('\\x1b[6;30;42m' + 'Success!' + '\\x1b[0m')"
   ]
  },
  {
   "cell_type": "code",
   "execution_count": null,
   "id": "be82a00e",
   "metadata": {},
   "outputs": [],
   "source": []
  }
 ],
 "metadata": {
  "kernelspec": {
   "display_name": "Python 3 (ipykernel)",
   "language": "python",
   "name": "python3"
  },
  "language_info": {
   "codemirror_mode": {
    "name": "ipython",
    "version": 3
   },
   "file_extension": ".py",
   "mimetype": "text/x-python",
   "name": "python",
   "nbconvert_exporter": "python",
   "pygments_lexer": "ipython3",
   "version": "3.8.13"
  }
 },
 "nbformat": 4,
 "nbformat_minor": 5
}
