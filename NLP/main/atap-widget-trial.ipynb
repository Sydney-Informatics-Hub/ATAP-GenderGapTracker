{
 "cells": [
  {
   "cell_type": "code",
   "execution_count": 68,
   "id": "650e00a9",
   "metadata": {},
   "outputs": [],
   "source": [
    "from atap_widgets.concordance import (\n",
    "    ConcordanceTable,\n",
    "    ConcordanceWidget,\n",
    "    prepare_text_df,\n",
    ")"
   ]
  },
  {
   "cell_type": "code",
   "execution_count": 69,
   "id": "81a51794",
   "metadata": {},
   "outputs": [
    {
     "data": {
      "text/html": [
       "<div>\n",
       "<style scoped>\n",
       "    .dataframe tbody tr th:only-of-type {\n",
       "        vertical-align: middle;\n",
       "    }\n",
       "\n",
       "    .dataframe tbody tr th {\n",
       "        vertical-align: top;\n",
       "    }\n",
       "\n",
       "    .dataframe thead th {\n",
       "        text-align: right;\n",
       "    }\n",
       "</style>\n",
       "<table border=\"1\" class=\"dataframe\">\n",
       "  <thead>\n",
       "    <tr style=\"text-align: right;\">\n",
       "      <th></th>\n",
       "      <th>text_id</th>\n",
       "      <th>texts</th>\n",
       "    </tr>\n",
       "  </thead>\n",
       "  <tbody>\n",
       "    <tr>\n",
       "      <th>0</th>\n",
       "      <td>text1</td>\n",
       "      <td>Facebook and Instagram, which Facebook owns, f...</td>\n",
       "    </tr>\n",
       "    <tr>\n",
       "      <th>1</th>\n",
       "      <td>text2</td>\n",
       "      <td>(CBC News)\\nRepublican lawmakers and previous ...</td>\n",
       "    </tr>\n",
       "  </tbody>\n",
       "</table>\n",
       "</div>"
      ],
      "text/plain": [
       "  text_id                                              texts\n",
       "0   text1  Facebook and Instagram, which Facebook owns, f...\n",
       "1   text2  (CBC News)\\nRepublican lawmakers and previous ..."
      ]
     },
     "execution_count": 69,
     "metadata": {},
     "output_type": "execute_result"
    }
   ],
   "source": [
    "import pandas as pd\n",
    "\n",
    "# enter the file path and the file name of the excel spreadsheet containing the text\n",
    "file_path = './input/'\n",
    "file_name = 'text_files.xlsx'\n",
    "\n",
    "# read the pandas dataframe containing the list of texts\n",
    "text_df = pd.read_excel(file_path + file_name)\n",
    "text_df.head()"
   ]
  },
  {
   "cell_type": "code",
   "execution_count": 70,
   "id": "ae263749",
   "metadata": {},
   "outputs": [
    {
     "data": {
      "text/html": [
       "<div>\n",
       "<style scoped>\n",
       "    .dataframe tbody tr th:only-of-type {\n",
       "        vertical-align: middle;\n",
       "    }\n",
       "\n",
       "    .dataframe tbody tr th {\n",
       "        vertical-align: top;\n",
       "    }\n",
       "\n",
       "    .dataframe thead th {\n",
       "        text-align: right;\n",
       "    }\n",
       "</style>\n",
       "<table border=\"1\" class=\"dataframe\">\n",
       "  <thead>\n",
       "    <tr style=\"text-align: right;\">\n",
       "      <th></th>\n",
       "      <th>quote_id</th>\n",
       "      <th>quote</th>\n",
       "      <th>quote_index</th>\n",
       "      <th>quote_token_count</th>\n",
       "      <th>quote_type</th>\n",
       "      <th>is_floating_quote</th>\n",
       "      <th>speaker</th>\n",
       "      <th>speaker_index</th>\n",
       "      <th>verb</th>\n",
       "      <th>verb_index</th>\n",
       "    </tr>\n",
       "  </thead>\n",
       "  <tbody>\n",
       "    <tr>\n",
       "      <th>0</th>\n",
       "      <td>text1-1</td>\n",
       "      <td>\"We didn't just see a breach at the Capitol. S...</td>\n",
       "      <td>(1052,1238)</td>\n",
       "      <td>38</td>\n",
       "      <td>Heuristic</td>\n",
       "      <td>False</td>\n",
       "      <td>Grygiel</td>\n",
       "      <td>(1239,1246)</td>\n",
       "      <td>said</td>\n",
       "      <td>(1247,1251)</td>\n",
       "    </tr>\n",
       "    <tr>\n",
       "      <th>1</th>\n",
       "      <td>text1-2</td>\n",
       "      <td>that Trump wouldn't be able to post for 24 hou...</td>\n",
       "      <td>(84,173)</td>\n",
       "      <td>17</td>\n",
       "      <td>SVC</td>\n",
       "      <td>False</td>\n",
       "      <td>Facebook and Instagram, which Facebook owns</td>\n",
       "      <td>(0,43)</td>\n",
       "      <td>announcing</td>\n",
       "      <td>(73,83)</td>\n",
       "    </tr>\n",
       "    <tr>\n",
       "      <th>2</th>\n",
       "      <td>text1-3</td>\n",
       "      <td>that these actions follow years of hemming and...</td>\n",
       "      <td>(302,489)</td>\n",
       "      <td>26</td>\n",
       "      <td>SVC</td>\n",
       "      <td>False</td>\n",
       "      <td>experts</td>\n",
       "      <td>(288,295)</td>\n",
       "      <td>noted</td>\n",
       "      <td>(296,301)</td>\n",
       "    </tr>\n",
       "    <tr>\n",
       "      <th>3</th>\n",
       "      <td>text1-4</td>\n",
       "      <td>what happened in Washington, D.C.</td>\n",
       "      <td>(592,625)</td>\n",
       "      <td>6</td>\n",
       "      <td>SVC</td>\n",
       "      <td>False</td>\n",
       "      <td>Jennifer Grygiel, a Syracuse University commun...</td>\n",
       "      <td>(491,586)</td>\n",
       "      <td>said</td>\n",
       "      <td>(587,591)</td>\n",
       "    </tr>\n",
       "    <tr>\n",
       "      <th>4</th>\n",
       "      <td>text1-5</td>\n",
       "      <td>, on Wednesday is a direct result of Trump's u...</td>\n",
       "      <td>(625,813)</td>\n",
       "      <td>32</td>\n",
       "      <td>SVC</td>\n",
       "      <td>False</td>\n",
       "      <td>Jennifer Grygiel, a Syracuse University commun...</td>\n",
       "      <td>(491,586)</td>\n",
       "      <td>said</td>\n",
       "      <td>(587,591)</td>\n",
       "    </tr>\n",
       "  </tbody>\n",
       "</table>\n",
       "</div>"
      ],
      "text/plain": [
       "  quote_id                                              quote  quote_index  \\\n",
       "0  text1-1  \"We didn't just see a breach at the Capitol. S...  (1052,1238)   \n",
       "1  text1-2  that Trump wouldn't be able to post for 24 hou...     (84,173)   \n",
       "2  text1-3  that these actions follow years of hemming and...    (302,489)   \n",
       "3  text1-4                  what happened in Washington, D.C.    (592,625)   \n",
       "4  text1-5  , on Wednesday is a direct result of Trump's u...    (625,813)   \n",
       "\n",
       "   quote_token_count quote_type  is_floating_quote  \\\n",
       "0                 38  Heuristic              False   \n",
       "1                 17        SVC              False   \n",
       "2                 26        SVC              False   \n",
       "3                  6        SVC              False   \n",
       "4                 32        SVC              False   \n",
       "\n",
       "                                             speaker speaker_index  \\\n",
       "0                                            Grygiel   (1239,1246)   \n",
       "1        Facebook and Instagram, which Facebook owns        (0,43)   \n",
       "2                                            experts     (288,295)   \n",
       "3  Jennifer Grygiel, a Syracuse University commun...     (491,586)   \n",
       "4  Jennifer Grygiel, a Syracuse University commun...     (491,586)   \n",
       "\n",
       "         verb   verb_index  \n",
       "0        said  (1247,1251)  \n",
       "1  announcing      (73,83)  \n",
       "2       noted    (296,301)  \n",
       "3        said    (587,591)  \n",
       "4        said    (587,591)  "
      ]
     },
     "execution_count": 70,
     "metadata": {},
     "output_type": "execute_result"
    }
   ],
   "source": [
    "# enter the file path and the file name of the excel spreadsheet containing the text\n",
    "file_path = './output/'\n",
    "file_name = 'quotes.xlsx'\n",
    "\n",
    "# read the pandas dataframe containing the list of texts\n",
    "quote_df = pd.read_excel(file_path + file_name)\n",
    "quote_df.head()"
   ]
  },
  {
   "cell_type": "code",
   "execution_count": 71,
   "id": "a9b3be17",
   "metadata": {},
   "outputs": [
    {
     "name": "stdout",
     "output_type": "stream",
     "text": [
      "\"We didn't just see a breach at the Capitol. Social media platforms have been breached by the president repeatedly. This is disinformation. This was a coup attempt in the United States.\"\n"
     ]
    }
   ],
   "source": [
    "print(quote_df['quote'][0])"
   ]
  },
  {
   "cell_type": "code",
   "execution_count": 72,
   "id": "ef7a8c60",
   "metadata": {},
   "outputs": [
    {
     "data": {
      "text/html": [
       "\n",
       "\n",
       "<style>\n",
       "#atap_68ab2ad2-c243-4d9b-9671-6831c5322321 table {\n",
       "  background-color: #f9f9f9;\n",
       "}\n",
       "\n",
       "#atap_68ab2ad2-c243-4d9b-9671-6831c5322321 tbody tr:nth-child(odd) {\n",
       "  background-color: #f9f9f9;\n",
       "}\n",
       "\n",
       "#atap_68ab2ad2-c243-4d9b-9671-6831c5322321 tbody tr:nth-child(even) {\n",
       "  background-color: #dddddd;\n",
       "}\n",
       "\n",
       "#atap_68ab2ad2-c243-4d9b-9671-6831c5322321 .atap.search_highlight {\n",
       "    background-color: #99CC99;\n",
       "    padding-left: 0px;\n",
       "    padding-right: 0px;\n",
       "}\n",
       "\n",
       "#atap_68ab2ad2-c243-4d9b-9671-6831c5322321 .atap.context {\n",
       "    color: #444;\n",
       "    white-space: pre;\n",
       "}\n",
       "#atap_68ab2ad2-c243-4d9b-9671-6831c5322321 .atap.context.context_left {\n",
       "    text-align: right;\n",
       "    padding-right: 0px;\n",
       "}\n",
       "#atap_68ab2ad2-c243-4d9b-9671-6831c5322321 .atap.context.context_right {\n",
       "    text-align: left;\n",
       "    padding-left: 0px;\n",
       "}\n",
       "#atap_68ab2ad2-c243-4d9b-9671-6831c5322321.search_table th {\n",
       "    text-align: left;\n",
       "}\n",
       "\n",
       "#atap_68ab2ad2-c243-4d9b-9671-6831c5322321.search_table td {\n",
       "    border: none;\n",
       "}\n",
       "\n",
       "#atap_68ab2ad2-c243-4d9b-9671-6831c5322321 td.text_id {\n",
       "    border-right: 1px solid #bdbdbd;\n",
       "}\n",
       "\n",
       "#atap_68ab2ad2-c243-4d9b-9671-6831c5322321 .atap.regex_error {\n",
       "    background-color: #CC9999;\n",
       "}\n",
       "</style>\n",
       "\n",
       "<table id=\"atap_68ab2ad2-c243-4d9b-9671-6831c5322321\" class=\"atap search_table\">\n",
       "    <thead>\n",
       "        <tr>\n",
       "            <th>Document ID</th>\n",
       "            <th>Result</th>\n",
       "            <th/>\n",
       "            <th/>\n",
       "        </tr>\n",
       "    </thead>\n",
       "    <tbody>\n",
       "        \n",
       "<tr>\n",
       "    <td class=\"atap text_id\">text1</td>\n",
       "    <td class=\"atap context context_left\">.S. Capitol\n",
       "\"This is what happens,\" Grygiel said. </td>\n",
       "    <td class=\"atap search_highlight\">\"We didn't just see a breach at the Capitol. Social media platforms have been breached by the president repeatedly. This is disinformation. This was a coup attempt in the United States.\"</td>\n",
       "    <td class=\"atap context context_right\">\n",
       "\n",
       "Grygiel said the platform's decision to remove t</td>\n",
       "</tr>\n",
       "\n",
       "    </body>\n",
       "</table>\n",
       "1 results. A maximum of 10 are displayed.\n"
      ],
      "text/plain": [
       "<atap_widgets.concordance.ConcordanceTable at 0x7fcad1994280>"
      ]
     },
     "execution_count": 72,
     "metadata": {},
     "output_type": "execute_result"
    }
   ],
   "source": [
    "data = prepare_text_df(text_df, text_column=\"texts\", id_column=\"text_id\")\n",
    "\n",
    "table = ConcordanceTable(data, keyword=quote_df['quote'][0], results_per_page=10)\n",
    "table"
   ]
  },
  {
   "cell_type": "code",
   "execution_count": 73,
   "id": "81427caa",
   "metadata": {},
   "outputs": [
    {
     "data": {
      "application/vnd.jupyter.widget-view+json": {
       "model_id": "3b8e7263bb33403abeef2dbf33081c81",
       "version_major": 2,
       "version_minor": 0
      },
      "text/plain": [
       "VBox(children=(Text(value='', description='Keyword(s):'), HBox(children=(Checkbox(value=False, description='En…"
      ]
     },
     "metadata": {},
     "output_type": "display_data"
    }
   ],
   "source": [
    "widget = ConcordanceWidget(data, results_per_page=10)\n",
    "widget.show()"
   ]
  },
  {
   "cell_type": "code",
   "execution_count": 74,
   "id": "97e59390",
   "metadata": {},
   "outputs": [
    {
     "data": {
      "text/plain": [
       "'\"We didn\\'t just see a breach at the Capitol. Social media platforms have been breached by the president repeatedly. This is disinformation. This was a coup attempt in the United States.\"'"
      ]
     },
     "execution_count": 74,
     "metadata": {},
     "output_type": "execute_result"
    }
   ],
   "source": [
    "doc = quote_df['quote'][0]\n",
    "doc"
   ]
  },
  {
   "cell_type": "code",
   "execution_count": 75,
   "id": "4d904d9e",
   "metadata": {},
   "outputs": [
    {
     "data": {
      "text/plain": [
       "'Facebook and Instagram, which Facebook owns, followed up in the evening, announcing that Trump wouldn\\'t be able to post for 24 hours following two violations of its policies. The White House did not immediately offer a response to the actions.\\n\\nWhile some cheered the platforms\\' response, experts noted that these actions follow years of hemming and hawing regarding Trump and his supporters spreading dangerous misinformation and encouraging violence that contributed to Wednesday\\'s events.\\n\\nJennifer Grygiel, a Syracuse University communications professor and an expert on social media, said what happened in Washington, D.C., on Wednesday is a direct result of Trump\\'s use of social media to spread propaganda and disinformation, and that the platforms should bear some responsibility for their previous inaction.\\n\\nPolice secure U.S. Capitol after pro-Trump rioters cause bedlam at heart of U.S. government\\nSenate, House resoundingly reject 1st challenge to Biden win hours after angry mob storms U.S. Capitol\\n\"This is what happens,\" Grygiel said. \"We didn\\'t just see a breach at the Capitol. Social media platforms have been breached by the president repeatedly. This is disinformation. This was a coup attempt in the United States.\"\\n\\nGrygiel said the platform\\'s decision to remove the video — and Twitter\\'s suspension — are too little, too late.\\n\\n\"They\\'re creeping along towards firmer action,\" Grygiel said, calling Trump \"Exhibit A\" for the need for greater regulation of social media. \"Social media is complicit in this because he has repeatedly used social media to incite violence. It\\'s a culmination of years of propaganda and abuse of media by the president of the United States.\"\\n\\n\\nAn explosion caused by a police munition is seen while supporters of U.S. President Donald Trump gather in front of the U.S. Capitol in Washington on Jan. 6. Congress had been meeting to ratify president-elect Joe Biden\\'s 306-232 electoral college win over Trump. (Leah Millis/Reuters)\\nShow next image (2 of 25)\\nHide caption\\nToggle Fullscreen1 of 25\\nTrump posted the video more than two hours after protesters entered the Capitol, interrupting lawmakers meeting in a joint session to confirm the electoral college results and president-elect Joe Biden\\'s victory.\\n\\nToo little, too late?\\nGuy Rosen, Facebook\\'s vice-president of integrity, said on Twitter Wednesday that the video was removed because it \"contributes to rather than diminishes the risk of ongoing violence.\"\\n\\n\"This is an emergency situation and we are taking appropriate emergency measures, including removing President Trump\\'s video,\" Rosen said.\\n\\n\\nTwitter initially left the video up but blocked people from being able to retweet it or comment on it. Only later in the day did the platform delete it entirely.\\n\\nTrump opened his video saying, \"I know your pain. I know your hurt. But you have to go home now.\"\\n\\nAfter repeating false claims about voter fraud affecting the election, Trump went on to say: \"We can\\'t play into the hands of these people. We have to have peace. So go home. We love you. You\\'re very special.\"'"
      ]
     },
     "execution_count": 75,
     "metadata": {},
     "output_type": "execute_result"
    }
   ],
   "source": [
    "text_df['texts'][0]"
   ]
  },
  {
   "cell_type": "code",
   "execution_count": null,
   "id": "235ff368",
   "metadata": {},
   "outputs": [],
   "source": []
  },
  {
   "cell_type": "code",
   "execution_count": 76,
   "id": "9924b10f",
   "metadata": {},
   "outputs": [
    {
     "data": {
      "text/plain": [
       "[('Facebook and Instagram, which Facebook owns, followed up in the evening, announcing that Trump wouldn\\'t be able to post for 24 hours following two violations of its policies. The White House did not immediately offer a response to the actions.\\n\\nWhile some cheered the platforms\\' response, experts noted that these actions follow years of hemming and hawing regarding Trump and his supporters spreading dangerous misinformation and encouraging violence that contributed to Wednesday\\'s events.\\n\\nJennifer Grygiel, a Syracuse University communications professor and an expert on social media, said what happened in Washington, D.C., on Wednesday is a direct result of Trump\\'s use of social media to spread propaganda and disinformation, and that the platforms should bear some responsibility for their previous inaction.\\n\\nPolice secure U.S. Capitol after pro-Trump rioters cause bedlam at heart of U.S. government\\nSenate, House resoundingly reject 1st challenge to Biden win hours after angry mob storms U.S. Capitol\\n\"This is what happens,\" Grygiel said. ',\n",
       "  '\"We didn\\'t just see a breach at the Capitol. Social media platforms have been breached by the president repeatedly. This is disinformation. This was a coup attempt in the United States.\"',\n",
       "  '\\n\\nGrygiel said the platform\\'s decision to remove the video — and Twitter\\'s suspension — are too little, too late.\\n\\n\"They\\'re creeping along towards firmer action,\" Grygiel said, calling Trump \"Exhibit A\" for the need for greater regulation of social media. \"Social media is complicit in this because he has repeatedly used social media to incite violence. It\\'s a culmination of years of propaganda and abuse of media by the president of the United States.\"\\n\\n\\nAn explosion caused by a police munition is seen while supporters of U.S. President Donald Trump gather in front of the U.S. Capitol in Washington on Jan. 6. Congress had been meeting to ratify president-elect Joe Biden\\'s 306-232 electoral college win over Trump. (Leah Millis/Reuters)\\nShow next image (2 of 25)\\nHide caption\\nToggle Fullscreen1 of 25\\nTrump posted the video more than two hours after protesters entered the Capitol, interrupting lawmakers meeting in a joint session to confirm the electoral college results and president-elect Joe Biden\\'s victory.\\n\\nToo little, too late?\\nGuy Rosen, Facebook\\'s vice-president of integrity, said on Twitter Wednesday that the video was removed because it \"contributes to rather than diminishes the risk of ongoing violence.\"\\n\\n\"This is an emergency situation and we are taking appropriate emergency measures, including removing President Trump\\'s video,\" Rosen said.\\n\\n\\nTwitter initially left the video up but blocked people from being able to retweet it or comment on it. Only later in the day did the platform delete it entirely.\\n\\nTrump opened his video saying, \"I know your pain. I know your hurt. But you have to go home now.\"\\n\\nAfter repeating false claims about voter fraud affecting the election, Trump went on to say: \"We can\\'t play into the hands of these people. We have to have peace. So go home. We love you. You\\'re very special.\"')]"
      ]
     },
     "execution_count": 76,
     "metadata": {},
     "output_type": "execute_result"
    }
   ],
   "source": [
    "import textacy.extract\n",
    "found = list(textacy.extract.keyword_in_context(text_df['texts'][0], doc, window_width=len(text_df['texts'][0])))\n",
    "found"
   ]
  },
  {
   "cell_type": "code",
   "execution_count": 77,
   "id": "8e78307a",
   "metadata": {},
   "outputs": [
    {
     "data": {
      "text/plain": [
       "'Facebook and Instagram, which Facebook owns, followed up in the evening, announcing that Trump wouldn\\'t be able to post for 24 hours following two violations of its policies. The White House did not immediately offer a response to the actions.\\n\\nWhile some cheered the platforms\\' response, experts noted that these actions follow years of hemming and hawing regarding Trump and his supporters spreading dangerous misinformation and encouraging violence that contributed to Wednesday\\'s events.\\n\\nJennifer Grygiel, a Syracuse University communications professor and an expert on social media, said what happened in Washington, D.C., on Wednesday is a direct result of Trump\\'s use of social media to spread propaganda and disinformation, and that the platforms should bear some responsibility for their previous inaction.\\n\\nPolice secure U.S. Capitol after pro-Trump rioters cause bedlam at heart of U.S. government\\nSenate, House resoundingly reject 1st challenge to Biden win hours after angry mob storms U.S. Capitol\\n\"This is what happens,\" Grygiel said.  \"We didn\\'t just see a breach at the Capitol. Social media platforms have been breached by the president repeatedly. This is disinformation. This was a coup attempt in the United States.\" \\n\\nGrygiel said the platform\\'s decision to remove the video — and Twitter\\'s suspension — are too little, too late.\\n\\n\"They\\'re creeping along towards firmer action,\" Grygiel said, calling Trump \"Exhibit A\" for the need for greater regulation of social media. \"Social media is complicit in this because he has repeatedly used social media to incite violence. It\\'s a culmination of years of propaganda and abuse of media by the president of the United States.\"\\n\\n\\nAn explosion caused by a police munition is seen while supporters of U.S. President Donald Trump gather in front of the U.S. Capitol in Washington on Jan. 6. Congress had been meeting to ratify president-elect Joe Biden\\'s 306-232 electoral college win over Trump. (Leah Millis/Reuters)\\nShow next image (2 of 25)\\nHide caption\\nToggle Fullscreen1 of 25\\nTrump posted the video more than two hours after protesters entered the Capitol, interrupting lawmakers meeting in a joint session to confirm the electoral college results and president-elect Joe Biden\\'s victory.\\n\\nToo little, too late?\\nGuy Rosen, Facebook\\'s vice-president of integrity, said on Twitter Wednesday that the video was removed because it \"contributes to rather than diminishes the risk of ongoing violence.\"\\n\\n\"This is an emergency situation and we are taking appropriate emergency measures, including removing President Trump\\'s video,\" Rosen said.\\n\\n\\nTwitter initially left the video up but blocked people from being able to retweet it or comment on it. Only later in the day did the platform delete it entirely.\\n\\nTrump opened his video saying, \"I know your pain. I know your hurt. But you have to go home now.\"\\n\\nAfter repeating false claims about voter fraud affecting the election, Trump went on to say: \"We can\\'t play into the hands of these people. We have to have peace. So go home. We love you. You\\'re very special.\"'"
      ]
     },
     "execution_count": 77,
     "metadata": {},
     "output_type": "execute_result"
    }
   ],
   "source": [
    "\" \".join(found[0])"
   ]
  },
  {
   "cell_type": "code",
   "execution_count": null,
   "id": "ae4721c8",
   "metadata": {},
   "outputs": [],
   "source": []
  },
  {
   "cell_type": "code",
   "execution_count": 78,
   "id": "7684b758",
   "metadata": {},
   "outputs": [
    {
     "data": {
      "text/plain": [
       "[(\"remove the video — and Twitter's suspension — are \",\n",
       "  'too little',\n",
       "  ', too late.\\n\\n\"They\\'re creeping along towards firme'),\n",
       " (\"results and president-elect Joe Biden's victory.\\n\\n\",\n",
       "  'Too little',\n",
       "  \", too late?\\nGuy Rosen, Facebook's vice-president o\")]"
      ]
     },
     "execution_count": 78,
     "metadata": {},
     "output_type": "execute_result"
    }
   ],
   "source": [
    "found = list(textacy.extract.keyword_in_context(text_df['texts'][0], 'too little', window_width=50))\n",
    "found"
   ]
  },
  {
   "cell_type": "code",
   "execution_count": 79,
   "id": "089a9f7a",
   "metadata": {},
   "outputs": [
    {
     "data": {
      "text/plain": [
       "['Facebook and Instagram, which Facebook owns, followed up in the evening, announcing that Trump wouldn\\'t be able to post for 24 hours following two violations of its policies. The White House did not immediately offer a response to the actions.\\n\\nWhile some cheered the platforms\\' response, experts noted that these actions follow years of hemming and hawing regarding Trump and his supporters spreading dangerous misinformation and encouraging violence that contributed to Wednesday\\'s events.\\n\\nJennifer Grygiel, a Syracuse University communications professor and an expert on social media, said what happened in Washington, D.C., on Wednesday is a direct result of Trump\\'s use of social media to spread propaganda and disinformation, and that the platforms should bear some responsibility for their previous inaction.\\n\\nPolice secure U.S. Capitol after pro-Trump rioters cause bedlam at heart of U.S. government\\nSenate, House resoundingly reject 1st challenge to Biden win hours after angry mob storms U.S. Capitol\\n\"This is what happens,\" Grygiel said. \"We didn\\'t just see a breach at the Capitol. Social media platforms have been breached by the president repeatedly. This is disinformation. This was a coup attempt in the United States.\"\\n\\nGrygiel said the platform\\'s decision to remove the video — and Twitter\\'s suspension — are ',\n",
       " ', too late.\\n\\n\"They\\'re creeping along towards firmer action,\" Grygiel said, calling Trump \"Exhibit A\" for the need for greater regulation of social media. \"Social media is complicit in this because he has repeatedly used social media to incite violence. It\\'s a culmination of years of propaganda and abuse of media by the president of the United States.\"\\n\\n\\nAn explosion caused by a police munition is seen while supporters of U.S. President Donald Trump gather in front of the U.S. Capitol in Washington on Jan. 6. Congress had been meeting to ratify president-elect Joe Biden\\'s 306-232 electoral college win over Trump. (Leah Millis/Reuters)\\nShow next image (2 of 25)\\nHide caption\\nToggle Fullscreen1 of 25\\nTrump posted the video more than two hours after protesters entered the Capitol, interrupting lawmakers meeting in a joint session to confirm the electoral college results and president-elect Joe Biden\\'s victory.\\n\\nToo little, too late?\\nGuy Rosen, Facebook\\'s vice-president of integrity, said on Twitter Wednesday that the video was removed because it \"contributes to rather than diminishes the risk of ongoing violence.\"\\n\\n\"This is an emergency situation and we are taking appropriate emergency measures, including removing President Trump\\'s video,\" Rosen said.\\n\\n\\nTwitter initially left the video up but blocked people from being able to retweet it or comment on it. Only later in the day did the platform delete it entirely.\\n\\nTrump opened his video saying, \"I know your pain. I know your hurt. But you have to go home now.\"\\n\\nAfter repeating false claims about voter fraud affecting the election, Trump went on to say: \"We can\\'t play into the hands of these people. We have to have peace. So go home. We love you. You\\'re very special.\"']"
      ]
     },
     "execution_count": 79,
     "metadata": {},
     "output_type": "execute_result"
    }
   ],
   "source": [
    "text_df['texts'][0].split('too little')"
   ]
  },
  {
   "cell_type": "code",
   "execution_count": 80,
   "id": "1090349a",
   "metadata": {},
   "outputs": [
    {
     "name": "stdout",
     "output_type": "stream",
     "text": [
      "CHEESY\n"
     ]
    }
   ],
   "source": [
    "from colorama import init, Fore, Back, Style\n",
    "\n",
    "print(Style.BRIGHT + Back.YELLOW + Fore.RED + \"CHEESY\")"
   ]
  },
  {
   "cell_type": "code",
   "execution_count": 81,
   "id": "d83d6b9c",
   "metadata": {},
   "outputs": [
    {
     "name": "stdout",
     "output_type": "stream",
     "text": [
      "hello world\n"
     ]
    }
   ],
   "source": [
    "from colorama import Fore, Back, Style\n",
    "print(Fore.GREEN + Back.RED + Style.DIM + \"hello world\")"
   ]
  },
  {
   "cell_type": "code",
   "execution_count": 1,
   "id": "91835f81",
   "metadata": {},
   "outputs": [
    {
     "name": "stdout",
     "output_type": "stream",
     "text": [
      "\u001b[5m\u001b[7m\u001b[31mHello, World!\u001b[0m\n",
      "\u001b[41m\u001b[32mHello, World!\u001b[0m\n",
      "\u001b[46m\u001b[31mHello, World!\u001b[0m\n",
      "\u001b[46m\u001b[31mHello, Universe!\u001b[0m\n",
      "\u001b[35m0\u001b[0m \u001b[35m1\u001b[0m \u001b[35m2\u001b[0m \u001b[35m3\u001b[0m \u001b[35m4\u001b[0m \u001b[35m5\u001b[0m \u001b[35m6\u001b[0m \u001b[35m7\u001b[0m \u001b[35m8\u001b[0m \u001b[35m9\u001b[0m "
     ]
    },
    {
     "name": "stderr",
     "output_type": "stream",
     "text": [
      "\u001b[1m\u001b[31mAttention!\u001b[0m\n"
     ]
    }
   ],
   "source": [
    "import sys\n",
    "from termcolor import colored, cprint\n",
    "\n",
    "text = colored('Hello, World!', 'red', attrs=['reverse', 'blink'])\n",
    "print(text)\n",
    "cprint('Hello, World!', 'green', 'on_red')\n",
    "\n",
    "print_red_on_cyan = lambda x: cprint(x, 'red', 'on_cyan')\n",
    "print_red_on_cyan('Hello, World!')\n",
    "print_red_on_cyan('Hello, Universe!')\n",
    "\n",
    "for i in range(10):\n",
    "    cprint(i, 'magenta', end=' ')\n",
    "\n",
    "cprint(\"Attention!\", 'red', attrs=['bold'], file=sys.stderr)"
   ]
  },
  {
   "cell_type": "code",
   "execution_count": 3,
   "id": "5f029f4e",
   "metadata": {},
   "outputs": [
    {
     "name": "stdout",
     "output_type": "stream",
     "text": [
      "\u001b[31m\"red\"\u001b[0m\n"
     ]
    }
   ],
   "source": [
    "print(\"\\x1b[31m\\\"red\\\"\\x1b[0m\")"
   ]
  },
  {
   "cell_type": "code",
   "execution_count": 4,
   "id": "623c7e26",
   "metadata": {},
   "outputs": [
    {
     "name": "stdout",
     "output_type": "stream",
     "text": [
      "\u001b[31m\"red\"\u001b[0m\n"
     ]
    }
   ],
   "source": [
    "print(\"\\x1b[31m\\\"red\\\"\\x1b[0m\")"
   ]
  },
  {
   "cell_type": "code",
   "execution_count": 5,
   "id": "a76b9f6b",
   "metadata": {},
   "outputs": [
    {
     "name": "stderr",
     "output_type": "stream",
     "text": [
      "blue text on stderr\n"
     ]
    }
   ],
   "source": [
    "import sys\n",
    "from colorama import init, AnsiToWin32\n",
    "init(wrap=False)\n",
    "stream = AnsiToWin32(sys.stderr).stream\n",
    "\n",
    "# Python 3\n",
    "print('blue text on stderr', file=stream)"
   ]
  },
  {
   "cell_type": "code",
   "execution_count": 6,
   "id": "768c1257",
   "metadata": {},
   "outputs": [
    {
     "name": "stdout",
     "output_type": "stream",
     "text": [
      "\u001b[31mhello world\u001b[0m\n"
     ]
    }
   ],
   "source": [
    "from termcolor import colored\n",
    "\n",
    "print(colored('hello world','red'))"
   ]
  },
  {
   "cell_type": "code",
   "execution_count": 7,
   "id": "22b159be",
   "metadata": {},
   "outputs": [
    {
     "name": "stdout",
     "output_type": "stream",
     "text": [
      "\u001b[6;30;42mSuccess!\u001b[0m\n"
     ]
    }
   ],
   "source": [
    "print('\\x1b[6;30;42m' + 'Success!' + '\\x1b[0m')"
   ]
  },
  {
   "cell_type": "code",
   "execution_count": null,
   "id": "be82a00e",
   "metadata": {},
   "outputs": [],
   "source": []
  },
  {
   "cell_type": "code",
   "execution_count": 37,
   "id": "6a4c79c9",
   "metadata": {},
   "outputs": [
    {
     "data": {
      "text/html": [
       "<span class=\"tex2jax_ignore\"><div class=\"spans\" style=\"line-height: 2.5; direction: ltr\">Welcome to the \n",
       "<span style=\"font-weight: bold; display: inline-block; position: relative;\">\n",
       "    Bank\n",
       "    \n",
       "<span style=\"background: #7aecec; top: 40px; height: 4px; left: -1px; width: calc(100% + 2px); position: absolute;\">\n",
       "</span>\n",
       "\n",
       "    \n",
       "<span style=\"background: #7aecec; top: 40px; height: 4px; border-top-left-radius: 3px; border-bottom-left-radius: 3px; left: -1px; width: calc(100% + 2px); position: absolute;\">\n",
       "    <span style=\"background: #7aecec; z-index: 10; color: #000; top: -0.5em; padding: 2px 3px; position: absolute; font-size: 0.6em; font-weight: bold; line-height: 1; border-radius: 3px\">\n",
       "        ORG\n",
       "    </span>\n",
       "</span>\n",
       "\n",
       "\n",
       "</span>\n",
       "\n",
       "<span style=\"font-weight: bold; display: inline-block; position: relative;\">\n",
       "    of\n",
       "    \n",
       "<span style=\"background: #7aecec; top: 40px; height: 4px; left: -1px; width: calc(100% + 2px); position: absolute;\">\n",
       "</span>\n",
       "\n",
       "    \n",
       "</span>\n",
       "\n",
       "<span style=\"font-weight: bold; display: inline-block; position: relative;\">\n",
       "    China\n",
       "    \n",
       "<span style=\"background: #7aecec; top: 40px; height: 4px; left: -1px; width: calc(100% + 2px); position: absolute;\">\n",
       "</span>\n",
       "\n",
       "<span style=\"background: #feca74; top: 57px; height: 4px; left: -1px; width: calc(100% + 2px); position: absolute;\">\n",
       "</span>\n",
       "\n",
       "    \n",
       "<span style=\"background: #feca74; top: 57px; height: 4px; border-top-left-radius: 3px; border-bottom-left-radius: 3px; left: -1px; width: calc(100% + 2px); position: absolute;\">\n",
       "    <span style=\"background: #feca74; z-index: 10; color: #000; top: -0.5em; padding: 2px 3px; position: absolute; font-size: 0.6em; font-weight: bold; line-height: 1; border-radius: 3px\">\n",
       "        GPE\n",
       "    </span>\n",
       "</span>\n",
       "\n",
       "\n",
       "</span>\n",
       ". </div></span>"
      ],
      "text/plain": [
       "<IPython.core.display.HTML object>"
      ]
     },
     "metadata": {},
     "output_type": "display_data"
    }
   ],
   "source": [
    "import spacy\n",
    "from spacy import displacy\n",
    "from spacy.tokens import Span\n",
    "\n",
    "text = \"Welcome to the Bank of China.\"\n",
    "\n",
    "nlp = spacy.blank(\"en\")\n",
    "doc = nlp(text)\n",
    "\n",
    "doc.spans[\"sc\"] = [\n",
    "    Span(doc, 3, 6, \"ORG\"), \n",
    "    Span(doc, 5, 6, \"GPE\"),\n",
    "]\n",
    "\n",
    "displacy.render(doc, style=\"span\", jupyter=True)"
   ]
  },
  {
   "cell_type": "code",
   "execution_count": 2,
   "id": "eaa72d42",
   "metadata": {},
   "outputs": [
    {
     "data": {
      "text/html": [
       "<div>\n",
       "<style scoped>\n",
       "    .dataframe tbody tr th:only-of-type {\n",
       "        vertical-align: middle;\n",
       "    }\n",
       "\n",
       "    .dataframe tbody tr th {\n",
       "        vertical-align: top;\n",
       "    }\n",
       "\n",
       "    .dataframe thead th {\n",
       "        text-align: right;\n",
       "    }\n",
       "</style>\n",
       "<table border=\"1\" class=\"dataframe\">\n",
       "  <thead>\n",
       "    <tr style=\"text-align: right;\">\n",
       "      <th></th>\n",
       "      <th>text_id</th>\n",
       "      <th>text</th>\n",
       "      <th>quote_id</th>\n",
       "      <th>quote</th>\n",
       "      <th>quote_index</th>\n",
       "      <th>speaker</th>\n",
       "      <th>speaker_index</th>\n",
       "    </tr>\n",
       "  </thead>\n",
       "  <tbody>\n",
       "    <tr>\n",
       "      <th>0</th>\n",
       "      <td>text1</td>\n",
       "      <td>Facebook and Instagram, which Facebook owns, f...</td>\n",
       "      <td>0</td>\n",
       "      <td>\"We didn't just see a breach at the Capitol. S...</td>\n",
       "      <td>(1052,1238)</td>\n",
       "      <td>Grygiel</td>\n",
       "      <td>(1239,1246)</td>\n",
       "    </tr>\n",
       "    <tr>\n",
       "      <th>1</th>\n",
       "      <td>text1</td>\n",
       "      <td>Facebook and Instagram, which Facebook owns, f...</td>\n",
       "      <td>1</td>\n",
       "      <td>\"Social media is complicit in this because he ...</td>\n",
       "      <td>(1492,1691)</td>\n",
       "      <td>NaN</td>\n",
       "      <td>(0,0)</td>\n",
       "    </tr>\n",
       "    <tr>\n",
       "      <th>2</th>\n",
       "      <td>text1</td>\n",
       "      <td>Facebook and Instagram, which Facebook owns, f...</td>\n",
       "      <td>2</td>\n",
       "      <td>that Trump wouldn't be able to post for 24 hou...</td>\n",
       "      <td>(84,173)</td>\n",
       "      <td>Facebook and Instagram, which Facebook owns</td>\n",
       "      <td>(0,43)</td>\n",
       "    </tr>\n",
       "    <tr>\n",
       "      <th>3</th>\n",
       "      <td>text1</td>\n",
       "      <td>Facebook and Instagram, which Facebook owns, f...</td>\n",
       "      <td>3</td>\n",
       "      <td>that these actions follow years of hemming and...</td>\n",
       "      <td>(302,489)</td>\n",
       "      <td>experts</td>\n",
       "      <td>(288,295)</td>\n",
       "    </tr>\n",
       "    <tr>\n",
       "      <th>4</th>\n",
       "      <td>text1</td>\n",
       "      <td>Facebook and Instagram, which Facebook owns, f...</td>\n",
       "      <td>4</td>\n",
       "      <td>what happened in Washington, D.C.</td>\n",
       "      <td>(592,625)</td>\n",
       "      <td>Jennifer Grygiel, a Syracuse University commun...</td>\n",
       "      <td>(491,586)</td>\n",
       "    </tr>\n",
       "    <tr>\n",
       "      <th>5</th>\n",
       "      <td>text1</td>\n",
       "      <td>Facebook and Instagram, which Facebook owns, f...</td>\n",
       "      <td>5</td>\n",
       "      <td>, on Wednesday is a direct result of Trump's u...</td>\n",
       "      <td>(625,813)</td>\n",
       "      <td>Jennifer Grygiel, a Syracuse University commun...</td>\n",
       "      <td>(491,586)</td>\n",
       "    </tr>\n",
       "    <tr>\n",
       "      <th>6</th>\n",
       "      <td>text1</td>\n",
       "      <td>Facebook and Instagram, which Facebook owns, f...</td>\n",
       "      <td>6</td>\n",
       "      <td>This is what happens,</td>\n",
       "      <td>(1015,1036)</td>\n",
       "      <td>\" Grygiel</td>\n",
       "      <td>(1036,1045)</td>\n",
       "    </tr>\n",
       "    <tr>\n",
       "      <th>7</th>\n",
       "      <td>text1</td>\n",
       "      <td>Facebook and Instagram, which Facebook owns, f...</td>\n",
       "      <td>7</td>\n",
       "      <td>They're creeping along towards firmer action,</td>\n",
       "      <td>(1352,1397)</td>\n",
       "      <td>\" Grygiel</td>\n",
       "      <td>(1397,1406)</td>\n",
       "    </tr>\n",
       "    <tr>\n",
       "      <th>8</th>\n",
       "      <td>text1</td>\n",
       "      <td>Facebook and Instagram, which Facebook owns, f...</td>\n",
       "      <td>8</td>\n",
       "      <td>that the video was removed because it \"contrib...</td>\n",
       "      <td>(2362,2467)</td>\n",
       "      <td>Guy Rosen, Facebook's vice-president of integrity</td>\n",
       "      <td>(2285,2334)</td>\n",
       "    </tr>\n",
       "    <tr>\n",
       "      <th>9</th>\n",
       "      <td>text1</td>\n",
       "      <td>Facebook and Instagram, which Facebook owns, f...</td>\n",
       "      <td>9</td>\n",
       "      <td>\"This is an emergency situation and we are tak...</td>\n",
       "      <td>(2470,2594)</td>\n",
       "      <td>Rosen</td>\n",
       "      <td>(2597,2602)</td>\n",
       "    </tr>\n",
       "    <tr>\n",
       "      <th>10</th>\n",
       "      <td>text1</td>\n",
       "      <td>Facebook and Instagram, which Facebook owns, f...</td>\n",
       "      <td>10</td>\n",
       "      <td>\"I know your pain</td>\n",
       "      <td>(2802,2819)</td>\n",
       "      <td>Trump</td>\n",
       "      <td>(2771,2776)</td>\n",
       "    </tr>\n",
       "    <tr>\n",
       "      <th>11</th>\n",
       "      <td>text1</td>\n",
       "      <td>Facebook and Instagram, which Facebook owns, f...</td>\n",
       "      <td>11</td>\n",
       "      <td>\"We can't play into the hands of these people</td>\n",
       "      <td>(2962,3007)</td>\n",
       "      <td>Trump</td>\n",
       "      <td>(2940,2945)</td>\n",
       "    </tr>\n",
       "    <tr>\n",
       "      <th>12</th>\n",
       "      <td>text2</td>\n",
       "      <td>(CBC News).\\n Republican lawmakers and previou...</td>\n",
       "      <td>0</td>\n",
       "      <td>\"More than anything, what is happening right n...</td>\n",
       "      <td>(847,1017)</td>\n",
       "      <td>NaN</td>\n",
       "      <td>(0,0)</td>\n",
       "    </tr>\n",
       "    <tr>\n",
       "      <th>13</th>\n",
       "      <td>text2</td>\n",
       "      <td>(CBC News).\\n Republican lawmakers and previou...</td>\n",
       "      <td>1</td>\n",
       "      <td>The President has promoted sedition and incite...</td>\n",
       "      <td>(691,747)</td>\n",
       "      <td>Jonathan Greenblatt, chief executive officer o...</td>\n",
       "      <td>(755,830)</td>\n",
       "    </tr>\n",
       "    <tr>\n",
       "      <th>14</th>\n",
       "      <td>text2</td>\n",
       "      <td>(CBC News).\\n Republican lawmakers and previou...</td>\n",
       "      <td>2</td>\n",
       "      <td>there would be an \"orderly transition on Janua...</td>\n",
       "      <td>(1062,1116)</td>\n",
       "      <td>Trump</td>\n",
       "      <td>(1051,1056)</td>\n",
       "    </tr>\n",
       "    <tr>\n",
       "      <th>15</th>\n",
       "      <td>text3</td>\n",
       "      <td>Federated States of Micronesia President David...</td>\n",
       "      <td>0</td>\n",
       "      <td>the deal could stoke geopolitical tensions and...</td>\n",
       "      <td>(62,149)</td>\n",
       "      <td>Federated States of Micronesia President David...</td>\n",
       "      <td>(0,54)</td>\n",
       "    </tr>\n",
       "    <tr>\n",
       "      <th>16</th>\n",
       "      <td>text3</td>\n",
       "      <td>Federated States of Micronesia President David...</td>\n",
       "      <td>1</td>\n",
       "      <td>the process had been rushed</td>\n",
       "      <td>(213,240)</td>\n",
       "      <td>Samoa's Prime Minister, Fiame Naomi Mata'afa</td>\n",
       "      <td>(157,201)</td>\n",
       "    </tr>\n",
       "    <tr>\n",
       "      <th>17</th>\n",
       "      <td>text3</td>\n",
       "      <td>Federated States of Micronesia President David...</td>\n",
       "      <td>2</td>\n",
       "      <td>\"very little\" was currently known about the me...</td>\n",
       "      <td>(305,356)</td>\n",
       "      <td>Pacific expert Anna Powles from Massey University</td>\n",
       "      <td>(242,291)</td>\n",
       "    </tr>\n",
       "    <tr>\n",
       "      <th>18</th>\n",
       "      <td>text3</td>\n",
       "      <td>Federated States of Micronesia President David...</td>\n",
       "      <td>3</td>\n",
       "      <td>It appears to be an attempt to deliberately di...</td>\n",
       "      <td>(432,541)</td>\n",
       "      <td>she</td>\n",
       "      <td>(544,547)</td>\n",
       "    </tr>\n",
       "  </tbody>\n",
       "</table>\n",
       "</div>"
      ],
      "text/plain": [
       "   text_id                                               text  quote_id  \\\n",
       "0    text1  Facebook and Instagram, which Facebook owns, f...         0   \n",
       "1    text1  Facebook and Instagram, which Facebook owns, f...         1   \n",
       "2    text1  Facebook and Instagram, which Facebook owns, f...         2   \n",
       "3    text1  Facebook and Instagram, which Facebook owns, f...         3   \n",
       "4    text1  Facebook and Instagram, which Facebook owns, f...         4   \n",
       "5    text1  Facebook and Instagram, which Facebook owns, f...         5   \n",
       "6    text1  Facebook and Instagram, which Facebook owns, f...         6   \n",
       "7    text1  Facebook and Instagram, which Facebook owns, f...         7   \n",
       "8    text1  Facebook and Instagram, which Facebook owns, f...         8   \n",
       "9    text1  Facebook and Instagram, which Facebook owns, f...         9   \n",
       "10   text1  Facebook and Instagram, which Facebook owns, f...        10   \n",
       "11   text1  Facebook and Instagram, which Facebook owns, f...        11   \n",
       "12   text2  (CBC News).\\n Republican lawmakers and previou...         0   \n",
       "13   text2  (CBC News).\\n Republican lawmakers and previou...         1   \n",
       "14   text2  (CBC News).\\n Republican lawmakers and previou...         2   \n",
       "15   text3  Federated States of Micronesia President David...         0   \n",
       "16   text3  Federated States of Micronesia President David...         1   \n",
       "17   text3  Federated States of Micronesia President David...         2   \n",
       "18   text3  Federated States of Micronesia President David...         3   \n",
       "\n",
       "                                                quote  quote_index  \\\n",
       "0   \"We didn't just see a breach at the Capitol. S...  (1052,1238)   \n",
       "1   \"Social media is complicit in this because he ...  (1492,1691)   \n",
       "2   that Trump wouldn't be able to post for 24 hou...     (84,173)   \n",
       "3   that these actions follow years of hemming and...    (302,489)   \n",
       "4                   what happened in Washington, D.C.    (592,625)   \n",
       "5   , on Wednesday is a direct result of Trump's u...    (625,813)   \n",
       "6                               This is what happens,  (1015,1036)   \n",
       "7       They're creeping along towards firmer action,  (1352,1397)   \n",
       "8   that the video was removed because it \"contrib...  (2362,2467)   \n",
       "9   \"This is an emergency situation and we are tak...  (2470,2594)   \n",
       "10                                  \"I know your pain  (2802,2819)   \n",
       "11      \"We can't play into the hands of these people  (2962,3007)   \n",
       "12  \"More than anything, what is happening right n...   (847,1017)   \n",
       "13  The President has promoted sedition and incite...    (691,747)   \n",
       "14  there would be an \"orderly transition on Janua...  (1062,1116)   \n",
       "15  the deal could stoke geopolitical tensions and...     (62,149)   \n",
       "16                        the process had been rushed    (213,240)   \n",
       "17  \"very little\" was currently known about the me...    (305,356)   \n",
       "18  It appears to be an attempt to deliberately di...    (432,541)   \n",
       "\n",
       "                                              speaker speaker_index  \n",
       "0                                             Grygiel   (1239,1246)  \n",
       "1                                                 NaN         (0,0)  \n",
       "2         Facebook and Instagram, which Facebook owns        (0,43)  \n",
       "3                                             experts     (288,295)  \n",
       "4   Jennifer Grygiel, a Syracuse University commun...     (491,586)  \n",
       "5   Jennifer Grygiel, a Syracuse University commun...     (491,586)  \n",
       "6                                           \" Grygiel   (1036,1045)  \n",
       "7                                           \" Grygiel   (1397,1406)  \n",
       "8   Guy Rosen, Facebook's vice-president of integrity   (2285,2334)  \n",
       "9                                               Rosen   (2597,2602)  \n",
       "10                                              Trump   (2771,2776)  \n",
       "11                                              Trump   (2940,2945)  \n",
       "12                                                NaN         (0,0)  \n",
       "13  Jonathan Greenblatt, chief executive officer o...     (755,830)  \n",
       "14                                              Trump   (1051,1056)  \n",
       "15  Federated States of Micronesia President David...        (0,54)  \n",
       "16       Samoa's Prime Minister, Fiame Naomi Mata'afa     (157,201)  \n",
       "17  Pacific expert Anna Powles from Massey University     (242,291)  \n",
       "18                                                she     (544,547)  "
      ]
     },
     "execution_count": 2,
     "metadata": {},
     "output_type": "execute_result"
    }
   ],
   "source": [
    "import pandas as pd\n",
    "\n",
    "# enter the file path and the file name of the excel spreadsheet containing the text\n",
    "file_path = './output/'\n",
    "file_name = 'quotes.xlsx'\n",
    "\n",
    "# read the pandas dataframe containing the list of texts\n",
    "quotes_df = pd.read_excel(file_path + file_name)\n",
    "quotes_df"
   ]
  },
  {
   "cell_type": "code",
   "execution_count": 121,
   "id": "ef338bc0",
   "metadata": {
    "scrolled": true
   },
   "outputs": [
    {
     "data": {
      "text/html": [
       "<span class=\"tex2jax_ignore\"><div class=\"spans\" style=\"line-height: 2.5; direction: ltr\">\n",
       "<span style=\"font-weight: bold; display: inline-block; position: relative;\">\n",
       "    Federated\n",
       "    \n",
       "<span style=\"background: #bfeeb7; top: 31px; height: 4px; left: -1px; width: calc(100% + 2px); position: absolute;\">\n",
       "</span>\n",
       "\n",
       "    \n",
       "<span style=\"background: #bfeeb7; top: 31px; height: 4px; border-top-left-radius: 3px; border-bottom-left-radius: 3px; left: -1px; width: calc(100% + 2px); position: absolute;\">\n",
       "    <span style=\"background: #bfeeb7; z-index: 10; color: #000; top: -0.5em; padding: 2px 3px; position: absolute; font-size: 0.6em; font-weight: bold; line-height: 1; border-radius: 3px\">\n",
       "        SPEAKER\n",
       "    </span>\n",
       "</span>\n",
       "\n",
       "\n",
       "</span>\n",
       "\n",
       "<span style=\"font-weight: bold; display: inline-block; position: relative;\">\n",
       "    States\n",
       "    \n",
       "<span style=\"background: #bfeeb7; top: 31px; height: 4px; left: -1px; width: calc(100% + 2px); position: absolute;\">\n",
       "</span>\n",
       "\n",
       "    \n",
       "</span>\n",
       "\n",
       "<span style=\"font-weight: bold; display: inline-block; position: relative;\">\n",
       "    of\n",
       "    \n",
       "<span style=\"background: #bfeeb7; top: 31px; height: 4px; left: -1px; width: calc(100% + 2px); position: absolute;\">\n",
       "</span>\n",
       "\n",
       "    \n",
       "</span>\n",
       "\n",
       "<span style=\"font-weight: bold; display: inline-block; position: relative;\">\n",
       "    Micronesia\n",
       "    \n",
       "<span style=\"background: #bfeeb7; top: 31px; height: 4px; left: -1px; width: calc(100% + 2px); position: absolute;\">\n",
       "</span>\n",
       "\n",
       "    \n",
       "</span>\n",
       "\n",
       "<span style=\"font-weight: bold; display: inline-block; position: relative;\">\n",
       "    President\n",
       "    \n",
       "<span style=\"background: #bfeeb7; top: 31px; height: 4px; left: -1px; width: calc(100% + 2px); position: absolute;\">\n",
       "</span>\n",
       "\n",
       "    \n",
       "</span>\n",
       "\n",
       "<span style=\"font-weight: bold; display: inline-block; position: relative;\">\n",
       "    David\n",
       "    \n",
       "<span style=\"background: #bfeeb7; top: 31px; height: 4px; left: -1px; width: calc(100% + 2px); position: absolute;\">\n",
       "</span>\n",
       "\n",
       "    \n",
       "</span>\n",
       "\n",
       "<span style=\"font-weight: bold; display: inline-block; position: relative;\">\n",
       "    Panuelo\n",
       "    \n",
       "<span style=\"background: #bfeeb7; top: 31px; height: 4px; left: -1px; width: calc(100% + 2px); position: absolute;\">\n",
       "</span>\n",
       "\n",
       "    \n",
       "</span>\n",
       "warned \n",
       "<span style=\"font-weight: bold; display: inline-block; position: relative;\">\n",
       "    the\n",
       "    \n",
       "<span style=\"background: #7aecec; top: 31px; height: 4px; left: -1px; width: calc(100% + 2px); position: absolute;\">\n",
       "</span>\n",
       "\n",
       "    \n",
       "<span style=\"background: #7aecec; top: 31px; height: 4px; border-top-left-radius: 3px; border-bottom-left-radius: 3px; left: -1px; width: calc(100% + 2px); position: absolute;\">\n",
       "    <span style=\"background: #7aecec; z-index: 10; color: #000; top: -0.5em; padding: 2px 3px; position: absolute; font-size: 0.6em; font-weight: bold; line-height: 1; border-radius: 3px\">\n",
       "        QUOTE\n",
       "    </span>\n",
       "</span>\n",
       "\n",
       "\n",
       "</span>\n",
       "\n",
       "<span style=\"font-weight: bold; display: inline-block; position: relative;\">\n",
       "    deal\n",
       "    \n",
       "<span style=\"background: #7aecec; top: 31px; height: 4px; left: -1px; width: calc(100% + 2px); position: absolute;\">\n",
       "</span>\n",
       "\n",
       "    \n",
       "</span>\n",
       "\n",
       "<span style=\"font-weight: bold; display: inline-block; position: relative;\">\n",
       "    could\n",
       "    \n",
       "<span style=\"background: #7aecec; top: 31px; height: 4px; left: -1px; width: calc(100% + 2px); position: absolute;\">\n",
       "</span>\n",
       "\n",
       "    \n",
       "</span>\n",
       "\n",
       "<span style=\"font-weight: bold; display: inline-block; position: relative;\">\n",
       "    stoke\n",
       "    \n",
       "<span style=\"background: #7aecec; top: 31px; height: 4px; left: -1px; width: calc(100% + 2px); position: absolute;\">\n",
       "</span>\n",
       "\n",
       "    \n",
       "</span>\n",
       "\n",
       "<span style=\"font-weight: bold; display: inline-block; position: relative;\">\n",
       "    geopolitical\n",
       "    \n",
       "<span style=\"background: #7aecec; top: 31px; height: 4px; left: -1px; width: calc(100% + 2px); position: absolute;\">\n",
       "</span>\n",
       "\n",
       "    \n",
       "</span>\n",
       "\n",
       "<span style=\"font-weight: bold; display: inline-block; position: relative;\">\n",
       "    tensions\n",
       "    \n",
       "<span style=\"background: #7aecec; top: 31px; height: 4px; left: -1px; width: calc(100% + 2px); position: absolute;\">\n",
       "</span>\n",
       "\n",
       "    \n",
       "</span>\n",
       "\n",
       "<span style=\"font-weight: bold; display: inline-block; position: relative;\">\n",
       "    and\n",
       "    \n",
       "<span style=\"background: #7aecec; top: 31px; height: 4px; left: -1px; width: calc(100% + 2px); position: absolute;\">\n",
       "</span>\n",
       "\n",
       "    \n",
       "</span>\n",
       "\n",
       "<span style=\"font-weight: bold; display: inline-block; position: relative;\">\n",
       "    undermine\n",
       "    \n",
       "<span style=\"background: #7aecec; top: 31px; height: 4px; left: -1px; width: calc(100% + 2px); position: absolute;\">\n",
       "</span>\n",
       "\n",
       "    \n",
       "</span>\n",
       "\n",
       "<span style=\"font-weight: bold; display: inline-block; position: relative;\">\n",
       "    the\n",
       "    \n",
       "<span style=\"background: #7aecec; top: 31px; height: 4px; left: -1px; width: calc(100% + 2px); position: absolute;\">\n",
       "</span>\n",
       "\n",
       "    \n",
       "</span>\n",
       "\n",
       "<span style=\"font-weight: bold; display: inline-block; position: relative;\">\n",
       "    sovereignty\n",
       "    \n",
       "<span style=\"background: #7aecec; top: 31px; height: 4px; left: -1px; width: calc(100% + 2px); position: absolute;\">\n",
       "</span>\n",
       "\n",
       "    \n",
       "</span>\n",
       "\n",
       "<span style=\"font-weight: bold; display: inline-block; position: relative;\">\n",
       "    of\n",
       "    \n",
       "<span style=\"background: #7aecec; top: 31px; height: 4px; left: -1px; width: calc(100% + 2px); position: absolute;\">\n",
       "</span>\n",
       "\n",
       "    \n",
       "</span>\n",
       "\n",
       "<span style=\"font-weight: bold; display: inline-block; position: relative;\">\n",
       "    the\n",
       "    \n",
       "<span style=\"background: #7aecec; top: 31px; height: 4px; left: -1px; width: calc(100% + 2px); position: absolute;\">\n",
       "</span>\n",
       "\n",
       "    \n",
       "</span>\n",
       "\n",
       "<span style=\"font-weight: bold; display: inline-block; position: relative;\">\n",
       "    Pacific\n",
       "    \n",
       "<span style=\"background: #7aecec; top: 31px; height: 4px; left: -1px; width: calc(100% + 2px); position: absolute;\">\n",
       "</span>\n",
       "\n",
       "    \n",
       "</span>\n",
       ", while \n",
       "<span style=\"font-weight: bold; display: inline-block; position: relative;\">\n",
       "    Samoa\n",
       "    \n",
       "<span style=\"background: #bfeeb7; top: 31px; height: 4px; left: -1px; width: calc(100% + 2px); position: absolute;\">\n",
       "</span>\n",
       "\n",
       "    \n",
       "<span style=\"background: #bfeeb7; top: 31px; height: 4px; border-top-left-radius: 3px; border-bottom-left-radius: 3px; left: -1px; width: calc(100% + 2px); position: absolute;\">\n",
       "    <span style=\"background: #bfeeb7; z-index: 10; color: #000; top: -0.5em; padding: 2px 3px; position: absolute; font-size: 0.6em; font-weight: bold; line-height: 1; border-radius: 3px\">\n",
       "        SPEAKER\n",
       "    </span>\n",
       "</span>\n",
       "\n",
       "\n",
       "</span>\n",
       "\n",
       "<span style=\"font-weight: bold; display: inline-block; position: relative;\">\n",
       "    's\n",
       "    \n",
       "<span style=\"background: #bfeeb7; top: 31px; height: 4px; left: -1px; width: calc(100% + 2px); position: absolute;\">\n",
       "</span>\n",
       "\n",
       "    \n",
       "</span>\n",
       "\n",
       "<span style=\"font-weight: bold; display: inline-block; position: relative;\">\n",
       "    Prime\n",
       "    \n",
       "<span style=\"background: #bfeeb7; top: 31px; height: 4px; left: -1px; width: calc(100% + 2px); position: absolute;\">\n",
       "</span>\n",
       "\n",
       "    \n",
       "</span>\n",
       "\n",
       "<span style=\"font-weight: bold; display: inline-block; position: relative;\">\n",
       "    Minister\n",
       "    \n",
       "<span style=\"background: #bfeeb7; top: 31px; height: 4px; left: -1px; width: calc(100% + 2px); position: absolute;\">\n",
       "</span>\n",
       "\n",
       "    \n",
       "</span>\n",
       "\n",
       "<span style=\"font-weight: bold; display: inline-block; position: relative;\">\n",
       "    ,\n",
       "    \n",
       "<span style=\"background: #bfeeb7; top: 31px; height: 4px; left: -1px; width: calc(100% + 2px); position: absolute;\">\n",
       "</span>\n",
       "\n",
       "    \n",
       "</span>\n",
       "\n",
       "<span style=\"font-weight: bold; display: inline-block; position: relative;\">\n",
       "    Fiame\n",
       "    \n",
       "<span style=\"background: #bfeeb7; top: 31px; height: 4px; left: -1px; width: calc(100% + 2px); position: absolute;\">\n",
       "</span>\n",
       "\n",
       "    \n",
       "</span>\n",
       "\n",
       "<span style=\"font-weight: bold; display: inline-block; position: relative;\">\n",
       "    Naomi\n",
       "    \n",
       "<span style=\"background: #bfeeb7; top: 31px; height: 4px; left: -1px; width: calc(100% + 2px); position: absolute;\">\n",
       "</span>\n",
       "\n",
       "    \n",
       "</span>\n",
       "\n",
       "<span style=\"font-weight: bold; display: inline-block; position: relative;\">\n",
       "    Mata'afa\n",
       "    \n",
       "<span style=\"background: #bfeeb7; top: 31px; height: 4px; left: -1px; width: calc(100% + 2px); position: absolute;\">\n",
       "</span>\n",
       "\n",
       "    \n",
       "</span>\n",
       ", suggested \n",
       "<span style=\"font-weight: bold; display: inline-block; position: relative;\">\n",
       "    the\n",
       "    \n",
       "<span style=\"background: #7aecec; top: 31px; height: 4px; left: -1px; width: calc(100% + 2px); position: absolute;\">\n",
       "</span>\n",
       "\n",
       "    \n",
       "<span style=\"background: #7aecec; top: 31px; height: 4px; border-top-left-radius: 3px; border-bottom-left-radius: 3px; left: -1px; width: calc(100% + 2px); position: absolute;\">\n",
       "    <span style=\"background: #7aecec; z-index: 10; color: #000; top: -0.5em; padding: 2px 3px; position: absolute; font-size: 0.6em; font-weight: bold; line-height: 1; border-radius: 3px\">\n",
       "        QUOTE\n",
       "    </span>\n",
       "</span>\n",
       "\n",
       "\n",
       "</span>\n",
       "\n",
       "<span style=\"font-weight: bold; display: inline-block; position: relative;\">\n",
       "    process\n",
       "    \n",
       "<span style=\"background: #7aecec; top: 31px; height: 4px; left: -1px; width: calc(100% + 2px); position: absolute;\">\n",
       "</span>\n",
       "\n",
       "    \n",
       "</span>\n",
       "\n",
       "<span style=\"font-weight: bold; display: inline-block; position: relative;\">\n",
       "    had\n",
       "    \n",
       "<span style=\"background: #7aecec; top: 31px; height: 4px; left: -1px; width: calc(100% + 2px); position: absolute;\">\n",
       "</span>\n",
       "\n",
       "    \n",
       "</span>\n",
       "\n",
       "<span style=\"font-weight: bold; display: inline-block; position: relative;\">\n",
       "    been\n",
       "    \n",
       "<span style=\"background: #7aecec; top: 31px; height: 4px; left: -1px; width: calc(100% + 2px); position: absolute;\">\n",
       "</span>\n",
       "\n",
       "    \n",
       "</span>\n",
       "\n",
       "<span style=\"font-weight: bold; display: inline-block; position: relative;\">\n",
       "    rushed\n",
       "    \n",
       "<span style=\"background: #7aecec; top: 31px; height: 4px; left: -1px; width: calc(100% + 2px); position: absolute;\">\n",
       "</span>\n",
       "\n",
       "    \n",
       "</span>\n",
       ". \n",
       "<span style=\"font-weight: bold; display: inline-block; position: relative;\">\n",
       "    Pacific\n",
       "    \n",
       "<span style=\"background: #bfeeb7; top: 31px; height: 4px; left: -1px; width: calc(100% + 2px); position: absolute;\">\n",
       "</span>\n",
       "\n",
       "    \n",
       "<span style=\"background: #bfeeb7; top: 31px; height: 4px; border-top-left-radius: 3px; border-bottom-left-radius: 3px; left: -1px; width: calc(100% + 2px); position: absolute;\">\n",
       "    <span style=\"background: #bfeeb7; z-index: 10; color: #000; top: -0.5em; padding: 2px 3px; position: absolute; font-size: 0.6em; font-weight: bold; line-height: 1; border-radius: 3px\">\n",
       "        SPEAKER\n",
       "    </span>\n",
       "</span>\n",
       "\n",
       "\n",
       "</span>\n",
       "\n",
       "<span style=\"font-weight: bold; display: inline-block; position: relative;\">\n",
       "    expert\n",
       "    \n",
       "<span style=\"background: #bfeeb7; top: 31px; height: 4px; left: -1px; width: calc(100% + 2px); position: absolute;\">\n",
       "</span>\n",
       "\n",
       "    \n",
       "</span>\n",
       "\n",
       "<span style=\"font-weight: bold; display: inline-block; position: relative;\">\n",
       "    Anna\n",
       "    \n",
       "<span style=\"background: #bfeeb7; top: 31px; height: 4px; left: -1px; width: calc(100% + 2px); position: absolute;\">\n",
       "</span>\n",
       "\n",
       "    \n",
       "</span>\n",
       "\n",
       "<span style=\"font-weight: bold; display: inline-block; position: relative;\">\n",
       "    Powles\n",
       "    \n",
       "<span style=\"background: #bfeeb7; top: 31px; height: 4px; left: -1px; width: calc(100% + 2px); position: absolute;\">\n",
       "</span>\n",
       "\n",
       "    \n",
       "</span>\n",
       "\n",
       "<span style=\"font-weight: bold; display: inline-block; position: relative;\">\n",
       "    from\n",
       "    \n",
       "<span style=\"background: #bfeeb7; top: 31px; height: 4px; left: -1px; width: calc(100% + 2px); position: absolute;\">\n",
       "</span>\n",
       "\n",
       "    \n",
       "</span>\n",
       "\n",
       "<span style=\"font-weight: bold; display: inline-block; position: relative;\">\n",
       "    Massey\n",
       "    \n",
       "<span style=\"background: #bfeeb7; top: 31px; height: 4px; left: -1px; width: calc(100% + 2px); position: absolute;\">\n",
       "</span>\n",
       "\n",
       "    \n",
       "</span>\n",
       "\n",
       "<span style=\"font-weight: bold; display: inline-block; position: relative;\">\n",
       "    University\n",
       "    \n",
       "<span style=\"background: #bfeeb7; top: 31px; height: 4px; left: -1px; width: calc(100% + 2px); position: absolute;\">\n",
       "</span>\n",
       "\n",
       "    \n",
       "</span>\n",
       "told the ABC \n",
       "<span style=\"font-weight: bold; display: inline-block; position: relative;\">\n",
       "    \"\n",
       "    \n",
       "<span style=\"background: #7aecec; top: 31px; height: 4px; left: -1px; width: calc(100% + 2px); position: absolute;\">\n",
       "</span>\n",
       "\n",
       "    \n",
       "<span style=\"background: #7aecec; top: 31px; height: 4px; border-top-left-radius: 3px; border-bottom-left-radius: 3px; left: -1px; width: calc(100% + 2px); position: absolute;\">\n",
       "    <span style=\"background: #7aecec; z-index: 10; color: #000; top: -0.5em; padding: 2px 3px; position: absolute; font-size: 0.6em; font-weight: bold; line-height: 1; border-radius: 3px\">\n",
       "        QUOTE\n",
       "    </span>\n",
       "</span>\n",
       "\n",
       "\n",
       "</span>\n",
       "\n",
       "<span style=\"font-weight: bold; display: inline-block; position: relative;\">\n",
       "    very\n",
       "    \n",
       "<span style=\"background: #7aecec; top: 31px; height: 4px; left: -1px; width: calc(100% + 2px); position: absolute;\">\n",
       "</span>\n",
       "\n",
       "    \n",
       "</span>\n",
       "\n",
       "<span style=\"font-weight: bold; display: inline-block; position: relative;\">\n",
       "    little\n",
       "    \n",
       "<span style=\"background: #7aecec; top: 31px; height: 4px; left: -1px; width: calc(100% + 2px); position: absolute;\">\n",
       "</span>\n",
       "\n",
       "    \n",
       "</span>\n",
       "\n",
       "<span style=\"font-weight: bold; display: inline-block; position: relative;\">\n",
       "    \"\n",
       "    \n",
       "<span style=\"background: #7aecec; top: 31px; height: 4px; left: -1px; width: calc(100% + 2px); position: absolute;\">\n",
       "</span>\n",
       "\n",
       "    \n",
       "</span>\n",
       "\n",
       "<span style=\"font-weight: bold; display: inline-block; position: relative;\">\n",
       "    was\n",
       "    \n",
       "<span style=\"background: #7aecec; top: 31px; height: 4px; left: -1px; width: calc(100% + 2px); position: absolute;\">\n",
       "</span>\n",
       "\n",
       "    \n",
       "</span>\n",
       "\n",
       "<span style=\"font-weight: bold; display: inline-block; position: relative;\">\n",
       "    currently\n",
       "    \n",
       "<span style=\"background: #7aecec; top: 31px; height: 4px; left: -1px; width: calc(100% + 2px); position: absolute;\">\n",
       "</span>\n",
       "\n",
       "    \n",
       "</span>\n",
       "\n",
       "<span style=\"font-weight: bold; display: inline-block; position: relative;\">\n",
       "    known\n",
       "    \n",
       "<span style=\"background: #7aecec; top: 31px; height: 4px; left: -1px; width: calc(100% + 2px); position: absolute;\">\n",
       "</span>\n",
       "\n",
       "    \n",
       "</span>\n",
       "\n",
       "<span style=\"font-weight: bold; display: inline-block; position: relative;\">\n",
       "    about\n",
       "    \n",
       "<span style=\"background: #7aecec; top: 31px; height: 4px; left: -1px; width: calc(100% + 2px); position: absolute;\">\n",
       "</span>\n",
       "\n",
       "    \n",
       "</span>\n",
       "\n",
       "<span style=\"font-weight: bold; display: inline-block; position: relative;\">\n",
       "    the\n",
       "    \n",
       "<span style=\"background: #7aecec; top: 31px; height: 4px; left: -1px; width: calc(100% + 2px); position: absolute;\">\n",
       "</span>\n",
       "\n",
       "    \n",
       "</span>\n",
       "\n",
       "<span style=\"font-weight: bold; display: inline-block; position: relative;\">\n",
       "    meeting\n",
       "    \n",
       "<span style=\"background: #7aecec; top: 31px; height: 4px; left: -1px; width: calc(100% + 2px); position: absolute;\">\n",
       "</span>\n",
       "\n",
       "    \n",
       "</span>\n",
       "but it seemed to be part of China 's broader attempts to sideline the PIF . &quot; \n",
       "<span style=\"font-weight: bold; display: inline-block; position: relative;\">\n",
       "    It\n",
       "    \n",
       "<span style=\"background: #7aecec; top: 31px; height: 4px; left: -1px; width: calc(100% + 2px); position: absolute;\">\n",
       "</span>\n",
       "\n",
       "    \n",
       "<span style=\"background: #7aecec; top: 31px; height: 4px; border-top-left-radius: 3px; border-bottom-left-radius: 3px; left: -1px; width: calc(100% + 2px); position: absolute;\">\n",
       "    <span style=\"background: #7aecec; z-index: 10; color: #000; top: -0.5em; padding: 2px 3px; position: absolute; font-size: 0.6em; font-weight: bold; line-height: 1; border-radius: 3px\">\n",
       "        QUOTE\n",
       "    </span>\n",
       "</span>\n",
       "\n",
       "\n",
       "</span>\n",
       "\n",
       "<span style=\"font-weight: bold; display: inline-block; position: relative;\">\n",
       "    appears\n",
       "    \n",
       "<span style=\"background: #7aecec; top: 31px; height: 4px; left: -1px; width: calc(100% + 2px); position: absolute;\">\n",
       "</span>\n",
       "\n",
       "    \n",
       "</span>\n",
       "\n",
       "<span style=\"font-weight: bold; display: inline-block; position: relative;\">\n",
       "    to\n",
       "    \n",
       "<span style=\"background: #7aecec; top: 31px; height: 4px; left: -1px; width: calc(100% + 2px); position: absolute;\">\n",
       "</span>\n",
       "\n",
       "    \n",
       "</span>\n",
       "\n",
       "<span style=\"font-weight: bold; display: inline-block; position: relative;\">\n",
       "    be\n",
       "    \n",
       "<span style=\"background: #7aecec; top: 31px; height: 4px; left: -1px; width: calc(100% + 2px); position: absolute;\">\n",
       "</span>\n",
       "\n",
       "    \n",
       "</span>\n",
       "\n",
       "<span style=\"font-weight: bold; display: inline-block; position: relative;\">\n",
       "    an\n",
       "    \n",
       "<span style=\"background: #7aecec; top: 31px; height: 4px; left: -1px; width: calc(100% + 2px); position: absolute;\">\n",
       "</span>\n",
       "\n",
       "    \n",
       "</span>\n",
       "\n",
       "<span style=\"font-weight: bold; display: inline-block; position: relative;\">\n",
       "    attempt\n",
       "    \n",
       "<span style=\"background: #7aecec; top: 31px; height: 4px; left: -1px; width: calc(100% + 2px); position: absolute;\">\n",
       "</span>\n",
       "\n",
       "    \n",
       "</span>\n",
       "\n",
       "<span style=\"font-weight: bold; display: inline-block; position: relative;\">\n",
       "    to\n",
       "    \n",
       "<span style=\"background: #7aecec; top: 31px; height: 4px; left: -1px; width: calc(100% + 2px); position: absolute;\">\n",
       "</span>\n",
       "\n",
       "    \n",
       "</span>\n",
       "\n",
       "<span style=\"font-weight: bold; display: inline-block; position: relative;\">\n",
       "    deliberately\n",
       "    \n",
       "<span style=\"background: #7aecec; top: 31px; height: 4px; left: -1px; width: calc(100% + 2px); position: absolute;\">\n",
       "</span>\n",
       "\n",
       "    \n",
       "</span>\n",
       "\n",
       "<span style=\"font-weight: bold; display: inline-block; position: relative;\">\n",
       "    disrupt\n",
       "    \n",
       "<span style=\"background: #7aecec; top: 31px; height: 4px; left: -1px; width: calc(100% + 2px); position: absolute;\">\n",
       "</span>\n",
       "\n",
       "    \n",
       "</span>\n",
       "\n",
       "<span style=\"font-weight: bold; display: inline-block; position: relative;\">\n",
       "    existing\n",
       "    \n",
       "<span style=\"background: #7aecec; top: 31px; height: 4px; left: -1px; width: calc(100% + 2px); position: absolute;\">\n",
       "</span>\n",
       "\n",
       "    \n",
       "</span>\n",
       "\n",
       "<span style=\"font-weight: bold; display: inline-block; position: relative;\">\n",
       "    regional\n",
       "    \n",
       "<span style=\"background: #7aecec; top: 31px; height: 4px; left: -1px; width: calc(100% + 2px); position: absolute;\">\n",
       "</span>\n",
       "\n",
       "    \n",
       "</span>\n",
       "\n",
       "<span style=\"font-weight: bold; display: inline-block; position: relative;\">\n",
       "    mechanisms\n",
       "    \n",
       "<span style=\"background: #7aecec; top: 31px; height: 4px; left: -1px; width: calc(100% + 2px); position: absolute;\">\n",
       "</span>\n",
       "\n",
       "    \n",
       "</span>\n",
       "\n",
       "<span style=\"font-weight: bold; display: inline-block; position: relative;\">\n",
       "    which\n",
       "    \n",
       "<span style=\"background: #7aecec; top: 31px; height: 4px; left: -1px; width: calc(100% + 2px); position: absolute;\">\n",
       "</span>\n",
       "\n",
       "    \n",
       "</span>\n",
       "\n",
       "<span style=\"font-weight: bold; display: inline-block; position: relative;\">\n",
       "    China\n",
       "    \n",
       "<span style=\"background: #7aecec; top: 31px; height: 4px; left: -1px; width: calc(100% + 2px); position: absolute;\">\n",
       "</span>\n",
       "\n",
       "    \n",
       "</span>\n",
       "\n",
       "<span style=\"font-weight: bold; display: inline-block; position: relative;\">\n",
       "    is\n",
       "    \n",
       "<span style=\"background: #7aecec; top: 31px; height: 4px; left: -1px; width: calc(100% + 2px); position: absolute;\">\n",
       "</span>\n",
       "\n",
       "    \n",
       "</span>\n",
       "\n",
       "<span style=\"font-weight: bold; display: inline-block; position: relative;\">\n",
       "    not\n",
       "    \n",
       "<span style=\"background: #7aecec; top: 31px; height: 4px; left: -1px; width: calc(100% + 2px); position: absolute;\">\n",
       "</span>\n",
       "\n",
       "    \n",
       "</span>\n",
       "\n",
       "<span style=\"font-weight: bold; display: inline-block; position: relative;\">\n",
       "    a\n",
       "    \n",
       "<span style=\"background: #7aecec; top: 31px; height: 4px; left: -1px; width: calc(100% + 2px); position: absolute;\">\n",
       "</span>\n",
       "\n",
       "    \n",
       "</span>\n",
       "\n",
       "<span style=\"font-weight: bold; display: inline-block; position: relative;\">\n",
       "    part\n",
       "    \n",
       "<span style=\"background: #7aecec; top: 31px; height: 4px; left: -1px; width: calc(100% + 2px); position: absolute;\">\n",
       "</span>\n",
       "\n",
       "    \n",
       "</span>\n",
       "\n",
       "<span style=\"font-weight: bold; display: inline-block; position: relative;\">\n",
       "    of\n",
       "    \n",
       "<span style=\"background: #7aecec; top: 31px; height: 4px; left: -1px; width: calc(100% + 2px); position: absolute;\">\n",
       "</span>\n",
       "\n",
       "    \n",
       "</span>\n",
       ", &quot; \n",
       "<span style=\"font-weight: bold; display: inline-block; position: relative;\">\n",
       "    she\n",
       "    \n",
       "<span style=\"background: #bfeeb7; top: 31px; height: 4px; left: -1px; width: calc(100% + 2px); position: absolute;\">\n",
       "</span>\n",
       "\n",
       "    \n",
       "<span style=\"background: #bfeeb7; top: 31px; height: 4px; border-top-left-radius: 3px; border-bottom-left-radius: 3px; left: -1px; width: calc(100% + 2px); position: absolute;\">\n",
       "    <span style=\"background: #bfeeb7; z-index: 10; color: #000; top: -0.5em; padding: 2px 3px; position: absolute; font-size: 0.6em; font-weight: bold; line-height: 1; border-radius: 3px\">\n",
       "        SPEAKER\n",
       "    </span>\n",
       "</span>\n",
       "\n",
       "\n",
       "</span>\n",
       "said . </div></span>"
      ],
      "text/plain": [
       "<IPython.core.display.HTML object>"
      ]
     },
     "metadata": {},
     "output_type": "display_data"
    }
   ],
   "source": [
    "import spacy\n",
    "from spacy import displacy\n",
    "from spacy.tokens import Span\n",
    "\n",
    "text_id = 'text3'\n",
    "\n",
    "my_text = quotes_df[quotes_df['text_id']==text_id]['text'].tolist()[0]\n",
    "    \n",
    "# get the quotes and speakers indexes\n",
    "quotes_loc = quotes_df[quotes_df['text_id']==text_id]['quote_index'].tolist()\n",
    "speakers_loc = set(quotes_df[quotes_df['text_id']==text_id]['speaker_index'].tolist())\n",
    "all_locs = [quotes_loc, speakers_loc]\n",
    "\n",
    "my_code_list = ['doc.spans[\"sc\"] = [', \n",
    "                ']']\n",
    "\n",
    "for locs in all_locs:\n",
    "    for loc in locs:\n",
    "        if loc!='(0,0)':\n",
    "            start, end = loc[1:-1].split(',')\n",
    "            start = int(start)\n",
    "            end = int(end)\n",
    "            start_token = len(list(nlp(my_text[:start])))\n",
    "            end_token = len(list(nlp(my_text[:end])))\n",
    "            if locs == quotes_loc:\n",
    "                my_code_list.insert(1,'Span(doc, ' + str(start_token) + ', ' + str(end_token) + \", 'QUOTE'),\")\n",
    "            else:\n",
    "                my_code_list.insert(1,'Span(doc, ' + str(start_token) + ', ' + str(end_token) + \", 'SPEAKER'),\")\n",
    "\n",
    "my_code = ''.join(my_code_list)\n",
    "\n",
    "nlp = spacy.blank('en')\n",
    "doc = nlp(my_text)\n",
    "\n",
    "colors = {'QUOTE': '#7aecec', 'SPEAKER': '#bfeeb7'}\n",
    "options = {'ents': ['QUOTE', 'SPEAKER'], \n",
    "           'colors': colors, 'top_offset': 31}\n",
    "\n",
    "exec(my_code)\n",
    "\n",
    "displacy.render(doc, style='span', options=options, jupyter=True)"
   ]
  },
  {
   "cell_type": "code",
   "execution_count": 26,
   "id": "141982a0",
   "metadata": {},
   "outputs": [],
   "source": []
  },
  {
   "cell_type": "code",
   "execution_count": 2,
   "id": "f8cd507e",
   "metadata": {},
   "outputs": [
    {
     "data": {
      "application/vnd.jupyter.widget-view+json": {
       "model_id": "b6d6b74c596347f5915ee5502fe2e26c",
       "version_major": 2,
       "version_minor": 0
      },
      "text/plain": [
       "IntSlider(value=0)"
      ]
     },
     "metadata": {},
     "output_type": "display_data"
    }
   ],
   "source": [
    "import ipywidgets as widgets\n",
    "from IPython.display import display\n",
    "\n",
    "w = widgets.IntSlider()\n",
    "display(w)"
   ]
  },
  {
   "cell_type": "code",
   "execution_count": 6,
   "id": "cdb64ce3",
   "metadata": {},
   "outputs": [],
   "source": [
    "w.value = 100"
   ]
  },
  {
   "cell_type": "code",
   "execution_count": 8,
   "id": "d380a256",
   "metadata": {},
   "outputs": [
    {
     "data": {
      "text/plain": [
       "['_dom_classes',\n",
       " '_model_module',\n",
       " '_model_module_version',\n",
       " '_model_name',\n",
       " '_view_count',\n",
       " '_view_module',\n",
       " '_view_module_version',\n",
       " '_view_name',\n",
       " 'continuous_update',\n",
       " 'description',\n",
       " 'description_tooltip',\n",
       " 'disabled',\n",
       " 'layout',\n",
       " 'max',\n",
       " 'min',\n",
       " 'orientation',\n",
       " 'readout',\n",
       " 'readout_format',\n",
       " 'step',\n",
       " 'style',\n",
       " 'value']"
      ]
     },
     "execution_count": 8,
     "metadata": {},
     "output_type": "execute_result"
    }
   ],
   "source": [
    "w.keys"
   ]
  },
  {
   "cell_type": "code",
   "execution_count": 11,
   "id": "410eb954",
   "metadata": {},
   "outputs": [
    {
     "data": {
      "application/vnd.jupyter.widget-view+json": {
       "model_id": "94467b781bff449ba6b9c028bd566047",
       "version_major": 2,
       "version_minor": 0
      },
      "text/plain": [
       "Text(value='Hello World!', disabled=True)"
      ]
     },
     "metadata": {},
     "output_type": "display_data"
    }
   ],
   "source": [
    "widgets.Text(value='Hello World!', disabled=True)"
   ]
  },
  {
   "cell_type": "code",
   "execution_count": 55,
   "id": "d8581e22",
   "metadata": {},
   "outputs": [
    {
     "data": {
      "application/vnd.jupyter.widget-view+json": {
       "model_id": "23e0e40fca844ca39accd0b3a9084eb0",
       "version_major": 2,
       "version_minor": 0
      },
      "text/plain": [
       "Text(value='', description='String:', placeholder='Type something')"
      ]
     },
     "metadata": {},
     "output_type": "display_data"
    },
    {
     "data": {
      "application/vnd.jupyter.widget-view+json": {
       "model_id": "bd2c773f47ab43a99c7b16d3e091e76c",
       "version_major": 2,
       "version_minor": 0
      },
      "text/plain": [
       "Button(button_style='info', description='Click me', icon='check', style=ButtonStyle(), tooltip='Click me')"
      ]
     },
     "metadata": {},
     "output_type": "display_data"
    },
    {
     "name": "stdout",
     "output_type": "stream",
     "text": [
      "\n"
     ]
    },
    {
     "ename": "TypeError",
     "evalue": "'NoneType' object is not callable",
     "output_type": "error",
     "traceback": [
      "\u001b[0;31m---------------------------------------------------------------------------\u001b[0m",
      "\u001b[0;31mTypeError\u001b[0m                                 Traceback (most recent call last)",
      "\u001b[0;31mTypeError\u001b[0m: 'NoneType' object is not callable"
     ]
    }
   ],
   "source": [
    "x = widgets.Text(\n",
    "    value='',\n",
    "    placeholder='Type something',\n",
    "    description='String:',\n",
    "    disabled=False\n",
    ")\n",
    "\n",
    "y = widgets.Button(\n",
    "    description='Click me',\n",
    "    disabled=False,\n",
    "    button_style='info', # 'success', 'info', 'warning', 'danger' or ''\n",
    "    tooltip='Click me',\n",
    "    icon='check',\n",
    ")\n",
    "display(x)\n",
    "display(y)\n",
    "\n",
    "def show_x(z):\n",
    "    print(z)\n",
    "\n",
    "y.on_click(show_x(x.value))"
   ]
  },
  {
   "cell_type": "code",
   "execution_count": 58,
   "id": "ae9fbba9",
   "metadata": {},
   "outputs": [
    {
     "data": {
      "application/vnd.jupyter.widget-view+json": {
       "model_id": "f622ac39d4bb4dcfacbcc75a038d1f3c",
       "version_major": 2,
       "version_minor": 0
      },
      "text/plain": [
       "Button(description='Click Me!', style=ButtonStyle())"
      ]
     },
     "metadata": {},
     "output_type": "display_data"
    },
    {
     "data": {
      "application/vnd.jupyter.widget-view+json": {
       "model_id": "f9fddac8a03444a294d1172debd44003",
       "version_major": 2,
       "version_minor": 0
      },
      "text/plain": [
       "Output()"
      ]
     },
     "metadata": {},
     "output_type": "display_data"
    }
   ],
   "source": [
    "from IPython.display import clear_output\n",
    "\n",
    "button = widgets.Button(description=\"Click Me!\")\n",
    "output = widgets.Output()\n",
    "\n",
    "display(button, output)\n",
    "\n",
    "def on_button_clicked(b):\n",
    "    with output:\n",
    "        clear_output(wait=True)\n",
    "        print(\"Button clicked.\")\n",
    "\n",
    "button.on_click(on_button_clicked)"
   ]
  },
  {
   "cell_type": "code",
   "execution_count": 63,
   "id": "88396887",
   "metadata": {},
   "outputs": [],
   "source": [
    "# some handy functions to use along widgets\n",
    "from IPython.display import display, Markdown, clear_output\n",
    "\n",
    "# widget packages\n",
    "import ipywidgets as widgets\n",
    "\n",
    "# defining some widgets\n",
    "text = widgets.Text(\n",
    "    value='My Text',\n",
    "    description='Title', )\n",
    "\n",
    "calendar = widgets.DatePicker(\n",
    "    description='Select Date')\n",
    "\n",
    "slider = widgets.FloatSlider(\n",
    "    value=1,\n",
    "    min=0,\n",
    "    max=10.0,\n",
    "    step=0.1,)\n",
    "\n",
    "menu = widgets.Dropdown(\n",
    "    options=['red', 'blue', 'green'],\n",
    "    value='red',\n",
    "    description='Color:')\n",
    "\n",
    "checkbox = widgets.Checkbox(\n",
    "    description='Check to invert',)"
   ]
  },
  {
   "cell_type": "code",
   "execution_count": 66,
   "id": "27a2fc1e",
   "metadata": {},
   "outputs": [
    {
     "data": {
      "application/vnd.jupyter.widget-view+json": {
       "model_id": "a90951e1cb944f64994a6f329f34f494",
       "version_major": 2,
       "version_minor": 0
      },
      "text/plain": [
       "VBox(children=(Text(value='My Text', description='Title'), FloatSlider(value=1.0, max=10.0), Dropdown(descript…"
      ]
     },
     "metadata": {},
     "output_type": "display_data"
    }
   ],
   "source": [
    "box = widgets.VBox([text, slider, menu, calendar, checkbox])\n",
    "box"
   ]
  },
  {
   "cell_type": "code",
   "execution_count": 67,
   "id": "d569ffab",
   "metadata": {},
   "outputs": [
    {
     "data": {
      "application/vnd.jupyter.widget-view+json": {
       "model_id": "332caa297385406ca3b887642dc70fde",
       "version_major": 2,
       "version_minor": 0
      },
      "text/plain": [
       "HBox(children=(VBox(children=(Text(value='My Text', description='Title'), FloatSlider(value=1.0, max=10.0), Dr…"
      ]
     },
     "metadata": {},
     "output_type": "display_data"
    }
   ],
   "source": [
    "widgets.HBox([box, box])"
   ]
  },
  {
   "cell_type": "code",
   "execution_count": 69,
   "id": "69d3c1ab",
   "metadata": {},
   "outputs": [
    {
     "data": {
      "application/vnd.jupyter.widget-view+json": {
       "model_id": "1fc9704741404d7489207f65d826152c",
       "version_major": 2,
       "version_minor": 0
      },
      "text/plain": [
       "Tab(children=(VBox(children=(Text(value='My Text', description='Title'), FloatSlider(value=1.0, max=10.0), Dro…"
      ]
     },
     "metadata": {},
     "output_type": "display_data"
    }
   ],
   "source": [
    "# defining a list with the contents of our windows\n",
    "children = [box, box]\n",
    "\n",
    "# initializing a tab\n",
    "tab = widgets.Tab()\n",
    "\n",
    "# setting the tab windows \n",
    "tab.children = children\n",
    "\n",
    "# changing the title of the first and second window\n",
    "tab.set_title(0, 'box')\n",
    "tab.set_title(1, 'copy of box')\n",
    "\n",
    "tab"
   ]
  },
  {
   "cell_type": "code",
   "execution_count": 70,
   "id": "70400647",
   "metadata": {},
   "outputs": [
    {
     "data": {
      "text/plain": [
       "('red', 'blue', 'green')"
      ]
     },
     "execution_count": 70,
     "metadata": {},
     "output_type": "execute_result"
    }
   ],
   "source": [
    "menu.options"
   ]
  },
  {
   "cell_type": "code",
   "execution_count": 71,
   "id": "dcba9f14",
   "metadata": {},
   "outputs": [
    {
     "data": {
      "application/vnd.jupyter.widget-view+json": {
       "model_id": "91148ca4dd354420b3ceec65448b1757",
       "version_major": 2,
       "version_minor": 0
      },
      "text/plain": [
       "Dropdown(description='Color:', options=('red', 'blue', 'green', 'black'), value='red')"
      ]
     },
     "metadata": {},
     "output_type": "display_data"
    }
   ],
   "source": [
    "menu.options=('red', 'blue', 'green', 'black')\n",
    "menu"
   ]
  },
  {
   "cell_type": "code",
   "execution_count": 73,
   "id": "5ef8d7bd",
   "metadata": {},
   "outputs": [
    {
     "name": "stdout",
     "output_type": "stream",
     "text": [
      "Widget text has value My Text, of <class 'str'>\n",
      "Widget checkbox has value False, of <class 'bool'>\n",
      "Widget calendar has value 2022-06-29, of <class 'datetime.date'>\n"
     ]
    }
   ],
   "source": [
    "# current value of text, checkbox and calendar \n",
    "print('Widget text has value {}, of {}'.format(text.value, type(text.value)))\n",
    "print('Widget checkbox has value {}, of {}'.format(checkbox.value, type(checkbox.value)))\n",
    "print('Widget calendar has value {}, of {}'.format(calendar.value, type(calendar.value)))"
   ]
  },
  {
   "cell_type": "code",
   "execution_count": 75,
   "id": "a0573a30",
   "metadata": {},
   "outputs": [
    {
     "data": {
      "application/vnd.jupyter.widget-view+json": {
       "model_id": "5039383f99aa4079b328ff611b46cf2b",
       "version_major": 2,
       "version_minor": 0
      },
      "text/plain": [
       "VBox(children=(Button(description='My Button', style=ButtonStyle()), Output()))"
      ]
     },
     "metadata": {},
     "output_type": "display_data"
    }
   ],
   "source": [
    "button = widgets.Button(description='My Button')\n",
    "out = widgets.Output()\n",
    "\n",
    "def on_button_clicked(_):\n",
    "    # \"linking function with output\"\n",
    "    with out:\n",
    "        # what happens when we press the button\n",
    "        clear_output()\n",
    "        print('Something happens!')\n",
    "\n",
    "# linking button and function together using a button's method\n",
    "button.on_click(on_button_clicked)\n",
    "# displaying button and its output together\n",
    "widgets.VBox([button,out])"
   ]
  },
  {
   "cell_type": "code",
   "execution_count": 77,
   "id": "cd9d17c5",
   "metadata": {},
   "outputs": [
    {
     "data": {
      "application/vnd.jupyter.widget-view+json": {
       "model_id": "11a71cf027574b018d7b83086716e65b",
       "version_major": 2,
       "version_minor": 0
      },
      "text/plain": [
       "Output()"
      ]
     },
     "metadata": {},
     "output_type": "display_data"
    }
   ],
   "source": [
    "from IPython.display import Markdown\n",
    "\n",
    "# Using output to display Markdown\n",
    "markdown_out = widgets.Output()\n",
    "with markdown_out:\n",
    "    display(Markdown('Slider value is ${}$'.format(slider.value)))\n",
    "\n",
    "markdown_out"
   ]
  },
  {
   "cell_type": "code",
   "execution_count": 79,
   "id": "1e78aef7",
   "metadata": {},
   "outputs": [
    {
     "data": {
      "application/vnd.jupyter.widget-view+json": {
       "model_id": "968c5deaf3b44156a415308dae2a6895",
       "version_major": 2,
       "version_minor": 0
      },
      "text/plain": [
       "VBox(children=(Dropdown(options=('In', 'Out', 'exit', 'quit', 'widgets', 'display', 'w', 'x', 'y', 'z', 'butto…"
      ]
     },
     "metadata": {},
     "output_type": "display_data"
    }
   ],
   "source": [
    "# some options\n",
    "a, b = 1, 5\n",
    "\n",
    "# selecting global variables without underscores\n",
    "global_variables = list(globals().keys())\n",
    "funcs = []\n",
    "for i in global_variables:\n",
    "    if '_' not in i:\n",
    "        funcs.append(i)\n",
    "\n",
    "# creating menu with them   \n",
    "global_vars = widgets.Dropdown(options=funcs)\n",
    "\n",
    "# button, output, function and linkage\n",
    "butt = widgets.Button(description='Print Variable')\n",
    "outt = widgets.Output()\n",
    "\n",
    "def on_butt_clicked(b):\n",
    "    with outt:\n",
    "        clear_output()\n",
    "        print(type(globals()[global_vars.value]))\n",
    "        print(globals()[global_vars.value])\n",
    "        \n",
    "butt.on_click(on_butt_clicked)\n",
    "\n",
    "# display\n",
    "widgets.VBox([global_vars,butt,outt])"
   ]
  },
  {
   "cell_type": "code",
   "execution_count": null,
   "id": "b157c2db",
   "metadata": {},
   "outputs": [],
   "source": []
  },
  {
   "cell_type": "code",
   "execution_count": null,
   "id": "b9ae47fd",
   "metadata": {},
   "outputs": [],
   "source": []
  }
 ],
 "metadata": {
  "celltoolbar": "Raw Cell Format",
  "kernelspec": {
   "display_name": "Python 3 (ipykernel)",
   "language": "python",
   "name": "python3"
  },
  "language_info": {
   "codemirror_mode": {
    "name": "ipython",
    "version": 3
   },
   "file_extension": ".py",
   "mimetype": "text/x-python",
   "name": "python",
   "nbconvert_exporter": "python",
   "pygments_lexer": "ipython3",
   "version": "3.8.13"
  }
 },
 "nbformat": 4,
 "nbformat_minor": 5
}
