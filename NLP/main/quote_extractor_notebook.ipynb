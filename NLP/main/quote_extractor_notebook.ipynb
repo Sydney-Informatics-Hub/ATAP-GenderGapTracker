{
 "cells": [
  {
   "cell_type": "markdown",
   "id": "9c2662a3",
   "metadata": {},
   "source": [
    "# QuotationTool\n",
    "In this notebook, we will use the *QuotationTool* to extract quotes from a list of texts. In addition to extracting the quotes, the tool also provides information about who the speakers are, the location of the quotes (and the speakers) within the text, the identified named entities, etc., which can be useful for your text analysis.  \n",
    "\n",
    "**Note:** This code has been adapted (with permission) from the [GenderGapTracker GitHub page](https://github.com/sfu-discourse-lab/GenderGapTracker/tree/master/NLP/main) and modified to run on a Jupyter Notebook. The quotation tool’s accuracy rate is evaluated in [this article](https://doi.org/10.1371/journal.pone.0245533)."
   ]
  },
  {
   "cell_type": "markdown",
   "id": "dc99ca86",
   "metadata": {},
   "source": [
    "## 1. Setup\n",
    "Before we begin, we need to import the QuotationTool and initiate it to run in this notebook."
   ]
  },
  {
   "cell_type": "code",
   "execution_count": null,
   "id": "e6720419",
   "metadata": {
    "scrolled": false
   },
   "outputs": [],
   "source": [
    "# import the QuotationTool\n",
    "from extract_display_quotes import QuotationTool\n",
    "\n",
    "# initialize the QuotationTool\n",
    "qt = QuotationTool()"
   ]
  },
  {
   "cell_type": "markdown",
   "id": "7cf517c9",
   "metadata": {},
   "source": [
    "## 2. Load the data\n",
    "This notebook will allow you to extract quotes directly from a text file (or a number of text files). Alternatively, you can also extract quotes from a text column inside your excel spreadsheet.  \n",
    "\n",
    "To extract quotes directly from text files, please upload your text files (.txt) below. However, if you already have your texts stored inside an Excel spreadsheet, you can select the second tab to upload your spreadsheet."
   ]
  },
  {
   "cell_type": "code",
   "execution_count": null,
   "id": "2ad98bd1",
   "metadata": {
    "scrolled": false
   },
   "outputs": [],
   "source": [
    "# widget to upload .txt files\n",
    "tab = qt.upload_files()\n",
    "tab"
   ]
  },
  {
   "cell_type": "markdown",
   "id": "c700ef8b",
   "metadata": {},
   "source": [
    "Once your files are uploaded, you can run the below code to see a preview of the text in a table format (pandas dataframe)."
   ]
  },
  {
   "cell_type": "code",
   "execution_count": null,
   "id": "4742d4d1",
   "metadata": {},
   "outputs": [],
   "source": [
    "# display a preview of the pandas dataframe\n",
    "qt.text_df.head()"
   ]
  },
  {
   "cell_type": "markdown",
   "id": "4039347d",
   "metadata": {},
   "source": [
    "## 3. Extract the quotes\n",
    "Once your texts have been stored in a pandas dataframe, you can begin to extract the quotes from the texts. You can also extract named entities from your text by setting the named entities you wish to include in the below *inc_ent* variable."
   ]
  },
  {
   "cell_type": "code",
   "execution_count": null,
   "id": "9ab19f7a",
   "metadata": {
    "scrolled": false
   },
   "outputs": [],
   "source": [
    "inc_ent = ['ORG','PERSON','GPE','NORP','FAC','LOC']\n",
    "\n",
    "quotes_df = qt.get_quotes(inc_ent, create_tree=False)\n",
    "quotes_df.head()"
   ]
  },
  {
   "cell_type": "markdown",
   "id": "079bc8a7",
   "metadata": {},
   "source": [
    "In general, the quotes are extracted either based on syntactic rules or heuristic rules. Some quotes can be stand-alone in a sentence, or followed by another quote (floating quote) in the same sentence.   \n",
    "\n",
    "**Quotation symbols:** *Q (Quotation mark), S (Speaker), V (Verb), C (Content)*  \n",
    "\n",
    "**Named Entities:**  *PERSON (People, including fictional), NORP (Nationalities or religious or political groups), FAC (Buildings, airports, highways, bridges, etc.), ORG (Companies, agencies, institutions, etc.), GPE (Countries, cities, states), LOC (Non-GPE locations, mountain ranges, bodies of water)*"
   ]
  },
  {
   "cell_type": "markdown",
   "id": "70be6223",
   "metadata": {},
   "source": [
    "## 4. Display the quotes\n",
    "Once you have extracted the quotes, you can see a preview of the quotes using spaCy's visualisation tool, displaCy. All you need to do is run the below code and select the text_id you wish to analyse and what entities to show. \n",
    "\n",
    "Click the ***Preview*** button to display the quotes, and click ***Save Preview*** to save them as an html file. Lastly, you also have the option to show the top five Named Entities mentioned in the speakers and quotes by clicking the ***Top 5 Entitites*** button."
   ]
  },
  {
   "cell_type": "code",
   "execution_count": null,
   "id": "e536e55b",
   "metadata": {
    "scrolled": false
   },
   "outputs": [],
   "source": [
    "box = qt.analyse_quotes(inc_ent)\n",
    "box"
   ]
  },
  {
   "cell_type": "markdown",
   "id": "3607fd4b",
   "metadata": {},
   "source": [
    "## 5. Save your quotes\n",
    "Finally, you can save the quotes pandas dataframe into an Excel spreadsheet and download them to your local computer."
   ]
  },
  {
   "cell_type": "code",
   "execution_count": null,
   "id": "ec7d0163",
   "metadata": {
    "scrolled": false
   },
   "outputs": [],
   "source": [
    "# save quotes_df into an Excel spreadsheet\n",
    "quotes_df.to_excel('./output/quotes.xlsx', index=False)"
   ]
  }
 ],
 "metadata": {
  "kernelspec": {
   "display_name": "Python 3 (ipykernel)",
   "language": "python",
   "name": "python3"
  },
  "language_info": {
   "codemirror_mode": {
    "name": "ipython",
    "version": 3
   },
   "file_extension": ".py",
   "mimetype": "text/x-python",
   "name": "python",
   "nbconvert_exporter": "python",
   "pygments_lexer": "ipython3",
   "version": "3.8.13"
  },
  "vscode": {
   "interpreter": {
    "hash": "50e9832c473c86713864f61257029e15f281e1af6f46dd8361ab2dc7ec7915dd"
   }
  }
 },
 "nbformat": 4,
 "nbformat_minor": 5
}
