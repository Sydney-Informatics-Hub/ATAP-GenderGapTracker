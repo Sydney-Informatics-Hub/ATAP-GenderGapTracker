{
 "cells": [
  {
   "cell_type": "markdown",
   "id": "9c2662a3",
   "metadata": {},
   "source": [
    "# QuotationTool\n",
    "In this notebook, we will use the *QuotationTool* to extract quotes from a list of texts. In addition to extracting the quotes, the tool also provides information about who the speakers are, the location of the quotes (and the speakers) within the text, the identified named entities, etc., which can be useful for your text analysis.  \n",
    "\n",
    "**Note:** This code has been adapted (with permission) from the [GenderGapTracker GitHub page](https://github.com/sfu-discourse-lab/GenderGapTracker/tree/master/NLP/main) and modified to run on a Jupyter Notebook. The quotation tool’s accuracy rate is evaluated in [this article](https://doi.org/10.1371/journal.pone.0245533)."
   ]
  },
  {
   "cell_type": "markdown",
   "id": "dc99ca86",
   "metadata": {},
   "source": [
    "## 1. Setup\n",
    "Before we begin, we need to import the QuotationTool and initiate it to run in this notebook."
   ]
  },
  {
   "cell_type": "code",
   "execution_count": 1,
   "id": "e6720419",
   "metadata": {
    "scrolled": true
   },
   "outputs": [
    {
     "name": "stderr",
     "output_type": "stream",
     "text": [
      "[nltk_data] Downloading package punkt to /Users/mily/nltk_data...\n",
      "[nltk_data]   Package punkt is already up-to-date!\n"
     ]
    },
    {
     "name": "stdout",
     "output_type": "stream",
     "text": [
      "Loading spaCy language model...\n",
      "Finished loading.\n"
     ]
    }
   ],
   "source": [
    "# import the QuotationTool\n",
    "from extract_display_quotes import QuotationTool\n",
    "\n",
    "# initialize the QuotationTool\n",
    "qt = QuotationTool()"
   ]
  },
  {
   "cell_type": "markdown",
   "id": "7cf517c9",
   "metadata": {},
   "source": [
    "## 2. Load the data\n",
    "This notebook will allow you to extract quotes directly from a text file (or a number of text files). Alternatively, you can also extract quotes from a text column inside your excel spreadsheet.  \n",
    "\n",
    "To extract quotes directly from text files, please upload your text files (.txt) below. However, if you already have your texts stored inside an Excel spreadsheet, you can select the second tab to upload your spreadsheet."
   ]
  },
  {
   "cell_type": "code",
   "execution_count": 2,
   "id": "2ad98bd1",
   "metadata": {
    "scrolled": false
   },
   "outputs": [
    {
     "data": {
      "application/vnd.jupyter.widget-view+json": {
       "model_id": "d894264b38e44a879f13f52d0ccc24d8",
       "version_major": 2,
       "version_minor": 0
      },
      "text/plain": [
       "FileUpload(value={}, accept='.txt, .xlsx, .csv ', description='Upload your files (txt, csv or xlsx)', layout=L…"
      ]
     },
     "metadata": {},
     "output_type": "display_data"
    }
   ],
   "source": [
    "display(qt.file_uploader)"
   ]
  },
  {
   "cell_type": "markdown",
   "id": "c700ef8b",
   "metadata": {},
   "source": [
    "Once your files are uploaded, you can run the below code to see a preview of the text in a table format (pandas dataframe)."
   ]
  },
  {
   "cell_type": "code",
   "execution_count": 3,
   "id": "2ac9d273",
   "metadata": {},
   "outputs": [
    {
     "name": "stdout",
     "output_type": "stream",
     "text": [
      "Currently 9 documents are loaded for analysis\n"
     ]
    }
   ],
   "source": [
    "qt.process_upload()\n",
    "# display a preview of the pandas dataframe\n",
    "print('Currently {} documents are loaded for analysis'.format(qt.text_df.shape[0]))"
   ]
  },
  {
   "cell_type": "markdown",
   "id": "4039347d",
   "metadata": {},
   "source": [
    "## 3. Extract the quotes\n",
    "Once your texts have been stored in a pandas dataframe, you can begin to extract the quotes from the texts. You can also extract named entities from your text by setting the named entities you wish to include in the below *inc_ent* variable."
   ]
  },
  {
   "cell_type": "code",
   "execution_count": 4,
   "id": "9ab19f7a",
   "metadata": {
    "scrolled": false
   },
   "outputs": [
    {
     "data": {
      "text/html": [
       "<div>\n",
       "<style scoped>\n",
       "    .dataframe tbody tr th:only-of-type {\n",
       "        vertical-align: middle;\n",
       "    }\n",
       "\n",
       "    .dataframe tbody tr th {\n",
       "        vertical-align: top;\n",
       "    }\n",
       "\n",
       "    .dataframe thead th {\n",
       "        text-align: right;\n",
       "    }\n",
       "</style>\n",
       "<table border=\"1\" class=\"dataframe\">\n",
       "  <thead>\n",
       "    <tr style=\"text-align: right;\">\n",
       "      <th></th>\n",
       "      <th>text_id</th>\n",
       "      <th>text_name</th>\n",
       "      <th>quote_id</th>\n",
       "      <th>quote</th>\n",
       "      <th>quote_index</th>\n",
       "      <th>quote_entities</th>\n",
       "      <th>speaker</th>\n",
       "      <th>speaker_index</th>\n",
       "      <th>speaker_entities</th>\n",
       "      <th>verb</th>\n",
       "      <th>verb_index</th>\n",
       "      <th>quote_token_count</th>\n",
       "      <th>quote_type</th>\n",
       "      <th>is_floating_quote</th>\n",
       "    </tr>\n",
       "  </thead>\n",
       "  <tbody>\n",
       "    <tr>\n",
       "      <th>0</th>\n",
       "      <td>9b1a0027395fe8303d5cdf61886fa117</td>\n",
       "      <td>2000-02-05_Herald Sun (Melbourne, Australia)_H...</td>\n",
       "      <td>0</td>\n",
       "      <td>\"People in office buildings without air-condit...</td>\n",
       "      <td>(1603, 1779)</td>\n",
       "      <td>[]</td>\n",
       "      <td></td>\n",
       "      <td>(0, 0)</td>\n",
       "      <td>[]</td>\n",
       "      <td></td>\n",
       "      <td>(0, 0)</td>\n",
       "      <td>33</td>\n",
       "      <td>Heuristic</td>\n",
       "      <td>False</td>\n",
       "    </tr>\n",
       "    <tr>\n",
       "      <th>1</th>\n",
       "      <td>9b1a0027395fe8303d5cdf61886fa117</td>\n",
       "      <td>2000-02-05_Herald Sun (Melbourne, Australia)_H...</td>\n",
       "      <td>1</td>\n",
       "      <td>employers should consider sending sweltering o...</td>\n",
       "      <td>(37, 99)</td>\n",
       "      <td>[]</td>\n",
       "      <td>HEALTH authorities</td>\n",
       "      <td>(14, 32)</td>\n",
       "      <td>[]</td>\n",
       "      <td>say</td>\n",
       "      <td>(33, 36)</td>\n",
       "      <td>8</td>\n",
       "      <td>S V C</td>\n",
       "      <td>False</td>\n",
       "    </tr>\n",
       "    <tr>\n",
       "      <th>2</th>\n",
       "      <td>9b1a0027395fe8303d5cdf61886fa117</td>\n",
       "      <td>2000-02-05_Herald Sun (Melbourne, Australia)_H...</td>\n",
       "      <td>2</td>\n",
       "      <td>household power bans will not be enforced on t...</td>\n",
       "      <td>(534, 649)</td>\n",
       "      <td>[]</td>\n",
       "      <td>He</td>\n",
       "      <td>(526, 528)</td>\n",
       "      <td>[]</td>\n",
       "      <td>says</td>\n",
       "      <td>(529, 533)</td>\n",
       "      <td>22</td>\n",
       "      <td>S V C</td>\n",
       "      <td>False</td>\n",
       "    </tr>\n",
       "    <tr>\n",
       "      <th>3</th>\n",
       "      <td>9b1a0027395fe8303d5cdf61886fa117</td>\n",
       "      <td>2000-02-05_Herald Sun (Melbourne, Australia)_H...</td>\n",
       "      <td>3</td>\n",
       "      <td>Afternoon bans on air-conditioning, lighting, ...</td>\n",
       "      <td>(1299, 1405)</td>\n",
       "      <td>[]</td>\n",
       "      <td>Dr Brooke.</td>\n",
       "      <td>(1419, 1429)</td>\n",
       "      <td>[(Dr Brooke, PERSON), (Brooke, PERSON)]</td>\n",
       "      <td>according to</td>\n",
       "      <td>(1406, 1418)</td>\n",
       "      <td>20</td>\n",
       "      <td>AccordingTo</td>\n",
       "      <td>False</td>\n",
       "    </tr>\n",
       "    <tr>\n",
       "      <th>4</th>\n",
       "      <td>9b1a0027395fe8303d5cdf61886fa117</td>\n",
       "      <td>2000-02-05_Herald Sun (Melbourne, Australia)_H...</td>\n",
       "      <td>4</td>\n",
       "      <td>This is a significant occupational health and ...</td>\n",
       "      <td>(1507, 1565)</td>\n",
       "      <td>[]</td>\n",
       "      <td>he</td>\n",
       "      <td>(1568, 1570)</td>\n",
       "      <td>[]</td>\n",
       "      <td>told</td>\n",
       "      <td>(1571, 1575)</td>\n",
       "      <td>9</td>\n",
       "      <td>Q C Q S V</td>\n",
       "      <td>False</td>\n",
       "    </tr>\n",
       "  </tbody>\n",
       "</table>\n",
       "</div>"
      ],
      "text/plain": [
       "                            text_id  \\\n",
       "0  9b1a0027395fe8303d5cdf61886fa117   \n",
       "1  9b1a0027395fe8303d5cdf61886fa117   \n",
       "2  9b1a0027395fe8303d5cdf61886fa117   \n",
       "3  9b1a0027395fe8303d5cdf61886fa117   \n",
       "4  9b1a0027395fe8303d5cdf61886fa117   \n",
       "\n",
       "                                           text_name quote_id  \\\n",
       "0  2000-02-05_Herald Sun (Melbourne, Australia)_H...        0   \n",
       "1  2000-02-05_Herald Sun (Melbourne, Australia)_H...        1   \n",
       "2  2000-02-05_Herald Sun (Melbourne, Australia)_H...        2   \n",
       "3  2000-02-05_Herald Sun (Melbourne, Australia)_H...        3   \n",
       "4  2000-02-05_Herald Sun (Melbourne, Australia)_H...        4   \n",
       "\n",
       "                                               quote   quote_index  \\\n",
       "0  \"People in office buildings without air-condit...  (1603, 1779)   \n",
       "1  employers should consider sending sweltering o...      (37, 99)   \n",
       "2  household power bans will not be enforced on t...    (534, 649)   \n",
       "3  Afternoon bans on air-conditioning, lighting, ...  (1299, 1405)   \n",
       "4  This is a significant occupational health and ...  (1507, 1565)   \n",
       "\n",
       "  quote_entities             speaker speaker_index  \\\n",
       "0             []                            (0, 0)   \n",
       "1             []  HEALTH authorities      (14, 32)   \n",
       "2             []                  He    (526, 528)   \n",
       "3             []          Dr Brooke.  (1419, 1429)   \n",
       "4             []                  he  (1568, 1570)   \n",
       "\n",
       "                          speaker_entities          verb    verb_index  \\\n",
       "0                                       []                      (0, 0)   \n",
       "1                                       []           say      (33, 36)   \n",
       "2                                       []          says    (529, 533)   \n",
       "3  [(Dr Brooke, PERSON), (Brooke, PERSON)]  according to  (1406, 1418)   \n",
       "4                                       []          told  (1571, 1575)   \n",
       "\n",
       "   quote_token_count   quote_type  is_floating_quote  \n",
       "0                 33    Heuristic              False  \n",
       "1                  8        S V C              False  \n",
       "2                 22        S V C              False  \n",
       "3                 20  AccordingTo              False  \n",
       "4                  9    Q C Q S V              False  "
      ]
     },
     "execution_count": 4,
     "metadata": {},
     "output_type": "execute_result"
    }
   ],
   "source": [
    "inc_ent = ['ORG','PERSON','GPE','NORP','FAC','LOC']\n",
    "\n",
    "quotes_df = qt.get_quotes(inc_ent, create_tree=False)\n",
    "quotes_df.head()"
   ]
  },
  {
   "cell_type": "markdown",
   "id": "079bc8a7",
   "metadata": {},
   "source": [
    "In general, the quotes are extracted either based on syntactic rules or heuristic rules. Some quotes can be stand-alone in a sentence, or followed by another quote (floating quote) in the same sentence.   \n",
    "\n",
    "**Quotation symbols:** *Q (Quotation mark), S (Speaker), V (Verb), C (Content)*  \n",
    "\n",
    "**Named Entities:**  *PERSON (People, including fictional), NORP (Nationalities or religious or political groups), FAC (Buildings, airports, highways, bridges, etc.), ORG (Companies, agencies, institutions, etc.), GPE (Countries, cities, states), LOC (Non-GPE locations, mountain ranges, bodies of water)*"
   ]
  },
  {
   "cell_type": "markdown",
   "id": "70be6223",
   "metadata": {},
   "source": [
    "## 4. Display the quotes\n",
    "Once you have extracted the quotes, you can see a preview of the quotes using spaCy's visualisation tool, displaCy. All you need to do is run the below code and select the text_id you wish to analyse and what entities to show. \n",
    "\n",
    "Click the ***Preview*** button to display the quotes, and click ***Save Preview*** to save them as an html file. Lastly, you also have the option to show the top five Named Entities mentioned in the speakers and quotes by clicking the ***Top 5 Entitites*** button."
   ]
  },
  {
   "cell_type": "code",
   "execution_count": 5,
   "id": "e536e55b",
   "metadata": {
    "scrolled": false
   },
   "outputs": [
    {
     "data": {
      "application/vnd.jupyter.widget-view+json": {
       "model_id": "4a97bcd5abbf42d4a341dabf2bf9a774",
       "version_major": 2,
       "version_minor": 0
      },
      "text/plain": [
       "VBox(children=(HBox(children=(VBox(children=(Combobox(value='', ensure_option=True, layout=Layout(width='280px…"
      ]
     },
     "metadata": {},
     "output_type": "display_data"
    }
   ],
   "source": [
    "box = qt.analyse_quotes(inc_ent)\n",
    "box"
   ]
  },
  {
   "cell_type": "markdown",
   "id": "3607fd4b",
   "metadata": {},
   "source": [
    "## 5. Save your quotes\n",
    "Finally, you can save the quotes pandas dataframe into an Excel spreadsheet and download them to your local computer."
   ]
  },
  {
   "cell_type": "code",
   "execution_count": 6,
   "id": "ec7d0163",
   "metadata": {
    "scrolled": true
   },
   "outputs": [],
   "source": [
    "# save quotes_df into an Excel spreadsheet\n",
    "quotes_df.to_excel('./output/quotes.xlsx', index=False)"
   ]
  },
  {
   "cell_type": "code",
   "execution_count": null,
   "id": "76bb43cc",
   "metadata": {},
   "outputs": [],
   "source": []
  }
 ],
 "metadata": {
  "kernelspec": {
   "display_name": "Python 3 (ipykernel)",
   "language": "python",
   "name": "python3"
  },
  "language_info": {
   "codemirror_mode": {
    "name": "ipython",
    "version": 3
   },
   "file_extension": ".py",
   "mimetype": "text/x-python",
   "name": "python",
   "nbconvert_exporter": "python",
   "pygments_lexer": "ipython3",
   "version": "3.9.10"
  },
  "vscode": {
   "interpreter": {
    "hash": "50e9832c473c86713864f61257029e15f281e1af6f46dd8361ab2dc7ec7915dd"
   }
  }
 },
 "nbformat": 4,
 "nbformat_minor": 5
}
