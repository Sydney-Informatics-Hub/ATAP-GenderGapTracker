{
 "cells": [
  {
   "cell_type": "markdown",
   "id": "9c2662a3",
   "metadata": {},
   "source": [
    "# QuotationTool\n",
    "In this notebook, we will use the *QuotationTool* to extract quotes from a list of texts. In addition to extracting the quotes, the tool also provides information about who the speakers are, the location of the quotes (and the speakers) within the text, the identified named entities, etc., which can be useful for your text analysis.  \n",
    "\n",
    "**Note:** This code has been adapted (with permission) from the [GenderGapTracker GitHub page](https://github.com/sfu-discourse-lab/GenderGapTracker/tree/master/NLP/main) and modified to run on a Jupyter Notebook. The quotation tool’s accuracy rate is evaluated in [this article](https://doi.org/10.1371/journal.pone.0245533)."
   ]
  },
  {
   "cell_type": "markdown",
   "id": "dc99ca86",
   "metadata": {},
   "source": [
    "## 1. Setup\n",
    "Before we begin, we need to import the QuotationTool and initiate it to run in this notebook."
   ]
  },
  {
   "cell_type": "code",
   "execution_count": 1,
   "id": "e6720419",
   "metadata": {
    "scrolled": true
   },
   "outputs": [
    {
     "name": "stderr",
     "output_type": "stream",
     "text": [
      "[nltk_data] Downloading package punkt to /Users/mily/nltk_data...\n",
      "[nltk_data]   Package punkt is already up-to-date!\n"
     ]
    },
    {
     "name": "stdout",
     "output_type": "stream",
     "text": [
      "Loading spaCy language model...\n",
      "Finished loading.\n"
     ]
    }
   ],
   "source": [
    "# import the QuotationTool\n",
    "from extract_display_quotes import QuotationTool\n",
    "\n",
    "# initialize the QuotationTool\n",
    "qt = QuotationTool()\n"
   ]
  },
  {
   "cell_type": "markdown",
   "id": "7cf517c9",
   "metadata": {},
   "source": [
    "## 2. Load the data\n",
    "This notebook will allow you to extract quotes directly from a text file (or a number of text files). Alternatively, you can also extract quotes from a text column inside your excel spreadsheet.  \n",
    "\n",
    "To extract quotes directly from text files, please upload your text files (.txt) below. However, if you already have your texts stored inside an Excel spreadsheet, you can select the second tab to upload your spreadsheet."
   ]
  },
  {
   "cell_type": "code",
   "execution_count": 2,
   "id": "2ad98bd1",
   "metadata": {
    "scrolled": false
   },
   "outputs": [
    {
     "data": {
      "application/vnd.jupyter.widget-view+json": {
       "model_id": "1690f60c9dfb46109f25342c2aeaef81",
       "version_major": 2,
       "version_minor": 0
      },
      "text/plain": [
       "FileUpload(value={}, accept='.txt, .xlsx, .csv ', description='Upload your files (txt, csv or xlsx)', layout=L…"
      ]
     },
     "metadata": {},
     "output_type": "display_data"
    }
   ],
   "source": [
    "display(qt.file_uploader)"
   ]
  },
  {
   "cell_type": "markdown",
   "id": "c700ef8b",
   "metadata": {},
   "source": [
    "Once your files are uploaded, you can run the below code to see a preview of the text in a table format (pandas dataframe)."
   ]
  },
  {
   "cell_type": "code",
   "execution_count": 3,
   "id": "2ac9d273",
   "metadata": {},
   "outputs": [],
   "source": [
    "qt.process_upload(deduplication=True)\n",
    "# display a preview of the pandas dataframe\n",
    "qt.text_df.head()"
   ]
  },
  {
   "cell_type": "markdown",
   "id": "4039347d",
   "metadata": {},
   "source": [
    "## 3. Extract the quotes\n",
    "Once your texts have been stored in a pandas dataframe, you can begin to extract the quotes from the texts. You can also extract named entities from your text by setting the named entities you wish to include in the below *inc_ent* variable."
   ]
  },
  {
   "cell_type": "code",
   "execution_count": 5,
   "id": "9ab19f7a",
   "metadata": {
    "scrolled": false
   },
   "outputs": [
    {
     "data": {
      "text/html": [
       "<div>\n",
       "<style scoped>\n",
       "    .dataframe tbody tr th:only-of-type {\n",
       "        vertical-align: middle;\n",
       "    }\n",
       "\n",
       "    .dataframe tbody tr th {\n",
       "        vertical-align: top;\n",
       "    }\n",
       "\n",
       "    .dataframe thead th {\n",
       "        text-align: right;\n",
       "    }\n",
       "</style>\n",
       "<table border=\"1\" class=\"dataframe\">\n",
       "  <thead>\n",
       "    <tr style=\"text-align: right;\">\n",
       "      <th></th>\n",
       "      <th>text_id</th>\n",
       "      <th>text_name</th>\n",
       "      <th>quote_id</th>\n",
       "      <th>quote</th>\n",
       "      <th>quote_index</th>\n",
       "      <th>quote_entities</th>\n",
       "      <th>speaker</th>\n",
       "      <th>speaker_index</th>\n",
       "      <th>speaker_entities</th>\n",
       "      <th>verb</th>\n",
       "      <th>verb_index</th>\n",
       "      <th>quote_token_count</th>\n",
       "      <th>quote_type</th>\n",
       "      <th>is_floating_quote</th>\n",
       "    </tr>\n",
       "  </thead>\n",
       "  <tbody>\n",
       "    <tr>\n",
       "      <th>0</th>\n",
       "      <td>d7a54b7c9ea957240c31912c794ff7a7</td>\n",
       "      <td>2000-02-05_Herald Sun (Melbourne, Australia)_R...</td>\n",
       "      <td>0</td>\n",
       "      <td>\"I was so nervous on my first day,\"</td>\n",
       "      <td>(400, 435)</td>\n",
       "      <td>[]</td>\n",
       "      <td></td>\n",
       "      <td>(0, 0)</td>\n",
       "      <td>[]</td>\n",
       "      <td></td>\n",
       "      <td>(0, 0)</td>\n",
       "      <td>11</td>\n",
       "      <td>Heuristic</td>\n",
       "      <td>False</td>\n",
       "    </tr>\n",
       "    <tr>\n",
       "      <th>1</th>\n",
       "      <td>d7a54b7c9ea957240c31912c794ff7a7</td>\n",
       "      <td>2000-02-05_Herald Sun (Melbourne, Australia)_R...</td>\n",
       "      <td>1</td>\n",
       "      <td>\"I spent the holidays having nightmares about ...</td>\n",
       "      <td>(489, 572)</td>\n",
       "      <td>[]</td>\n",
       "      <td></td>\n",
       "      <td>(0, 0)</td>\n",
       "      <td>[]</td>\n",
       "      <td></td>\n",
       "      <td>(0, 0)</td>\n",
       "      <td>16</td>\n",
       "      <td>Heuristic</td>\n",
       "      <td>False</td>\n",
       "    </tr>\n",
       "    <tr>\n",
       "      <th>2</th>\n",
       "      <td>d7a54b7c9ea957240c31912c794ff7a7</td>\n",
       "      <td>2000-02-05_Herald Sun (Melbourne, Australia)_R...</td>\n",
       "      <td>2</td>\n",
       "      <td>\" Her young charges will tackle reading, writi...</td>\n",
       "      <td>(688, 967)</td>\n",
       "      <td>[(Carrondo, ORG), (Carrondo, NORP)]</td>\n",
       "      <td></td>\n",
       "      <td>(0, 0)</td>\n",
       "      <td>[]</td>\n",
       "      <td>develop</td>\n",
       "      <td>(986, 993)</td>\n",
       "      <td>57</td>\n",
       "      <td>Heuristic</td>\n",
       "      <td>False</td>\n",
       "    </tr>\n",
       "    <tr>\n",
       "      <th>3</th>\n",
       "      <td>d7a54b7c9ea957240c31912c794ff7a7</td>\n",
       "      <td>2000-02-05_Herald Sun (Melbourne, Australia)_R...</td>\n",
       "      <td>3</td>\n",
       "      <td>\" she says. The pressure to be super-organised...</td>\n",
       "      <td>(1059, 1146)</td>\n",
       "      <td>[]</td>\n",
       "      <td></td>\n",
       "      <td>(0, 0)</td>\n",
       "      <td>[]</td>\n",
       "      <td></td>\n",
       "      <td>(0, 0)</td>\n",
       "      <td>20</td>\n",
       "      <td>Heuristic</td>\n",
       "      <td>False</td>\n",
       "    </tr>\n",
       "    <tr>\n",
       "      <th>4</th>\n",
       "      <td>d7a54b7c9ea957240c31912c794ff7a7</td>\n",
       "      <td>2000-02-05_Herald Sun (Melbourne, Australia)_R...</td>\n",
       "      <td>4</td>\n",
       "      <td>\" Carrondo, one of hundreds of new teaching gr...</td>\n",
       "      <td>(1286, 1445)</td>\n",
       "      <td>[(Carrondo, ORG), (Carrondo, NORP)]</td>\n",
       "      <td></td>\n",
       "      <td>(0, 0)</td>\n",
       "      <td>[]</td>\n",
       "      <td></td>\n",
       "      <td>(0, 0)</td>\n",
       "      <td>29</td>\n",
       "      <td>Heuristic</td>\n",
       "      <td>False</td>\n",
       "    </tr>\n",
       "  </tbody>\n",
       "</table>\n",
       "</div>"
      ],
      "text/plain": [
       "                            text_id  \\\n",
       "0  d7a54b7c9ea957240c31912c794ff7a7   \n",
       "1  d7a54b7c9ea957240c31912c794ff7a7   \n",
       "2  d7a54b7c9ea957240c31912c794ff7a7   \n",
       "3  d7a54b7c9ea957240c31912c794ff7a7   \n",
       "4  d7a54b7c9ea957240c31912c794ff7a7   \n",
       "\n",
       "                                           text_name quote_id  \\\n",
       "0  2000-02-05_Herald Sun (Melbourne, Australia)_R...        0   \n",
       "1  2000-02-05_Herald Sun (Melbourne, Australia)_R...        1   \n",
       "2  2000-02-05_Herald Sun (Melbourne, Australia)_R...        2   \n",
       "3  2000-02-05_Herald Sun (Melbourne, Australia)_R...        3   \n",
       "4  2000-02-05_Herald Sun (Melbourne, Australia)_R...        4   \n",
       "\n",
       "                                               quote   quote_index  \\\n",
       "0                \"I was so nervous on my first day,\"    (400, 435)   \n",
       "1  \"I spent the holidays having nightmares about ...    (489, 572)   \n",
       "2  \" Her young charges will tackle reading, writi...    (688, 967)   \n",
       "3  \" she says. The pressure to be super-organised...  (1059, 1146)   \n",
       "4  \" Carrondo, one of hundreds of new teaching gr...  (1286, 1445)   \n",
       "\n",
       "                        quote_entities speaker speaker_index speaker_entities  \\\n",
       "0                                   []                (0, 0)               []   \n",
       "1                                   []                (0, 0)               []   \n",
       "2  [(Carrondo, ORG), (Carrondo, NORP)]                (0, 0)               []   \n",
       "3                                   []                (0, 0)               []   \n",
       "4  [(Carrondo, ORG), (Carrondo, NORP)]                (0, 0)               []   \n",
       "\n",
       "      verb  verb_index  quote_token_count quote_type  is_floating_quote  \n",
       "0               (0, 0)                 11  Heuristic              False  \n",
       "1               (0, 0)                 16  Heuristic              False  \n",
       "2  develop  (986, 993)                 57  Heuristic              False  \n",
       "3               (0, 0)                 20  Heuristic              False  \n",
       "4               (0, 0)                 29  Heuristic              False  "
      ]
     },
     "execution_count": 5,
     "metadata": {},
     "output_type": "execute_result"
    }
   ],
   "source": [
    "inc_ent = ['ORG','PERSON','GPE','NORP','FAC','LOC']\n",
    "\n",
    "quotes_df = qt.get_quotes(inc_ent, create_tree=False)\n",
    "quotes_df.head()"
   ]
  },
  {
   "cell_type": "markdown",
   "id": "079bc8a7",
   "metadata": {},
   "source": [
    "In general, the quotes are extracted either based on syntactic rules or heuristic rules. Some quotes can be stand-alone in a sentence, or followed by another quote (floating quote) in the same sentence.   \n",
    "\n",
    "**Quotation symbols:** *Q (Quotation mark), S (Speaker), V (Verb), C (Content)*  \n",
    "\n",
    "**Named Entities:**  *PERSON (People, including fictional), NORP (Nationalities or religious or political groups), FAC (Buildings, airports, highways, bridges, etc.), ORG (Companies, agencies, institutions, etc.), GPE (Countries, cities, states), LOC (Non-GPE locations, mountain ranges, bodies of water)*"
   ]
  },
  {
   "cell_type": "markdown",
   "id": "70be6223",
   "metadata": {},
   "source": [
    "## 4. Display the quotes\n",
    "Once you have extracted the quotes, you can see a preview of the quotes using spaCy's visualisation tool, displaCy. All you need to do is run the below code and select the text_id you wish to analyse and what entities to show. \n",
    "\n",
    "Click the ***Preview*** button to display the quotes, and click ***Save Preview*** to save them as an html file. Lastly, you also have the option to show the top five Named Entities mentioned in the speakers and quotes by clicking the ***Top 5 Entitites*** button."
   ]
  },
  {
   "cell_type": "code",
   "execution_count": 6,
   "id": "e536e55b",
   "metadata": {
    "scrolled": false
   },
   "outputs": [
    {
     "data": {
      "application/vnd.jupyter.widget-view+json": {
       "model_id": "9657185f6a1e41448b4fc9157cf87b1e",
       "version_major": 2,
       "version_minor": 0
      },
      "text/plain": [
       "VBox(children=(HBox(children=(VBox(children=(HTML(value='<b>Select which text to preview:</b>', placeholder=''…"
      ]
     },
     "metadata": {},
     "output_type": "display_data"
    }
   ],
   "source": [
    "box = qt.analyse_quotes(inc_ent)\n",
    "box"
   ]
  },
  {
   "cell_type": "markdown",
   "id": "3607fd4b",
   "metadata": {},
   "source": [
    "## 5. Save your quotes\n",
    "Finally, you can save the quotes pandas dataframe into an Excel spreadsheet and download them to your local computer."
   ]
  },
  {
   "cell_type": "code",
   "execution_count": null,
   "id": "ec7d0163",
   "metadata": {
    "scrolled": true
   },
   "outputs": [],
   "source": [
    "# save quotes_df into an Excel spreadsheet\n",
    "quotes_df.to_excel('./output/quotes.xlsx', index=False)"
   ]
  }
 ],
 "metadata": {
  "kernelspec": {
   "display_name": "Python 3 (ipykernel)",
   "language": "python",
   "name": "python3"
  },
  "language_info": {
   "codemirror_mode": {
    "name": "ipython",
    "version": 3
   },
   "file_extension": ".py",
   "mimetype": "text/x-python",
   "name": "python",
   "nbconvert_exporter": "python",
   "pygments_lexer": "ipython3",
   "version": "3.9.10"
  },
  "vscode": {
   "interpreter": {
    "hash": "50e9832c473c86713864f61257029e15f281e1af6f46dd8361ab2dc7ec7915dd"
   }
  }
 },
 "nbformat": 4,
 "nbformat_minor": 5
}
