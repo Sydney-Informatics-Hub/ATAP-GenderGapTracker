{
 "cells": [
  {
   "cell_type": "markdown",
   "id": "9c2662a3",
   "metadata": {},
   "source": [
    "# QuotationTool\n",
    "In this notebook, we will use the *QuotationTool* to extract quotes from a list of texts. In addition to extracting the quotes, the tool also provides information about who the speakers are, the location of the quotes (and the speakers) within the text, the identified named entities, etc., which can be useful for your text analysis.  \n",
    "\n",
    "**Note:** This code has been adapted (with permission) from the [GenderGapTracker GitHub page](https://github.com/sfu-discourse-lab/GenderGapTracker/tree/master/NLP/main) and modified to run on a Jupyter Notebook. The quotation tool’s accuracy rate is evaluated in [this article](https://doi.org/10.1371/journal.pone.0245533)."
   ]
  },
  {
   "cell_type": "markdown",
   "id": "dc99ca86",
   "metadata": {},
   "source": [
    "## 1. Setup\n",
    "Before we begin, we need to import the QuotationTool and initiate it to run in this notebook."
   ]
  },
  {
   "cell_type": "code",
   "execution_count": 1,
   "id": "e6720419",
   "metadata": {
    "scrolled": false
   },
   "outputs": [
    {
     "name": "stderr",
     "output_type": "stream",
     "text": [
      "[nltk_data] Downloading package punkt to /Users/sjuf9909/nltk_data...\n",
      "[nltk_data]   Package punkt is already up-to-date!\n"
     ]
    },
    {
     "name": "stdout",
     "output_type": "stream",
     "text": [
      "Loading spaCy language model...\n",
      "Finished loading.\n"
     ]
    }
   ],
   "source": [
    "# import the QuotationTool\n",
    "from extract_display_quotes import QuotationTool\n",
    "\n",
    "# initialize the QuotationTool\n",
    "qt = QuotationTool()"
   ]
  },
  {
   "cell_type": "markdown",
   "id": "7cf517c9",
   "metadata": {},
   "source": [
    "## 2. Load the data\n",
    "This notebook will allow you to extract quotes directly from a text file (or a number of text files). Alternatively, you can also extract quotes from a text column inside your excel spreadsheet.  \n",
    "\n",
    "To extract quotes directly from text files, please upload your text files (.txt) below. However, if you already have your texts stored inside an Excel spreadsheet, you can select the second tab to upload your spreadsheet."
   ]
  },
  {
   "cell_type": "code",
   "execution_count": 2,
   "id": "2ad98bd1",
   "metadata": {
    "scrolled": false
   },
   "outputs": [
    {
     "data": {
      "application/vnd.jupyter.widget-view+json": {
       "model_id": "8e6d927790b64193a12cc4de7b658343",
       "version_major": 2,
       "version_minor": 0
      },
      "text/plain": [
       "HTML(value='<b>File uploaded!</b>', layout=Layout(margin='0px 0px 0px 0px'), placeholder='')"
      ]
     },
     "metadata": {},
     "output_type": "display_data"
    }
   ],
   "source": [
    "# widget to upload .txt files\n",
    "tab = qt.upload_files()\n",
    "tab"
   ]
  },
  {
   "cell_type": "markdown",
   "id": "c700ef8b",
   "metadata": {},
   "source": [
    "Once your files are uploaded, you can run the below code to see a preview of the text in a table format (pandas dataframe)."
   ]
  },
  {
   "cell_type": "code",
   "execution_count": 3,
   "id": "718a5cc9",
   "metadata": {
    "scrolled": false
   },
   "outputs": [
    {
     "data": {
      "text/html": [
       "<div>\n",
       "<style scoped>\n",
       "    .dataframe tbody tr th:only-of-type {\n",
       "        vertical-align: middle;\n",
       "    }\n",
       "\n",
       "    .dataframe tbody tr th {\n",
       "        vertical-align: top;\n",
       "    }\n",
       "\n",
       "    .dataframe thead th {\n",
       "        text-align: right;\n",
       "    }\n",
       "</style>\n",
       "<table border=\"1\" class=\"dataframe\">\n",
       "  <thead>\n",
       "    <tr style=\"text-align: right;\">\n",
       "      <th></th>\n",
       "      <th>text_name</th>\n",
       "      <th>text</th>\n",
       "      <th>spacy_text</th>\n",
       "    </tr>\n",
       "    <tr>\n",
       "      <th>text_id</th>\n",
       "      <th></th>\n",
       "      <th></th>\n",
       "      <th></th>\n",
       "    </tr>\n",
       "  </thead>\n",
       "  <tbody>\n",
       "    <tr>\n",
       "      <th>2022-07-08-272713f6-d</th>\n",
       "      <td>text1</td>\n",
       "      <td>Facebook and Instagram, which Facebook owns, f...</td>\n",
       "      <td>(Facebook, and, Instagram, ,, which, Facebook,...</td>\n",
       "    </tr>\n",
       "    <tr>\n",
       "      <th>2022-07-08-318ca66d-0</th>\n",
       "      <td>text2</td>\n",
       "      <td>(CBC News)\\nRepublican lawmakers and previous ...</td>\n",
       "      <td>((, CBC, News, ), ., \\n , Republican, lawmaker...</td>\n",
       "    </tr>\n",
       "    <tr>\n",
       "      <th>2022-07-08-bfab7f44-d</th>\n",
       "      <td>text3 copy super lon</td>\n",
       "      <td>Federated States of Micronesia President David...</td>\n",
       "      <td>(Federated, States, of, Micronesia, President,...</td>\n",
       "    </tr>\n",
       "    <tr>\n",
       "      <th>2022-07-08-060b7690-3</th>\n",
       "      <td>text3 copy super lon-0</td>\n",
       "      <td>Federated States of Micronesia President David...</td>\n",
       "      <td>(Federated, States, of, Micronesia, President,...</td>\n",
       "    </tr>\n",
       "    <tr>\n",
       "      <th>2022-07-08-84f00580-9</th>\n",
       "      <td>text3 copy super lon-1</td>\n",
       "      <td>Federated States of Micronesia President David...</td>\n",
       "      <td>(Federated, States, of, Micronesia, President,...</td>\n",
       "    </tr>\n",
       "  </tbody>\n",
       "</table>\n",
       "</div>"
      ],
      "text/plain": [
       "                                    text_name  \\\n",
       "text_id                                         \n",
       "2022-07-08-272713f6-d                   text1   \n",
       "2022-07-08-318ca66d-0                   text2   \n",
       "2022-07-08-bfab7f44-d    text3 copy super lon   \n",
       "2022-07-08-060b7690-3  text3 copy super lon-0   \n",
       "2022-07-08-84f00580-9  text3 copy super lon-1   \n",
       "\n",
       "                                                                    text  \\\n",
       "text_id                                                                    \n",
       "2022-07-08-272713f6-d  Facebook and Instagram, which Facebook owns, f...   \n",
       "2022-07-08-318ca66d-0  (CBC News)\\nRepublican lawmakers and previous ...   \n",
       "2022-07-08-bfab7f44-d  Federated States of Micronesia President David...   \n",
       "2022-07-08-060b7690-3  Federated States of Micronesia President David...   \n",
       "2022-07-08-84f00580-9  Federated States of Micronesia President David...   \n",
       "\n",
       "                                                              spacy_text  \n",
       "text_id                                                                   \n",
       "2022-07-08-272713f6-d  (Facebook, and, Instagram, ,, which, Facebook,...  \n",
       "2022-07-08-318ca66d-0  ((, CBC, News, ), ., \\n , Republican, lawmaker...  \n",
       "2022-07-08-bfab7f44-d  (Federated, States, of, Micronesia, President,...  \n",
       "2022-07-08-060b7690-3  (Federated, States, of, Micronesia, President,...  \n",
       "2022-07-08-84f00580-9  (Federated, States, of, Micronesia, President,...  "
      ]
     },
     "execution_count": 3,
     "metadata": {},
     "output_type": "execute_result"
    }
   ],
   "source": [
    "# display a preview of the pandas dataframe\n",
    "qt.text_df.head()"
   ]
  },
  {
   "cell_type": "markdown",
   "id": "4039347d",
   "metadata": {},
   "source": [
    "## 3. Extract the quotes\n",
    "Once your texts have been stored in a pandas dataframe, you can begin to extract the quotes from the texts. You can also extract named entities from your text by setting the named entities you wish to include in the below *inc_ent* variable."
   ]
  },
  {
   "cell_type": "code",
   "execution_count": 4,
   "id": "9ab19f7a",
   "metadata": {
    "scrolled": false
   },
   "outputs": [
    {
     "data": {
      "text/html": [
       "<div>\n",
       "<style scoped>\n",
       "    .dataframe tbody tr th:only-of-type {\n",
       "        vertical-align: middle;\n",
       "    }\n",
       "\n",
       "    .dataframe tbody tr th {\n",
       "        vertical-align: top;\n",
       "    }\n",
       "\n",
       "    .dataframe thead th {\n",
       "        text-align: right;\n",
       "    }\n",
       "</style>\n",
       "<table border=\"1\" class=\"dataframe\">\n",
       "  <thead>\n",
       "    <tr style=\"text-align: right;\">\n",
       "      <th></th>\n",
       "      <th>text_id</th>\n",
       "      <th>text_name</th>\n",
       "      <th>quote_id</th>\n",
       "      <th>quote</th>\n",
       "      <th>quote_index</th>\n",
       "      <th>quote_entities</th>\n",
       "      <th>speaker</th>\n",
       "      <th>speaker_index</th>\n",
       "      <th>speaker_entities</th>\n",
       "      <th>verb</th>\n",
       "      <th>verb_index</th>\n",
       "      <th>quote_token_count</th>\n",
       "      <th>quote_type</th>\n",
       "      <th>is_floating_quote</th>\n",
       "    </tr>\n",
       "  </thead>\n",
       "  <tbody>\n",
       "    <tr>\n",
       "      <th>0</th>\n",
       "      <td>2022-07-08-272713f6-d</td>\n",
       "      <td>text1</td>\n",
       "      <td>0</td>\n",
       "      <td>\"We didn't just see a breach at the Capitol. S...</td>\n",
       "      <td>(1052, 1238)</td>\n",
       "      <td>[(the United States, GPE), (Capitol, FAC), (Ca...</td>\n",
       "      <td>Grygiel</td>\n",
       "      <td>(1239, 1246)</td>\n",
       "      <td>[(Grygiel, PERSON)]</td>\n",
       "      <td>said</td>\n",
       "      <td>(1247, 1251)</td>\n",
       "      <td>38</td>\n",
       "      <td>Heuristic</td>\n",
       "      <td>False</td>\n",
       "    </tr>\n",
       "    <tr>\n",
       "      <th>1</th>\n",
       "      <td>2022-07-08-272713f6-d</td>\n",
       "      <td>text1</td>\n",
       "      <td>1</td>\n",
       "      <td>\"Social media is complicit in this because he ...</td>\n",
       "      <td>(1492, 1691)</td>\n",
       "      <td>[(the United States, GPE)]</td>\n",
       "      <td></td>\n",
       "      <td>(0, 0)</td>\n",
       "      <td>[]</td>\n",
       "      <td>caused</td>\n",
       "      <td>(1705, 1711)</td>\n",
       "      <td>39</td>\n",
       "      <td>Heuristic</td>\n",
       "      <td>False</td>\n",
       "    </tr>\n",
       "    <tr>\n",
       "      <th>2</th>\n",
       "      <td>2022-07-08-272713f6-d</td>\n",
       "      <td>text1</td>\n",
       "      <td>2</td>\n",
       "      <td>that Trump wouldn't be able to post for 24 hou...</td>\n",
       "      <td>(84, 173)</td>\n",
       "      <td>[(Trump, ORG), (Trump, PERSON)]</td>\n",
       "      <td>Facebook and Instagram, which Facebook owns,</td>\n",
       "      <td>(0, 44)</td>\n",
       "      <td>[(Facebook, ORG), (Instagram, ORG)]</td>\n",
       "      <td>announcing</td>\n",
       "      <td>(73, 83)</td>\n",
       "      <td>17</td>\n",
       "      <td>S V C</td>\n",
       "      <td>False</td>\n",
       "    </tr>\n",
       "    <tr>\n",
       "      <th>3</th>\n",
       "      <td>2022-07-08-272713f6-d</td>\n",
       "      <td>text1</td>\n",
       "      <td>3</td>\n",
       "      <td>that these actions follow years of hemming and...</td>\n",
       "      <td>(302, 489)</td>\n",
       "      <td>[(Trump, ORG), (Trump, PERSON)]</td>\n",
       "      <td>experts</td>\n",
       "      <td>(288, 295)</td>\n",
       "      <td>[]</td>\n",
       "      <td>noted</td>\n",
       "      <td>(296, 301)</td>\n",
       "      <td>26</td>\n",
       "      <td>S V C</td>\n",
       "      <td>False</td>\n",
       "    </tr>\n",
       "    <tr>\n",
       "      <th>4</th>\n",
       "      <td>2022-07-08-272713f6-d</td>\n",
       "      <td>text1</td>\n",
       "      <td>4</td>\n",
       "      <td>what happened in Washington, D.C., on Wednesda...</td>\n",
       "      <td>(592, 813)</td>\n",
       "      <td>[(Trump, ORG), (Washington, GPE), (D.C., GPE),...</td>\n",
       "      <td>Jennifer Grygiel, a Syracuse University commun...</td>\n",
       "      <td>(491, 586)</td>\n",
       "      <td>[(Grygiel, PERSON), (Syracuse University, ORG)...</td>\n",
       "      <td>said</td>\n",
       "      <td>(587, 591)</td>\n",
       "      <td>38</td>\n",
       "      <td>S V C</td>\n",
       "      <td>False</td>\n",
       "    </tr>\n",
       "  </tbody>\n",
       "</table>\n",
       "</div>"
      ],
      "text/plain": [
       "                 text_id text_name quote_id  \\\n",
       "0  2022-07-08-272713f6-d     text1        0   \n",
       "1  2022-07-08-272713f6-d     text1        1   \n",
       "2  2022-07-08-272713f6-d     text1        2   \n",
       "3  2022-07-08-272713f6-d     text1        3   \n",
       "4  2022-07-08-272713f6-d     text1        4   \n",
       "\n",
       "                                               quote   quote_index  \\\n",
       "0  \"We didn't just see a breach at the Capitol. S...  (1052, 1238)   \n",
       "1  \"Social media is complicit in this because he ...  (1492, 1691)   \n",
       "2  that Trump wouldn't be able to post for 24 hou...     (84, 173)   \n",
       "3  that these actions follow years of hemming and...    (302, 489)   \n",
       "4  what happened in Washington, D.C., on Wednesda...    (592, 813)   \n",
       "\n",
       "                                      quote_entities  \\\n",
       "0  [(the United States, GPE), (Capitol, FAC), (Ca...   \n",
       "1                         [(the United States, GPE)]   \n",
       "2                    [(Trump, ORG), (Trump, PERSON)]   \n",
       "3                    [(Trump, ORG), (Trump, PERSON)]   \n",
       "4  [(Trump, ORG), (Washington, GPE), (D.C., GPE),...   \n",
       "\n",
       "                                             speaker speaker_index  \\\n",
       "0                                            Grygiel  (1239, 1246)   \n",
       "1                                                           (0, 0)   \n",
       "2       Facebook and Instagram, which Facebook owns,       (0, 44)   \n",
       "3                                            experts    (288, 295)   \n",
       "4  Jennifer Grygiel, a Syracuse University commun...    (491, 586)   \n",
       "\n",
       "                                    speaker_entities        verb  \\\n",
       "0                                [(Grygiel, PERSON)]        said   \n",
       "1                                                 []      caused   \n",
       "2                [(Facebook, ORG), (Instagram, ORG)]  announcing   \n",
       "3                                                 []       noted   \n",
       "4  [(Grygiel, PERSON), (Syracuse University, ORG)...        said   \n",
       "\n",
       "     verb_index  quote_token_count quote_type  is_floating_quote  \n",
       "0  (1247, 1251)                 38  Heuristic              False  \n",
       "1  (1705, 1711)                 39  Heuristic              False  \n",
       "2      (73, 83)                 17      S V C              False  \n",
       "3    (296, 301)                 26      S V C              False  \n",
       "4    (587, 591)                 38      S V C              False  "
      ]
     },
     "execution_count": 4,
     "metadata": {},
     "output_type": "execute_result"
    }
   ],
   "source": [
    "inc_ent = ['ORG','PERSON','GPE','NORP','FAC','LOC']\n",
    "\n",
    "quotes_df = qt.get_quotes(inc_ent, create_tree=False)\n",
    "quotes_df.head()"
   ]
  },
  {
   "cell_type": "markdown",
   "id": "079bc8a7",
   "metadata": {},
   "source": [
    "In general, the quotes are extracted either based on syntactic rules or heuristic rules. Some quotes can be stand-alone in a sentence, or followed by another quote (floating quote) by the same speaker in the same sentence.   \n",
    "\n",
    "**Quotation symbols:** *Q (Quotation mark), S (Speaker), V (Verb), C (Content of the quote)*  \n",
    "\n",
    "**Named Entities:**  *PERSON (People, including fictional), NORP (Nationalities or religious or political groups), FAC (Buildings, airports, highways, bridges, etc.), ORG (Companies, agencies, institutions, etc.), GPE (Countries, cities, states), LOC (Non-GPE locations, mountain ranges, bodies of water)*"
   ]
  },
  {
   "cell_type": "markdown",
   "id": "70be6223",
   "metadata": {},
   "source": [
    "## 4. Display the quotes\n",
    "Once you have extracted the quotes, you can see a preview of the quotes using spaCy's visualisation tool, displaCy. All you need to do is run the below code and select the text_id you wish to analyse and what entities to show. \n",
    "\n",
    "Click the ***Preview*** button to display the quotes, and click ***Save Preview*** to save them as an html file. You can also click the ***Top 5 Entitites*** button to show the top five Named Entities mentioned in both the speakers and the quotes."
   ]
  },
  {
   "cell_type": "code",
   "execution_count": 5,
   "id": "e536e55b",
   "metadata": {
    "scrolled": false
   },
   "outputs": [
    {
     "data": {
      "application/vnd.jupyter.widget-view+json": {
       "model_id": "8ad30ad0859846099faeb990a8c9fbce",
       "version_major": 2,
       "version_minor": 0
      },
      "text/plain": [
       "VBox(children=(HBox(children=(VBox(children=(HTML(value='<b>Select which text to preview:</b>', placeholder=''…"
      ]
     },
     "metadata": {},
     "output_type": "display_data"
    }
   ],
   "source": [
    "box = qt.analyse_quotes(inc_ent)\n",
    "box"
   ]
  },
  {
   "cell_type": "markdown",
   "id": "3607fd4b",
   "metadata": {},
   "source": [
    "## 5. Save your quotes\n",
    "Finally, you can save the quotes pandas dataframe into an Excel spreadsheet and download them to your local computer."
   ]
  },
  {
   "cell_type": "code",
   "execution_count": 6,
   "id": "ec7d0163",
   "metadata": {
    "scrolled": false
   },
   "outputs": [],
   "source": [
    "# save quotes_df into an Excel spreadsheet\n",
    "quotes_df.to_excel('./output/quotes.xlsx', index=False)"
   ]
  }
 ],
 "metadata": {
  "kernelspec": {
   "display_name": "Python 3 (ipykernel)",
   "language": "python",
   "name": "python3"
  },
  "language_info": {
   "codemirror_mode": {
    "name": "ipython",
    "version": 3
   },
   "file_extension": ".py",
   "mimetype": "text/x-python",
   "name": "python",
   "nbconvert_exporter": "python",
   "pygments_lexer": "ipython3",
   "version": "3.8.13"
  },
  "vscode": {
   "interpreter": {
    "hash": "50e9832c473c86713864f61257029e15f281e1af6f46dd8361ab2dc7ec7915dd"
   }
  }
 },
 "nbformat": 4,
 "nbformat_minor": 5
}
