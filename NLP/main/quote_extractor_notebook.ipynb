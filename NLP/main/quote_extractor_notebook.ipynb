{
 "cells": [
  {
   "cell_type": "markdown",
   "id": "9c2662a3",
   "metadata": {},
   "source": [
    "# Quote Extractor\n",
    "In this notebook, we will use the *Quote Extractor* tool to extract quotes from a list of texts. In addition to extracting the quotes, the tool provides information about who the speaker is, the location of the quote (and the speaker) in the text.  \n",
    "\n",
    "**Note:** This code has been adapted from the [GenderGapTracker](https://github.com/sfu-discourse-lab/GenderGapTracker/tree/master/NLP/main) GitHub page and modified to run on a Jupyter Notebook."
   ]
  },
  {
   "cell_type": "markdown",
   "id": "dc99ca86",
   "metadata": {},
   "source": [
    "## 1. Setup\n",
    "Before we begin, we need to import the necessary tools and packages for our tool to run."
   ]
  },
  {
   "cell_type": "code",
   "execution_count": 1,
   "id": "e6720419",
   "metadata": {},
   "outputs": [
    {
     "name": "stderr",
     "output_type": "stream",
     "text": [
      "[nltk_data] Downloading package punkt to /Users/sjuf9909/nltk_data...\n",
      "[nltk_data]   Package punkt is already up-to-date!\n"
     ]
    },
    {
     "name": "stdout",
     "output_type": "stream",
     "text": [
      "Loading spaCy language model...\n",
      "Finished loading.\n"
     ]
    }
   ],
   "source": [
    "# import QuotationTool\n",
    "from extract_display_quotes import QuotationTool\n",
    "\n",
    "# initialize the QuotationTool\n",
    "qt = QuotationTool()"
   ]
  },
  {
   "cell_type": "markdown",
   "id": "7cf517c9",
   "metadata": {},
   "source": [
    "## 2. Load the data\n",
    "This notebook will allow you to extract quotes directly from a text file (or a number of text files). Alternatively, you can also extract quotes from a text column inside your excel spreadsheet, if you wish."
   ]
  },
  {
   "cell_type": "markdown",
   "id": "bfba236e",
   "metadata": {},
   "source": [
    "### 2.1. From a text file\n",
    "In order to extract quotes directly from a text file, please upload all your text files (.txt) below. Using the below code, we will access those files and extract the text into a pandas dataframe (in table format) for further processing."
   ]
  },
  {
   "cell_type": "code",
   "execution_count": 2,
   "id": "2ad98bd1",
   "metadata": {},
   "outputs": [
    {
     "name": "stdout",
     "output_type": "stream",
     "text": [
      "File uploaded!\n"
     ]
    }
   ],
   "source": [
    "# widget to upload .txt files\n",
    "txt_upload = qt.upload_files(file_type = 'text')\n",
    "txt_upload"
   ]
  },
  {
   "cell_type": "code",
   "execution_count": 3,
   "id": "ba4e3912",
   "metadata": {},
   "outputs": [
    {
     "data": {
      "text/html": [
       "<div>\n",
       "<style scoped>\n",
       "    .dataframe tbody tr th:only-of-type {\n",
       "        vertical-align: middle;\n",
       "    }\n",
       "\n",
       "    .dataframe tbody tr th {\n",
       "        vertical-align: top;\n",
       "    }\n",
       "\n",
       "    .dataframe thead th {\n",
       "        text-align: right;\n",
       "    }\n",
       "</style>\n",
       "<table border=\"1\" class=\"dataframe\">\n",
       "  <thead>\n",
       "    <tr style=\"text-align: right;\">\n",
       "      <th></th>\n",
       "      <th>text</th>\n",
       "      <th>spacy_text</th>\n",
       "    </tr>\n",
       "    <tr>\n",
       "      <th>text_id</th>\n",
       "      <th></th>\n",
       "      <th></th>\n",
       "    </tr>\n",
       "  </thead>\n",
       "  <tbody>\n",
       "    <tr>\n",
       "      <th>text1</th>\n",
       "      <td>Facebook and Instagram, which Facebook owns, f...</td>\n",
       "      <td>(Facebook, and, Instagram, ,, which, Facebook,...</td>\n",
       "    </tr>\n",
       "    <tr>\n",
       "      <th>text2</th>\n",
       "      <td>(CBC News)\\nRepublican lawmakers and previous ...</td>\n",
       "      <td>((, CBC, News, ), ., \\n , Republican, lawmaker...</td>\n",
       "    </tr>\n",
       "    <tr>\n",
       "      <th>text3</th>\n",
       "      <td>Federated States of Micronesia President David...</td>\n",
       "      <td>(Federated, States, of, Micronesia, President,...</td>\n",
       "    </tr>\n",
       "    <tr>\n",
       "      <th>text4</th>\n",
       "      <td>Chinese state media has launched its strongest...</td>\n",
       "      <td>(Chinese, state, media, has, launched, its, st...</td>\n",
       "    </tr>\n",
       "  </tbody>\n",
       "</table>\n",
       "</div>"
      ],
      "text/plain": [
       "                                                      text  \\\n",
       "text_id                                                      \n",
       "text1    Facebook and Instagram, which Facebook owns, f...   \n",
       "text2    (CBC News)\\nRepublican lawmakers and previous ...   \n",
       "text3    Federated States of Micronesia President David...   \n",
       "text4    Chinese state media has launched its strongest...   \n",
       "\n",
       "                                                spacy_text  \n",
       "text_id                                                     \n",
       "text1    (Facebook, and, Instagram, ,, which, Facebook,...  \n",
       "text2    ((, CBC, News, ), ., \\n , Republican, lawmaker...  \n",
       "text3    (Federated, States, of, Micronesia, President,...  \n",
       "text4    (Chinese, state, media, has, launched, its, st...  "
      ]
     },
     "execution_count": 3,
     "metadata": {},
     "output_type": "execute_result"
    }
   ],
   "source": [
    "# process the uploaded txt files and convert them into a pandas dataframe \n",
    "# for further analysis\n",
    "text_df = qt.process_txt(txt_upload)\n",
    "text_df.head()"
   ]
  },
  {
   "cell_type": "markdown",
   "id": "ce4802e6",
   "metadata": {},
   "source": [
    "### 2.2. From an Excel spreadsheet\n",
    "If you have already stored your texts in an Excel spreadsheet, you can use the below code to access your spreadsheet."
   ]
  },
  {
   "cell_type": "code",
   "execution_count": 4,
   "id": "c03c2dad",
   "metadata": {
    "tags": [
     "hide-input"
    ]
   },
   "outputs": [
    {
     "name": "stdout",
     "output_type": "stream",
     "text": [
      "File uploaded!\n"
     ]
    }
   ],
   "source": [
    "# widget to upload .xlsx files\n",
    "xlsx_upload = qt.upload_files(file_type = 'excel')\n",
    "xlsx_upload"
   ]
  },
  {
   "cell_type": "code",
   "execution_count": 5,
   "id": "708fc913",
   "metadata": {},
   "outputs": [
    {
     "data": {
      "text/html": [
       "<div>\n",
       "<style scoped>\n",
       "    .dataframe tbody tr th:only-of-type {\n",
       "        vertical-align: middle;\n",
       "    }\n",
       "\n",
       "    .dataframe tbody tr th {\n",
       "        vertical-align: top;\n",
       "    }\n",
       "\n",
       "    .dataframe thead th {\n",
       "        text-align: right;\n",
       "    }\n",
       "</style>\n",
       "<table border=\"1\" class=\"dataframe\">\n",
       "  <thead>\n",
       "    <tr style=\"text-align: right;\">\n",
       "      <th></th>\n",
       "      <th>text</th>\n",
       "      <th>spacy_text</th>\n",
       "    </tr>\n",
       "    <tr>\n",
       "      <th>text_id</th>\n",
       "      <th></th>\n",
       "      <th></th>\n",
       "    </tr>\n",
       "  </thead>\n",
       "  <tbody>\n",
       "    <tr>\n",
       "      <th>text1</th>\n",
       "      <td>Facebook and Instagram, which Facebook owns, f...</td>\n",
       "      <td>(Facebook, and, Instagram, ,, which, Facebook,...</td>\n",
       "    </tr>\n",
       "    <tr>\n",
       "      <th>text2</th>\n",
       "      <td>(CBC News)\\nRepublican lawmakers and previous ...</td>\n",
       "      <td>((, CBC, News, ), ., \\n , Republican, lawmaker...</td>\n",
       "    </tr>\n",
       "    <tr>\n",
       "      <th>text3</th>\n",
       "      <td>Federated States of Micronesia President David...</td>\n",
       "      <td>(Federated, States, of, Micronesia, President,...</td>\n",
       "    </tr>\n",
       "    <tr>\n",
       "      <th>text4</th>\n",
       "      <td>Chinese state media has launched its strongest...</td>\n",
       "      <td>(Chinese, state, media, has, launched, its, st...</td>\n",
       "    </tr>\n",
       "  </tbody>\n",
       "</table>\n",
       "</div>"
      ],
      "text/plain": [
       "                                                      text  \\\n",
       "text_id                                                      \n",
       "text1    Facebook and Instagram, which Facebook owns, f...   \n",
       "text2    (CBC News)\\nRepublican lawmakers and previous ...   \n",
       "text3    Federated States of Micronesia President David...   \n",
       "text4    Chinese state media has launched its strongest...   \n",
       "\n",
       "                                                spacy_text  \n",
       "text_id                                                     \n",
       "text1    (Facebook, and, Instagram, ,, which, Facebook,...  \n",
       "text2    ((, CBC, News, ), ., \\n , Republican, lawmaker...  \n",
       "text3    (Federated, States, of, Micronesia, President,...  \n",
       "text4    (Chinese, state, media, has, launched, its, st...  "
      ]
     },
     "execution_count": 5,
     "metadata": {},
     "output_type": "execute_result"
    }
   ],
   "source": [
    "# read the pandas dataframe containing the list of texts\n",
    "text_df = qt.process_xls(xlsx_upload)\n",
    "text_df.head()"
   ]
  },
  {
   "cell_type": "markdown",
   "id": "4039347d",
   "metadata": {},
   "source": [
    "## 3. Extract the quotes\n",
    "Once your texts have been stored in a pandas dataframe, we can begin to extract the quotes from the texts."
   ]
  },
  {
   "cell_type": "code",
   "execution_count": 6,
   "id": "9ab19f7a",
   "metadata": {},
   "outputs": [
    {
     "data": {
      "text/html": [
       "<div>\n",
       "<style scoped>\n",
       "    .dataframe tbody tr th:only-of-type {\n",
       "        vertical-align: middle;\n",
       "    }\n",
       "\n",
       "    .dataframe tbody tr th {\n",
       "        vertical-align: top;\n",
       "    }\n",
       "\n",
       "    .dataframe thead th {\n",
       "        text-align: right;\n",
       "    }\n",
       "</style>\n",
       "<table border=\"1\" class=\"dataframe\">\n",
       "  <thead>\n",
       "    <tr style=\"text-align: right;\">\n",
       "      <th></th>\n",
       "      <th>text_id</th>\n",
       "      <th>quote_id</th>\n",
       "      <th>quote</th>\n",
       "      <th>quote_index</th>\n",
       "      <th>quote_entities</th>\n",
       "      <th>speaker</th>\n",
       "      <th>speaker_index</th>\n",
       "      <th>speaker_entities</th>\n",
       "      <th>verb</th>\n",
       "      <th>verb_index</th>\n",
       "      <th>quote_token_count</th>\n",
       "      <th>quote_type</th>\n",
       "      <th>is_floating_quote</th>\n",
       "    </tr>\n",
       "  </thead>\n",
       "  <tbody>\n",
       "    <tr>\n",
       "      <th>0</th>\n",
       "      <td>text1</td>\n",
       "      <td>0</td>\n",
       "      <td>\"We didn't just see a breach at the Capitol. S...</td>\n",
       "      <td>(1052, 1238)</td>\n",
       "      <td>[(Capitol, FAC), (the United States, GPE), (Ca...</td>\n",
       "      <td>Grygiel</td>\n",
       "      <td>(1239, 1246)</td>\n",
       "      <td>[(Grygiel, PERSON)]</td>\n",
       "      <td>said</td>\n",
       "      <td>(1247, 1251)</td>\n",
       "      <td>38</td>\n",
       "      <td>Heuristic</td>\n",
       "      <td>False</td>\n",
       "    </tr>\n",
       "    <tr>\n",
       "      <th>1</th>\n",
       "      <td>text1</td>\n",
       "      <td>1</td>\n",
       "      <td>\"Social media is complicit in this because he ...</td>\n",
       "      <td>(1492, 1691)</td>\n",
       "      <td>[(the United States, GPE)]</td>\n",
       "      <td></td>\n",
       "      <td>(0, 0)</td>\n",
       "      <td>[]</td>\n",
       "      <td>caused</td>\n",
       "      <td>(1705, 1711)</td>\n",
       "      <td>39</td>\n",
       "      <td>Heuristic</td>\n",
       "      <td>False</td>\n",
       "    </tr>\n",
       "    <tr>\n",
       "      <th>2</th>\n",
       "      <td>text1</td>\n",
       "      <td>2</td>\n",
       "      <td>that Trump wouldn't be able to post for 24 hou...</td>\n",
       "      <td>(84, 173)</td>\n",
       "      <td>[(Trump, ORG), (Trump, PERSON)]</td>\n",
       "      <td>Facebook and Instagram, which Facebook owns,</td>\n",
       "      <td>(0, 44)</td>\n",
       "      <td>[(Instagram, ORG), (Facebook, ORG)]</td>\n",
       "      <td>announcing</td>\n",
       "      <td>(73, 83)</td>\n",
       "      <td>17</td>\n",
       "      <td>S V C</td>\n",
       "      <td>False</td>\n",
       "    </tr>\n",
       "    <tr>\n",
       "      <th>3</th>\n",
       "      <td>text1</td>\n",
       "      <td>3</td>\n",
       "      <td>that these actions follow years of hemming and...</td>\n",
       "      <td>(302, 489)</td>\n",
       "      <td>[(Trump, ORG), (Trump, PERSON)]</td>\n",
       "      <td>experts</td>\n",
       "      <td>(288, 295)</td>\n",
       "      <td>[]</td>\n",
       "      <td>noted</td>\n",
       "      <td>(296, 301)</td>\n",
       "      <td>26</td>\n",
       "      <td>S V C</td>\n",
       "      <td>False</td>\n",
       "    </tr>\n",
       "    <tr>\n",
       "      <th>4</th>\n",
       "      <td>text1</td>\n",
       "      <td>4</td>\n",
       "      <td>what happened in Washington, D.C., on Wednesda...</td>\n",
       "      <td>(592, 813)</td>\n",
       "      <td>[(Trump, ORG), (Trump, PERSON), (D.C., GPE), (...</td>\n",
       "      <td>Jennifer Grygiel, a Syracuse University commun...</td>\n",
       "      <td>(491, 586)</td>\n",
       "      <td>[(Syracuse University, ORG), (Grygiel, PERSON)...</td>\n",
       "      <td>said</td>\n",
       "      <td>(587, 591)</td>\n",
       "      <td>38</td>\n",
       "      <td>S V C</td>\n",
       "      <td>False</td>\n",
       "    </tr>\n",
       "  </tbody>\n",
       "</table>\n",
       "</div>"
      ],
      "text/plain": [
       "  text_id quote_id                                              quote  \\\n",
       "0   text1        0  \"We didn't just see a breach at the Capitol. S...   \n",
       "1   text1        1  \"Social media is complicit in this because he ...   \n",
       "2   text1        2  that Trump wouldn't be able to post for 24 hou...   \n",
       "3   text1        3  that these actions follow years of hemming and...   \n",
       "4   text1        4  what happened in Washington, D.C., on Wednesda...   \n",
       "\n",
       "    quote_index                                     quote_entities  \\\n",
       "0  (1052, 1238)  [(Capitol, FAC), (the United States, GPE), (Ca...   \n",
       "1  (1492, 1691)                         [(the United States, GPE)]   \n",
       "2     (84, 173)                    [(Trump, ORG), (Trump, PERSON)]   \n",
       "3    (302, 489)                    [(Trump, ORG), (Trump, PERSON)]   \n",
       "4    (592, 813)  [(Trump, ORG), (Trump, PERSON), (D.C., GPE), (...   \n",
       "\n",
       "                                             speaker speaker_index  \\\n",
       "0                                            Grygiel  (1239, 1246)   \n",
       "1                                                           (0, 0)   \n",
       "2       Facebook and Instagram, which Facebook owns,       (0, 44)   \n",
       "3                                            experts    (288, 295)   \n",
       "4  Jennifer Grygiel, a Syracuse University commun...    (491, 586)   \n",
       "\n",
       "                                    speaker_entities        verb  \\\n",
       "0                                [(Grygiel, PERSON)]        said   \n",
       "1                                                 []      caused   \n",
       "2                [(Instagram, ORG), (Facebook, ORG)]  announcing   \n",
       "3                                                 []       noted   \n",
       "4  [(Syracuse University, ORG), (Grygiel, PERSON)...        said   \n",
       "\n",
       "     verb_index  quote_token_count quote_type  is_floating_quote  \n",
       "0  (1247, 1251)                 38  Heuristic              False  \n",
       "1  (1705, 1711)                 39  Heuristic              False  \n",
       "2      (73, 83)                 17      S V C              False  \n",
       "3    (296, 301)                 26      S V C              False  \n",
       "4    (587, 591)                 38      S V C              False  "
      ]
     },
     "execution_count": 6,
     "metadata": {},
     "output_type": "execute_result"
    }
   ],
   "source": [
    "inc_ent = ['ORG','PERSON','GPE','NORP','FAC','LOC']\n",
    "\n",
    "quotes_df = qt.get_quotes(text_df, inc_ent, create_tree=False)\n",
    "quotes_df.head()"
   ]
  },
  {
   "cell_type": "markdown",
   "id": "079bc8a7",
   "metadata": {},
   "source": [
    "In general, the quotes are extracted either based on syntactic rules or heuristic (custom) rules. Some quotes can be stand-alone in a sentence, or followed by another quote (floating quote) in the same sentence.   \n",
    "\n",
    "**Quotation symbols:** *Q (Quotation mark), S (Speaker), V (Verb), C (Content)*  \n",
    "\n",
    "**Named Entities:**  *PERSON (People, including fictional), NORP (Nationalities or religious or political groups), FAC (Buildings, airports, highways, bridges, etc.), ORG (Companies, agencies, institutions, etc.), GPE (Countries, cities, states), LOC (Non-GPE locations, mountain ranges, bodies of water)*"
   ]
  },
  {
   "cell_type": "markdown",
   "id": "70be6223",
   "metadata": {},
   "source": [
    "## 4. Display the quotes\n",
    "Once you are have extracted the quotes, we \n",
    "can show a preview of the quotes using spaCy's visualisation tool, displaCy. All you need to do is run the below function and specify the text_id you wish to analyse."
   ]
  },
  {
   "cell_type": "code",
   "execution_count": 7,
   "id": "7f605478",
   "metadata": {},
   "outputs": [
    {
     "data": {
      "application/javascript": [
       "IPython.OutputArea.prototype._should_scroll = function(lines) {\n",
       "    return false;\n",
       "}\n"
      ],
      "text/plain": [
       "<IPython.core.display.Javascript object>"
      ]
     },
     "metadata": {},
     "output_type": "display_data"
    }
   ],
   "source": [
    "%%javascript\n",
    "IPython.OutputArea.prototype._should_scroll = function(lines) {\n",
    "    return false;\n",
    "}"
   ]
  },
  {
   "cell_type": "code",
   "execution_count": 8,
   "id": "e536e55b",
   "metadata": {},
   "outputs": [
    {
     "data": {
      "application/vnd.jupyter.widget-view+json": {
       "model_id": "2103fa3220934a42be51eea6030eccde",
       "version_major": 2,
       "version_minor": 0
      },
      "text/plain": [
       "VBox(children=(HTML(value='<b>Enter the text_id of the text you wish to analyse:</b>', placeholder=''), Text(v…"
      ]
     },
     "metadata": {},
     "output_type": "display_data"
    }
   ],
   "source": [
    "box = qt.analyse_quotes(text_df, quotes_df, inc_ent)\n",
    "box"
   ]
  },
  {
   "cell_type": "markdown",
   "id": "3607fd4b",
   "metadata": {},
   "source": [
    "## 5. Save your quotes\n",
    "Finally, you can save the quote pandas dataframe into an Excel spreadsheet and download them on your local computer."
   ]
  },
  {
   "cell_type": "code",
   "execution_count": 9,
   "id": "ec7d0163",
   "metadata": {},
   "outputs": [],
   "source": [
    "# save quotes_df into an Excel spreadsheet\n",
    "quotes_df.to_excel('./output/quotes.xlsx', index=False)"
   ]
  }
 ],
 "metadata": {
  "kernelspec": {
   "display_name": "Python 3 (ipykernel)",
   "language": "python",
   "name": "python3"
  },
  "language_info": {
   "codemirror_mode": {
    "name": "ipython",
    "version": 3
   },
   "file_extension": ".py",
   "mimetype": "text/x-python",
   "name": "python",
   "nbconvert_exporter": "python",
   "pygments_lexer": "ipython3",
   "version": "3.8.13"
  },
  "vscode": {
   "interpreter": {
    "hash": "50e9832c473c86713864f61257029e15f281e1af6f46dd8361ab2dc7ec7915dd"
   }
  }
 },
 "nbformat": 4,
 "nbformat_minor": 5
}
