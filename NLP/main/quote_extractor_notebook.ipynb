{
 "cells": [
  {
   "cell_type": "markdown",
   "id": "9c2662a3",
   "metadata": {},
   "source": [
    "# Quote Extractor\n",
    "In this notebook, we will use the *Quote Extractor* tool to extract quotes from a list of texts. In addition to extracting the quotes, the tool provides information about who the speakers are, the location of the quotes (and the speakers) in the text, the identified named entities such as Persons, Organisations, Government Entities, etc.  \n",
    "\n",
    "**Note:** This code has been adapted (with permission) from the [GenderGapTracker GitHub page](https://github.com/sfu-discourse-lab/GenderGapTracker/tree/master/NLP/main) and modified to run on a Jupyter Notebook. The quotation tool’s accuracy rate is evaluated in [this article](https://doi.org/10.1371/journal.pone.0245533)."
   ]
  },
  {
   "cell_type": "markdown",
   "id": "dc99ca86",
   "metadata": {},
   "source": [
    "## 1. Setup\n",
    "Before we begin, we need to import the QuotationTool and initiate it to run in this notebook."
   ]
  },
  {
   "cell_type": "code",
   "execution_count": null,
   "id": "e6720419",
   "metadata": {
    "scrolled": false
   },
   "outputs": [],
   "source": [
    "# import QuotationTool\n",
    "from extract_display_quotes import QuotationTool\n",
    "\n",
    "# initialize the QuotationTool\n",
    "qt = QuotationTool()"
   ]
  },
  {
   "cell_type": "markdown",
   "id": "7cf517c9",
   "metadata": {},
   "source": [
    "## 2. Load the data\n",
    "This notebook will allow you to extract quotes directly from a text file (or a number of text files). Alternatively, you can also extract quotes from a text column inside your excel spreadsheet, should you wish."
   ]
  },
  {
   "cell_type": "markdown",
   "id": "bfba236e",
   "metadata": {},
   "source": [
    "### 2.1. From a text file\n",
    "In order to extract quotes directly from a text file, please upload all your text files (.txt) below. Using the below code, we will access those files and extract the text into a pandas dataframe (in table format) for further processing."
   ]
  },
  {
   "cell_type": "code",
   "execution_count": null,
   "id": "2ad98bd1",
   "metadata": {
    "scrolled": false
   },
   "outputs": [],
   "source": [
    "# widget to upload .txt files\n",
    "txt_upload = qt.upload_files(file_type = 'text')\n",
    "txt_upload"
   ]
  },
  {
   "cell_type": "markdown",
   "id": "696c9490",
   "metadata": {},
   "source": [
    "Once you have uploaded the text files, you can run the below code to see a preview of the newly created pandas dataframe."
   ]
  },
  {
   "cell_type": "code",
   "execution_count": null,
   "id": "ba4e3912",
   "metadata": {
    "scrolled": false
   },
   "outputs": [],
   "source": [
    "# process the uploaded txt files and convert them into a pandas dataframe \n",
    "# for further analysis\n",
    "text_df = qt.process_txt(txt_upload)\n",
    "text_df.head()"
   ]
  },
  {
   "cell_type": "markdown",
   "id": "ce4802e6",
   "metadata": {},
   "source": [
    "### 2.2. From an Excel spreadsheet\n",
    "If you have already stored your texts in an Excel spreadsheet, you can use the below code to access your spreadsheet."
   ]
  },
  {
   "cell_type": "code",
   "execution_count": null,
   "id": "c03c2dad",
   "metadata": {
    "scrolled": false,
    "tags": [
     "hide-input"
    ]
   },
   "outputs": [],
   "source": [
    "# widget to upload .xlsx files\n",
    "xlsx_upload = qt.upload_files(file_type = 'excel')\n",
    "xlsx_upload"
   ]
  },
  {
   "cell_type": "code",
   "execution_count": null,
   "id": "708fc913",
   "metadata": {
    "scrolled": false
   },
   "outputs": [],
   "source": [
    "# read the pandas dataframe containing the list of texts\n",
    "text_df = qt.process_xls(xlsx_upload)\n",
    "text_df.head()"
   ]
  },
  {
   "cell_type": "markdown",
   "id": "4039347d",
   "metadata": {},
   "source": [
    "## 3. Extract the quotes\n",
    "Once your texts have been stored in a pandas dataframe, we can begin to extract the quotes from the texts."
   ]
  },
  {
   "cell_type": "code",
   "execution_count": null,
   "id": "9ab19f7a",
   "metadata": {
    "scrolled": false
   },
   "outputs": [],
   "source": [
    "inc_ent = ['ORG','PERSON','GPE','NORP','FAC','LOC']\n",
    "\n",
    "quotes_df = qt.get_quotes(inc_ent, create_tree=False)\n",
    "quotes_df.head()"
   ]
  },
  {
   "cell_type": "markdown",
   "id": "079bc8a7",
   "metadata": {},
   "source": [
    "In general, the quotes are extracted either based on syntactic rules or heuristic (custom) rules. Some quotes can be stand-alone in a sentence, or followed by another quote (floating quote) in the same sentence.   \n",
    "\n",
    "**Quotation symbols:** *Q (Quotation mark), S (Speaker), V (Verb), C (Content)*  \n",
    "\n",
    "**Named Entities:**  *PERSON (People, including fictional), NORP (Nationalities or religious or political groups), FAC (Buildings, airports, highways, bridges, etc.), ORG (Companies, agencies, institutions, etc.), GPE (Countries, cities, states), LOC (Non-GPE locations, mountain ranges, bodies of water)*"
   ]
  },
  {
   "cell_type": "markdown",
   "id": "70be6223",
   "metadata": {},
   "source": [
    "## 4. Display the quotes\n",
    "Once you have extracted the quotes, you can see a preview of the quotes using spaCy's visualisation tool, displaCy. All you need to do is run the below code and specify the text_id you wish to analyse and what entities to show.  \n",
    "\n",
    "The text, speakers, quotes and named entities can be saved as an html file. You also have the option to show the top five mentioned entities in the speakers and quotes."
   ]
  },
  {
   "cell_type": "code",
   "execution_count": null,
   "id": "e536e55b",
   "metadata": {
    "scrolled": false
   },
   "outputs": [],
   "source": [
    "box = qt.analyse_quotes(inc_ent)\n",
    "box"
   ]
  },
  {
   "cell_type": "markdown",
   "id": "3607fd4b",
   "metadata": {},
   "source": [
    "## 5. Save your quotes\n",
    "Finally, you can save the quote pandas dataframe into an Excel spreadsheet and download them on your local computer."
   ]
  },
  {
   "cell_type": "code",
   "execution_count": null,
   "id": "ec7d0163",
   "metadata": {
    "scrolled": false
   },
   "outputs": [],
   "source": [
    "# save quotes_df into an Excel spreadsheet\n",
    "quotes_df.to_excel('./output/quotes.xlsx', index=False)"
   ]
  }
 ],
 "metadata": {
  "kernelspec": {
   "display_name": "Python 3 (ipykernel)",
   "language": "python",
   "name": "python3"
  },
  "language_info": {
   "codemirror_mode": {
    "name": "ipython",
    "version": 3
   },
   "file_extension": ".py",
   "mimetype": "text/x-python",
   "name": "python",
   "nbconvert_exporter": "python",
   "pygments_lexer": "ipython3",
   "version": "3.8.13"
  },
  "vscode": {
   "interpreter": {
    "hash": "50e9832c473c86713864f61257029e15f281e1af6f46dd8361ab2dc7ec7915dd"
   }
  }
 },
 "nbformat": 4,
 "nbformat_minor": 5
}
